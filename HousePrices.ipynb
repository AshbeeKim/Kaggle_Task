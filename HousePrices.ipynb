{
  "nbformat": 4,
  "nbformat_minor": 0,
  "metadata": {
    "colab": {
      "name": "HousePrices.ipynb",
      "provenance": [],
      "collapsed_sections": [],
      "authorship_tag": "ABX9TyPyc9aKyQgNYKfsHvj8GqSU",
      "include_colab_link": true
    },
    "kernelspec": {
      "name": "python3",
      "display_name": "Python 3"
    },
    "language_info": {
      "name": "python"
    }
  },
  "cells": [
    {
      "cell_type": "markdown",
      "metadata": {
        "id": "view-in-github",
        "colab_type": "text"
      },
      "source": [
        "<a href=\"https://colab.research.google.com/github/AshbeeKim/Kaggle_task/blob/main/HousePrices.ipynb\" target=\"_parent\"><img src=\"https://colab.research.google.com/assets/colab-badge.svg\" alt=\"Open In Colab\"/></a>"
      ]
    },
    {
      "cell_type": "code",
      "metadata": {
        "colab": {
          "base_uri": "https://localhost:8080/"
        },
        "id": "RTf0eaa3Po9U",
        "outputId": "9424ab8e-e20e-4e61-bf11-60a90dc6a286"
      },
      "source": [
        "import os  \n",
        "os.environ['KAGGLE_CONFIG_DIR'] = \"/content/drive/MyDrive/data/kaggle\"   \n",
        "from google.colab import drive  \n",
        "drive.mount('/content/drive')  \n",
        "!cd /content/drive/MyDrive/data/kaggle  \n",
        "!kaggle competitions download -c house-prices-advanced-regression-techniques\n",
        "!unzip train.zip\n",
        "!unzip test.zip\n",
        "!unzip sample_submission.zip\n",
        "!ls  "
      ],
      "execution_count": 1,
      "outputs": [
        {
          "output_type": "stream",
          "text": [
            "Mounted at /content/drive\n",
            "Warning: Looks like you're using an outdated API Version, please consider updating (server 1.5.12 / client 1.5.4)\n",
            "Downloading sample_submission.csv to /content\n",
            "  0% 0.00/31.2k [00:00<?, ?B/s]\n",
            "100% 31.2k/31.2k [00:00<00:00, 22.9MB/s]\n",
            "Downloading test.csv to /content\n",
            "  0% 0.00/441k [00:00<?, ?B/s]\n",
            "100% 441k/441k [00:00<00:00, 60.3MB/s]\n",
            "Downloading data_description.txt to /content\n",
            "  0% 0.00/13.1k [00:00<?, ?B/s]\n",
            "100% 13.1k/13.1k [00:00<00:00, 11.3MB/s]\n",
            "Downloading train.csv to /content\n",
            "  0% 0.00/450k [00:00<?, ?B/s]\n",
            "100% 450k/450k [00:00<00:00, 62.9MB/s]\n",
            "unzip:  cannot find or open train.zip, train.zip.zip or train.zip.ZIP.\n",
            "unzip:  cannot find or open test.zip, test.zip.zip or test.zip.ZIP.\n",
            "unzip:  cannot find or open sample_submission.zip, sample_submission.zip.zip or sample_submission.zip.ZIP.\n",
            "data_description.txt  sample_data\t     test.csv\n",
            "drive\t\t      sample_submission.csv  train.csv\n"
          ],
          "name": "stdout"
        }
      ]
    },
    {
      "cell_type": "markdown",
      "metadata": {
        "id": "qnIeNUsi5y1y"
      },
      "source": [
        "## File descriptions\n",
        "*  train.csv - the training set\n",
        "*  test.csv - the test set\n",
        "*  data_description.txt - full description of each column, originally prepared by Dean De Cock but lightly edited to match the column names used here\n",
        "*  sample_submission.csv - a benchmark submission from a linear regression on year and month of sale, lot square footage, and number of bedrooms"
      ]
    },
    {
      "cell_type": "code",
      "metadata": {
        "id": "87EJcIwnQYQa"
      },
      "source": [
        "import numpy as np\n",
        "import pandas as pd\n",
        "import seaborn as sns\n",
        "import matplotlib\n",
        "from matplotlib import pyplot as plt\n",
        "%matplotlib inline\n",
        "import sklearn\n",
        "# import mglearn\n",
        "import graphviz\n",
        "import warnings\n",
        "warnings.filterwarnings('ignore')\n",
        "# import statsmodels.api as sm\n",
        "\n",
        "# 최대 줄 수 설정\n",
        "pd.set_option('display.max_rows', 1500)\n",
        "# 최대 열 수 설정\n",
        "pd.set_option('display.max_columns', 1500)\n",
        "# 표시할 가로의 길이\n",
        "pd.set_option('display.width', 1500)"
      ],
      "execution_count": 2,
      "outputs": []
    },
    {
      "cell_type": "markdown",
      "metadata": {
        "id": "LwP7JxJ0Kyt4"
      },
      "source": [
        ""
      ]
    },
    {
      "cell_type": "code",
      "metadata": {
        "id": "1HPYhABCQjB9"
      },
      "source": [
        "train = pd.read_csv('./train.csv')\n",
        "test = pd.read_csv('./test.csv')\n",
        "samplesubmisssion = pd.read_csv('./sample_submission.csv')\n",
        "\n",
        "data = train.copy()\n",
        "df = test.copy()\n",
        "sS = samplesubmisssion.copy()"
      ],
      "execution_count": 3,
      "outputs": []
    },
    {
      "cell_type": "code",
      "metadata": {
        "colab": {
          "base_uri": "https://localhost:8080/"
        },
        "id": "9pmLgTbSQomI",
        "outputId": "9d3afb29-1af9-4075-ebd6-1aacfcc7fc83"
      },
      "source": [
        "print(data.shape)\n",
        "print(test.shape)\n",
        "print(samplesubmisssion.shape)\n",
        "print('='*150)\n",
        "print(data.info())\n",
        "print(test.info())\n",
        "print(samplesubmisssion.info())"
      ],
      "execution_count": 4,
      "outputs": [
        {
          "output_type": "stream",
          "text": [
            "(1460, 81)\n",
            "(1459, 80)\n",
            "(1459, 2)\n",
            "======================================================================================================================================================\n",
            "<class 'pandas.core.frame.DataFrame'>\n",
            "RangeIndex: 1460 entries, 0 to 1459\n",
            "Data columns (total 81 columns):\n",
            " #   Column         Non-Null Count  Dtype  \n",
            "---  ------         --------------  -----  \n",
            " 0   Id             1460 non-null   int64  \n",
            " 1   MSSubClass     1460 non-null   int64  \n",
            " 2   MSZoning       1460 non-null   object \n",
            " 3   LotFrontage    1201 non-null   float64\n",
            " 4   LotArea        1460 non-null   int64  \n",
            " 5   Street         1460 non-null   object \n",
            " 6   Alley          91 non-null     object \n",
            " 7   LotShape       1460 non-null   object \n",
            " 8   LandContour    1460 non-null   object \n",
            " 9   Utilities      1460 non-null   object \n",
            " 10  LotConfig      1460 non-null   object \n",
            " 11  LandSlope      1460 non-null   object \n",
            " 12  Neighborhood   1460 non-null   object \n",
            " 13  Condition1     1460 non-null   object \n",
            " 14  Condition2     1460 non-null   object \n",
            " 15  BldgType       1460 non-null   object \n",
            " 16  HouseStyle     1460 non-null   object \n",
            " 17  OverallQual    1460 non-null   int64  \n",
            " 18  OverallCond    1460 non-null   int64  \n",
            " 19  YearBuilt      1460 non-null   int64  \n",
            " 20  YearRemodAdd   1460 non-null   int64  \n",
            " 21  RoofStyle      1460 non-null   object \n",
            " 22  RoofMatl       1460 non-null   object \n",
            " 23  Exterior1st    1460 non-null   object \n",
            " 24  Exterior2nd    1460 non-null   object \n",
            " 25  MasVnrType     1452 non-null   object \n",
            " 26  MasVnrArea     1452 non-null   float64\n",
            " 27  ExterQual      1460 non-null   object \n",
            " 28  ExterCond      1460 non-null   object \n",
            " 29  Foundation     1460 non-null   object \n",
            " 30  BsmtQual       1423 non-null   object \n",
            " 31  BsmtCond       1423 non-null   object \n",
            " 32  BsmtExposure   1422 non-null   object \n",
            " 33  BsmtFinType1   1423 non-null   object \n",
            " 34  BsmtFinSF1     1460 non-null   int64  \n",
            " 35  BsmtFinType2   1422 non-null   object \n",
            " 36  BsmtFinSF2     1460 non-null   int64  \n",
            " 37  BsmtUnfSF      1460 non-null   int64  \n",
            " 38  TotalBsmtSF    1460 non-null   int64  \n",
            " 39  Heating        1460 non-null   object \n",
            " 40  HeatingQC      1460 non-null   object \n",
            " 41  CentralAir     1460 non-null   object \n",
            " 42  Electrical     1459 non-null   object \n",
            " 43  1stFlrSF       1460 non-null   int64  \n",
            " 44  2ndFlrSF       1460 non-null   int64  \n",
            " 45  LowQualFinSF   1460 non-null   int64  \n",
            " 46  GrLivArea      1460 non-null   int64  \n",
            " 47  BsmtFullBath   1460 non-null   int64  \n",
            " 48  BsmtHalfBath   1460 non-null   int64  \n",
            " 49  FullBath       1460 non-null   int64  \n",
            " 50  HalfBath       1460 non-null   int64  \n",
            " 51  BedroomAbvGr   1460 non-null   int64  \n",
            " 52  KitchenAbvGr   1460 non-null   int64  \n",
            " 53  KitchenQual    1460 non-null   object \n",
            " 54  TotRmsAbvGrd   1460 non-null   int64  \n",
            " 55  Functional     1460 non-null   object \n",
            " 56  Fireplaces     1460 non-null   int64  \n",
            " 57  FireplaceQu    770 non-null    object \n",
            " 58  GarageType     1379 non-null   object \n",
            " 59  GarageYrBlt    1379 non-null   float64\n",
            " 60  GarageFinish   1379 non-null   object \n",
            " 61  GarageCars     1460 non-null   int64  \n",
            " 62  GarageArea     1460 non-null   int64  \n",
            " 63  GarageQual     1379 non-null   object \n",
            " 64  GarageCond     1379 non-null   object \n",
            " 65  PavedDrive     1460 non-null   object \n",
            " 66  WoodDeckSF     1460 non-null   int64  \n",
            " 67  OpenPorchSF    1460 non-null   int64  \n",
            " 68  EnclosedPorch  1460 non-null   int64  \n",
            " 69  3SsnPorch      1460 non-null   int64  \n",
            " 70  ScreenPorch    1460 non-null   int64  \n",
            " 71  PoolArea       1460 non-null   int64  \n",
            " 72  PoolQC         7 non-null      object \n",
            " 73  Fence          281 non-null    object \n",
            " 74  MiscFeature    54 non-null     object \n",
            " 75  MiscVal        1460 non-null   int64  \n",
            " 76  MoSold         1460 non-null   int64  \n",
            " 77  YrSold         1460 non-null   int64  \n",
            " 78  SaleType       1460 non-null   object \n",
            " 79  SaleCondition  1460 non-null   object \n",
            " 80  SalePrice      1460 non-null   int64  \n",
            "dtypes: float64(3), int64(35), object(43)\n",
            "memory usage: 924.0+ KB\n",
            "None\n",
            "<class 'pandas.core.frame.DataFrame'>\n",
            "RangeIndex: 1459 entries, 0 to 1458\n",
            "Data columns (total 80 columns):\n",
            " #   Column         Non-Null Count  Dtype  \n",
            "---  ------         --------------  -----  \n",
            " 0   Id             1459 non-null   int64  \n",
            " 1   MSSubClass     1459 non-null   int64  \n",
            " 2   MSZoning       1455 non-null   object \n",
            " 3   LotFrontage    1232 non-null   float64\n",
            " 4   LotArea        1459 non-null   int64  \n",
            " 5   Street         1459 non-null   object \n",
            " 6   Alley          107 non-null    object \n",
            " 7   LotShape       1459 non-null   object \n",
            " 8   LandContour    1459 non-null   object \n",
            " 9   Utilities      1457 non-null   object \n",
            " 10  LotConfig      1459 non-null   object \n",
            " 11  LandSlope      1459 non-null   object \n",
            " 12  Neighborhood   1459 non-null   object \n",
            " 13  Condition1     1459 non-null   object \n",
            " 14  Condition2     1459 non-null   object \n",
            " 15  BldgType       1459 non-null   object \n",
            " 16  HouseStyle     1459 non-null   object \n",
            " 17  OverallQual    1459 non-null   int64  \n",
            " 18  OverallCond    1459 non-null   int64  \n",
            " 19  YearBuilt      1459 non-null   int64  \n",
            " 20  YearRemodAdd   1459 non-null   int64  \n",
            " 21  RoofStyle      1459 non-null   object \n",
            " 22  RoofMatl       1459 non-null   object \n",
            " 23  Exterior1st    1458 non-null   object \n",
            " 24  Exterior2nd    1458 non-null   object \n",
            " 25  MasVnrType     1443 non-null   object \n",
            " 26  MasVnrArea     1444 non-null   float64\n",
            " 27  ExterQual      1459 non-null   object \n",
            " 28  ExterCond      1459 non-null   object \n",
            " 29  Foundation     1459 non-null   object \n",
            " 30  BsmtQual       1415 non-null   object \n",
            " 31  BsmtCond       1414 non-null   object \n",
            " 32  BsmtExposure   1415 non-null   object \n",
            " 33  BsmtFinType1   1417 non-null   object \n",
            " 34  BsmtFinSF1     1458 non-null   float64\n",
            " 35  BsmtFinType2   1417 non-null   object \n",
            " 36  BsmtFinSF2     1458 non-null   float64\n",
            " 37  BsmtUnfSF      1458 non-null   float64\n",
            " 38  TotalBsmtSF    1458 non-null   float64\n",
            " 39  Heating        1459 non-null   object \n",
            " 40  HeatingQC      1459 non-null   object \n",
            " 41  CentralAir     1459 non-null   object \n",
            " 42  Electrical     1459 non-null   object \n",
            " 43  1stFlrSF       1459 non-null   int64  \n",
            " 44  2ndFlrSF       1459 non-null   int64  \n",
            " 45  LowQualFinSF   1459 non-null   int64  \n",
            " 46  GrLivArea      1459 non-null   int64  \n",
            " 47  BsmtFullBath   1457 non-null   float64\n",
            " 48  BsmtHalfBath   1457 non-null   float64\n",
            " 49  FullBath       1459 non-null   int64  \n",
            " 50  HalfBath       1459 non-null   int64  \n",
            " 51  BedroomAbvGr   1459 non-null   int64  \n",
            " 52  KitchenAbvGr   1459 non-null   int64  \n",
            " 53  KitchenQual    1458 non-null   object \n",
            " 54  TotRmsAbvGrd   1459 non-null   int64  \n",
            " 55  Functional     1457 non-null   object \n",
            " 56  Fireplaces     1459 non-null   int64  \n",
            " 57  FireplaceQu    729 non-null    object \n",
            " 58  GarageType     1383 non-null   object \n",
            " 59  GarageYrBlt    1381 non-null   float64\n",
            " 60  GarageFinish   1381 non-null   object \n",
            " 61  GarageCars     1458 non-null   float64\n",
            " 62  GarageArea     1458 non-null   float64\n",
            " 63  GarageQual     1381 non-null   object \n",
            " 64  GarageCond     1381 non-null   object \n",
            " 65  PavedDrive     1459 non-null   object \n",
            " 66  WoodDeckSF     1459 non-null   int64  \n",
            " 67  OpenPorchSF    1459 non-null   int64  \n",
            " 68  EnclosedPorch  1459 non-null   int64  \n",
            " 69  3SsnPorch      1459 non-null   int64  \n",
            " 70  ScreenPorch    1459 non-null   int64  \n",
            " 71  PoolArea       1459 non-null   int64  \n",
            " 72  PoolQC         3 non-null      object \n",
            " 73  Fence          290 non-null    object \n",
            " 74  MiscFeature    51 non-null     object \n",
            " 75  MiscVal        1459 non-null   int64  \n",
            " 76  MoSold         1459 non-null   int64  \n",
            " 77  YrSold         1459 non-null   int64  \n",
            " 78  SaleType       1458 non-null   object \n",
            " 79  SaleCondition  1459 non-null   object \n",
            "dtypes: float64(11), int64(26), object(43)\n",
            "memory usage: 912.0+ KB\n",
            "None\n",
            "<class 'pandas.core.frame.DataFrame'>\n",
            "RangeIndex: 1459 entries, 0 to 1458\n",
            "Data columns (total 2 columns):\n",
            " #   Column     Non-Null Count  Dtype  \n",
            "---  ------     --------------  -----  \n",
            " 0   Id         1459 non-null   int64  \n",
            " 1   SalePrice  1459 non-null   float64\n",
            "dtypes: float64(1), int64(1)\n",
            "memory usage: 22.9 KB\n",
            "None\n"
          ],
          "name": "stdout"
        }
      ]
    },
    {
      "cell_type": "markdown",
      "metadata": {
        "id": "jmWwYCol6yDB"
      },
      "source": [
        "=> submission이 id별 SalesPrice맞추는 것\n",
        "\n",
        "=> test에는 SalesPrice만 없음(test에는 항상 정답은 없어야 함)\n",
        "\n",
        "=> id가 맞지 않음(train은 1부터 1460, test,subsmission는 1461부터 2919까지)"
      ]
    },
    {
      "cell_type": "code",
      "metadata": {
        "colab": {
          "base_uri": "https://localhost:8080/"
        },
        "id": "Ipf72Ohg72Ro",
        "outputId": "ed9babe7-c8f3-4096-c5b8-710071866ed3"
      },
      "source": [
        "print('='*150)\n",
        "print(data.describe().round(3))\n",
        "print('-'*150)\n",
        "print(test.describe().round(3))\n",
        "print('-'*150)\n",
        "print(samplesubmisssion.describe().round(3))\n",
        "#Id,MSSubClass,LotFrontage,LotArea,OverallQual,OverallCond,YearBuilt,YearRemodAdd,MasVnrArea,BsmtFinSF1,BsmtFinSF2,BsmtUnfSF,TotalBsmtSF,1stFlrSF,2ndFlrSF,LowQualFinSF,GrLivArea,BsmtFullBath,BsmtHalfBath,FullBath,HalfBath,BedroomAbvGr,KitchenAbvGr,TotRmsAbvGrd,Fireplaces,GarageYrBlt,GarageCars,GarageArea,WoodDeckSF,OpenPorchSF,EnclosedPorch,3SsnPorch,ScreenPorch,PoolArea,MiscVal,MoSold,YrSold,SalePrice\n",
        "#Id,MSSubClass,LotFrontage,LotArea,OverallQual,OverallCond,YearBuilt,YearRemodAdd,MasVnrArea,BsmtFinSF1,BsmtFinSF2,BsmtUnfSF,TotalBsmtSF,1stFlrSF,2ndFlrSF,LowQualFinSF,GrLivArea,BsmtFullBath,BsmtHalfBath,FullBath,HalfBath,BedroomAbvGr,KitchenAbvGr,TotRmsAbvGrd,Fireplaces,GarageYrBlt,GarageCars,GarageArea,WoodDeckSF,OpenPorchSF,EnclosedPorch,3SsnPorch,ScreenPorch,PoolArea,MiscVal,MoSold,YrSold\n",
        "#Id,SalesPrice"
      ],
      "execution_count": 5,
      "outputs": [
        {
          "output_type": "stream",
          "text": [
            "======================================================================================================================================================\n",
            "            Id  MSSubClass  LotFrontage     LotArea  OverallQual  OverallCond  YearBuilt  YearRemodAdd  MasVnrArea  BsmtFinSF1  BsmtFinSF2  BsmtUnfSF  TotalBsmtSF  1stFlrSF  2ndFlrSF  LowQualFinSF  GrLivArea  BsmtFullBath  BsmtHalfBath  FullBath  HalfBath  BedroomAbvGr  KitchenAbvGr  TotRmsAbvGrd  Fireplaces  GarageYrBlt  GarageCars  GarageArea  WoodDeckSF  OpenPorchSF  EnclosedPorch  3SsnPorch  ScreenPorch  PoolArea    MiscVal    MoSold    YrSold   SalePrice\n",
            "count  1460.00    1460.000     1201.000    1460.000     1460.000     1460.000   1460.000      1460.000    1452.000    1460.000    1460.000   1460.000     1460.000  1460.000  1460.000      1460.000   1460.000      1460.000      1460.000  1460.000  1460.000      1460.000      1460.000      1460.000    1460.000     1379.000    1460.000    1460.000    1460.000     1460.000       1460.000   1460.000     1460.000  1460.000   1460.000  1460.000  1460.000    1460.000\n",
            "mean    730.50      56.897       70.050   10516.828        6.099        5.575   1971.268      1984.866     103.685     443.640      46.549    567.240     1057.429  1162.627   346.992         5.845   1515.464         0.425         0.058     1.565     0.383         2.866         1.047         6.518       0.613     1978.506       1.767     472.980      94.245       46.660         21.954      3.410       15.061     2.759     43.489     6.322  2007.816  180921.196\n",
            "std     421.61      42.301       24.285    9981.265        1.383        1.113     30.203        20.645     181.066     456.098     161.319    441.867      438.705   386.588   436.528        48.623    525.480         0.519         0.239     0.551     0.503         0.816         0.220         1.625       0.645       24.690       0.747     213.805     125.339       66.256         61.119     29.317       55.757    40.177    496.123     2.704     1.328   79442.503\n",
            "min       1.00      20.000       21.000    1300.000        1.000        1.000   1872.000      1950.000       0.000       0.000       0.000      0.000        0.000   334.000     0.000         0.000    334.000         0.000         0.000     0.000     0.000         0.000         0.000         2.000       0.000     1900.000       0.000       0.000       0.000        0.000          0.000      0.000        0.000     0.000      0.000     1.000  2006.000   34900.000\n",
            "25%     365.75      20.000       59.000    7553.500        5.000        5.000   1954.000      1967.000       0.000       0.000       0.000    223.000      795.750   882.000     0.000         0.000   1129.500         0.000         0.000     1.000     0.000         2.000         1.000         5.000       0.000     1961.000       1.000     334.500       0.000        0.000          0.000      0.000        0.000     0.000      0.000     5.000  2007.000  129975.000\n",
            "50%     730.50      50.000       69.000    9478.500        6.000        5.000   1973.000      1994.000       0.000     383.500       0.000    477.500      991.500  1087.000     0.000         0.000   1464.000         0.000         0.000     2.000     0.000         3.000         1.000         6.000       1.000     1980.000       2.000     480.000       0.000       25.000          0.000      0.000        0.000     0.000      0.000     6.000  2008.000  163000.000\n",
            "75%    1095.25      70.000       80.000   11601.500        7.000        6.000   2000.000      2004.000     166.000     712.250       0.000    808.000     1298.250  1391.250   728.000         0.000   1776.750         1.000         0.000     2.000     1.000         3.000         1.000         7.000       1.000     2002.000       2.000     576.000     168.000       68.000          0.000      0.000        0.000     0.000      0.000     8.000  2009.000  214000.000\n",
            "max    1460.00     190.000      313.000  215245.000       10.000        9.000   2010.000      2010.000    1600.000    5644.000    1474.000   2336.000     6110.000  4692.000  2065.000       572.000   5642.000         3.000         2.000     3.000     2.000         8.000         3.000        14.000       3.000     2010.000       4.000    1418.000     857.000      547.000        552.000    508.000      480.000   738.000  15500.000    12.000  2010.000  755000.000\n",
            "------------------------------------------------------------------------------------------------------------------------------------------------------\n",
            "             Id  MSSubClass  LotFrontage    LotArea  OverallQual  OverallCond  YearBuilt  YearRemodAdd  MasVnrArea  BsmtFinSF1  BsmtFinSF2  BsmtUnfSF  TotalBsmtSF  1stFlrSF  2ndFlrSF  LowQualFinSF  GrLivArea  BsmtFullBath  BsmtHalfBath  FullBath  HalfBath  BedroomAbvGr  KitchenAbvGr  TotRmsAbvGrd  Fireplaces  GarageYrBlt  GarageCars  GarageArea  WoodDeckSF  OpenPorchSF  EnclosedPorch  3SsnPorch  ScreenPorch  PoolArea    MiscVal    MoSold    YrSold\n",
            "count  1459.000    1459.000     1232.000   1459.000     1459.000     1459.000   1459.000      1459.000    1444.000    1458.000    1458.000   1458.000     1458.000  1459.000  1459.000      1459.000   1459.000      1457.000      1457.000  1459.000  1459.000      1459.000      1459.000      1459.000    1459.000     1381.000    1458.000    1458.000    1459.000     1459.000       1459.000   1459.000     1459.000  1459.000   1459.000  1459.000  1459.000\n",
            "mean   2190.000      57.378       68.580   9819.161        6.079        5.554   1971.358      1983.663     100.709     439.204      52.619    554.295     1046.118  1156.535   325.968         3.544   1486.046         0.434         0.065     1.571     0.378         2.854         1.042         6.385       0.581     1977.721       1.766     472.769      93.175       48.314         24.243      1.794       17.064     1.744     58.168     6.104  2007.770\n",
            "std     421.321      42.747       22.377   4955.517        1.437        1.114     30.390        21.130     177.626     455.268     176.754    437.260      442.899   398.166   420.610        44.043    485.566         0.531         0.252     0.555     0.503         0.830         0.208         1.509       0.647       26.431       0.776     217.049     127.745       68.883         67.228     20.208       56.610    30.492    630.807     2.722     1.302\n",
            "min    1461.000      20.000       21.000   1470.000        1.000        1.000   1879.000      1950.000       0.000       0.000       0.000      0.000        0.000   407.000     0.000         0.000    407.000         0.000         0.000     0.000     0.000         0.000         0.000         3.000       0.000     1895.000       0.000       0.000       0.000        0.000          0.000      0.000        0.000     0.000      0.000     1.000  2006.000\n",
            "25%    1825.500      20.000       58.000   7391.000        5.000        5.000   1953.000      1963.000       0.000       0.000       0.000    219.250      784.000   873.500     0.000         0.000   1117.500         0.000         0.000     1.000     0.000         2.000         1.000         5.000       0.000     1959.000       1.000     318.000       0.000        0.000          0.000      0.000        0.000     0.000      0.000     4.000  2007.000\n",
            "50%    2190.000      50.000       67.000   9399.000        6.000        5.000   1973.000      1992.000       0.000     350.500       0.000    460.000      988.000  1079.000     0.000         0.000   1432.000         0.000         0.000     2.000     0.000         3.000         1.000         6.000       0.000     1979.000       2.000     480.000       0.000       28.000          0.000      0.000        0.000     0.000      0.000     6.000  2008.000\n",
            "75%    2554.500      70.000       80.000  11517.500        7.000        6.000   2001.000      2004.000     164.000     753.500       0.000    797.750     1305.000  1382.500   676.000         0.000   1721.000         1.000         0.000     2.000     1.000         3.000         1.000         7.000       1.000     2002.000       2.000     576.000     168.000       72.000          0.000      0.000        0.000     0.000      0.000     8.000  2009.000\n",
            "max    2919.000     190.000      200.000  56600.000       10.000        9.000   2010.000      2010.000    1290.000    4010.000    1526.000   2140.000     5095.000  5095.000  1862.000      1064.000   5095.000         3.000         2.000     4.000     2.000         6.000         2.000        15.000       4.000     2207.000       5.000    1488.000    1424.000      742.000       1012.000    360.000      576.000   800.000  17000.000    12.000  2010.000\n",
            "------------------------------------------------------------------------------------------------------------------------------------------------------\n",
            "             Id   SalePrice\n",
            "count  1459.000    1459.000\n",
            "mean   2190.000  179183.918\n",
            "std     421.321   16518.303\n",
            "min    1461.000  135751.319\n",
            "25%    1825.500  168703.011\n",
            "50%    2190.000  179208.666\n",
            "75%    2554.500  186789.409\n",
            "max    2919.000  281643.976\n"
          ],
          "name": "stdout"
        }
      ]
    },
    {
      "cell_type": "code",
      "metadata": {
        "colab": {
          "base_uri": "https://localhost:8080/"
        },
        "id": "9M8f63vuQrG4",
        "outputId": "0391e8e5-ba4f-4230-b4b0-3b3c4068b66d"
      },
      "source": [
        "print(data.columns) #'dropoff_datetime', 'trip_duration'는 test에 없고 train에만 있는 데이터, samplesubmission에는 'id'와 'trip_duration'만 있음\n",
        "print('-'*250)\n",
        "print(test.columns)\n",
        "print('-'*250)\n",
        "print(samplesubmisssion.columns)"
      ],
      "execution_count": 6,
      "outputs": [
        {
          "output_type": "stream",
          "text": [
            "Index(['Id', 'MSSubClass', 'MSZoning', 'LotFrontage', 'LotArea', 'Street', 'Alley', 'LotShape', 'LandContour', 'Utilities', 'LotConfig', 'LandSlope', 'Neighborhood', 'Condition1', 'Condition2', 'BldgType', 'HouseStyle', 'OverallQual', 'OverallCond', 'YearBuilt', 'YearRemodAdd', 'RoofStyle', 'RoofMatl', 'Exterior1st', 'Exterior2nd', 'MasVnrType', 'MasVnrArea', 'ExterQual', 'ExterCond', 'Foundation', 'BsmtQual', 'BsmtCond', 'BsmtExposure', 'BsmtFinType1', 'BsmtFinSF1', 'BsmtFinType2', 'BsmtFinSF2', 'BsmtUnfSF', 'TotalBsmtSF', 'Heating', 'HeatingQC', 'CentralAir', 'Electrical', '1stFlrSF', '2ndFlrSF', 'LowQualFinSF', 'GrLivArea', 'BsmtFullBath', 'BsmtHalfBath', 'FullBath', 'HalfBath', 'BedroomAbvGr', 'KitchenAbvGr', 'KitchenQual', 'TotRmsAbvGrd', 'Functional', 'Fireplaces', 'FireplaceQu', 'GarageType', 'GarageYrBlt', 'GarageFinish', 'GarageCars', 'GarageArea', 'GarageQual', 'GarageCond', 'PavedDrive', 'WoodDeckSF', 'OpenPorchSF', 'EnclosedPorch', '3SsnPorch', 'ScreenPorch', 'PoolArea', 'PoolQC', 'Fence', 'MiscFeature', 'MiscVal', 'MoSold', 'YrSold', 'SaleType', 'SaleCondition', 'SalePrice'], dtype='object')\n",
            "----------------------------------------------------------------------------------------------------------------------------------------------------------------------------------------------------------------------------------------------------------\n",
            "Index(['Id', 'MSSubClass', 'MSZoning', 'LotFrontage', 'LotArea', 'Street', 'Alley', 'LotShape', 'LandContour', 'Utilities', 'LotConfig', 'LandSlope', 'Neighborhood', 'Condition1', 'Condition2', 'BldgType', 'HouseStyle', 'OverallQual', 'OverallCond', 'YearBuilt', 'YearRemodAdd', 'RoofStyle', 'RoofMatl', 'Exterior1st', 'Exterior2nd', 'MasVnrType', 'MasVnrArea', 'ExterQual', 'ExterCond', 'Foundation', 'BsmtQual', 'BsmtCond', 'BsmtExposure', 'BsmtFinType1', 'BsmtFinSF1', 'BsmtFinType2', 'BsmtFinSF2', 'BsmtUnfSF', 'TotalBsmtSF', 'Heating', 'HeatingQC', 'CentralAir', 'Electrical', '1stFlrSF', '2ndFlrSF', 'LowQualFinSF', 'GrLivArea', 'BsmtFullBath', 'BsmtHalfBath', 'FullBath', 'HalfBath', 'BedroomAbvGr', 'KitchenAbvGr', 'KitchenQual', 'TotRmsAbvGrd', 'Functional', 'Fireplaces', 'FireplaceQu', 'GarageType', 'GarageYrBlt', 'GarageFinish', 'GarageCars', 'GarageArea', 'GarageQual', 'GarageCond', 'PavedDrive', 'WoodDeckSF', 'OpenPorchSF', 'EnclosedPorch', '3SsnPorch', 'ScreenPorch', 'PoolArea', 'PoolQC', 'Fence', 'MiscFeature', 'MiscVal', 'MoSold', 'YrSold', 'SaleType', 'SaleCondition'], dtype='object')\n",
            "----------------------------------------------------------------------------------------------------------------------------------------------------------------------------------------------------------------------------------------------------------\n",
            "Index(['Id', 'SalePrice'], dtype='object')\n"
          ],
          "name": "stdout"
        }
      ]
    },
    {
      "cell_type": "code",
      "metadata": {
        "colab": {
          "base_uri": "https://localhost:8080/"
        },
        "id": "CH2gzSGUQ0bi",
        "outputId": "def193e1-8085-4717-dfa9-01aa148a21dc"
      },
      "source": [
        "print(data.head())\n",
        "print(data.tail())"
      ],
      "execution_count": 7,
      "outputs": [
        {
          "output_type": "stream",
          "text": [
            "   Id  MSSubClass MSZoning  LotFrontage  LotArea Street Alley LotShape LandContour Utilities LotConfig LandSlope Neighborhood Condition1 Condition2 BldgType HouseStyle  OverallQual  OverallCond  YearBuilt  YearRemodAdd RoofStyle RoofMatl Exterior1st Exterior2nd MasVnrType  MasVnrArea ExterQual ExterCond Foundation BsmtQual BsmtCond BsmtExposure BsmtFinType1  BsmtFinSF1 BsmtFinType2  BsmtFinSF2  BsmtUnfSF  TotalBsmtSF Heating HeatingQC CentralAir Electrical  1stFlrSF  2ndFlrSF  LowQualFinSF  GrLivArea  BsmtFullBath  BsmtHalfBath  FullBath  HalfBath  BedroomAbvGr  KitchenAbvGr KitchenQual  TotRmsAbvGrd Functional  Fireplaces FireplaceQu GarageType  GarageYrBlt GarageFinish  GarageCars  GarageArea GarageQual GarageCond PavedDrive  WoodDeckSF  OpenPorchSF  EnclosedPorch  3SsnPorch  ScreenPorch  PoolArea PoolQC Fence MiscFeature  MiscVal  MoSold  YrSold SaleType SaleCondition  SalePrice\n",
            "0   1          60       RL         65.0     8450   Pave   NaN      Reg         Lvl    AllPub    Inside       Gtl      CollgCr       Norm       Norm     1Fam     2Story            7            5       2003          2003     Gable  CompShg     VinylSd     VinylSd    BrkFace       196.0        Gd        TA      PConc       Gd       TA           No          GLQ         706          Unf           0        150          856    GasA        Ex          Y      SBrkr       856       854             0       1710             1             0         2         1             3             1          Gd             8        Typ           0         NaN     Attchd       2003.0          RFn           2         548         TA         TA          Y           0           61              0          0            0         0    NaN   NaN         NaN        0       2    2008       WD        Normal     208500\n",
            "1   2          20       RL         80.0     9600   Pave   NaN      Reg         Lvl    AllPub       FR2       Gtl      Veenker      Feedr       Norm     1Fam     1Story            6            8       1976          1976     Gable  CompShg     MetalSd     MetalSd       None         0.0        TA        TA     CBlock       Gd       TA           Gd          ALQ         978          Unf           0        284         1262    GasA        Ex          Y      SBrkr      1262         0             0       1262             0             1         2         0             3             1          TA             6        Typ           1          TA     Attchd       1976.0          RFn           2         460         TA         TA          Y         298            0              0          0            0         0    NaN   NaN         NaN        0       5    2007       WD        Normal     181500\n",
            "2   3          60       RL         68.0    11250   Pave   NaN      IR1         Lvl    AllPub    Inside       Gtl      CollgCr       Norm       Norm     1Fam     2Story            7            5       2001          2002     Gable  CompShg     VinylSd     VinylSd    BrkFace       162.0        Gd        TA      PConc       Gd       TA           Mn          GLQ         486          Unf           0        434          920    GasA        Ex          Y      SBrkr       920       866             0       1786             1             0         2         1             3             1          Gd             6        Typ           1          TA     Attchd       2001.0          RFn           2         608         TA         TA          Y           0           42              0          0            0         0    NaN   NaN         NaN        0       9    2008       WD        Normal     223500\n",
            "3   4          70       RL         60.0     9550   Pave   NaN      IR1         Lvl    AllPub    Corner       Gtl      Crawfor       Norm       Norm     1Fam     2Story            7            5       1915          1970     Gable  CompShg     Wd Sdng     Wd Shng       None         0.0        TA        TA     BrkTil       TA       Gd           No          ALQ         216          Unf           0        540          756    GasA        Gd          Y      SBrkr       961       756             0       1717             1             0         1         0             3             1          Gd             7        Typ           1          Gd     Detchd       1998.0          Unf           3         642         TA         TA          Y           0           35            272          0            0         0    NaN   NaN         NaN        0       2    2006       WD       Abnorml     140000\n",
            "4   5          60       RL         84.0    14260   Pave   NaN      IR1         Lvl    AllPub       FR2       Gtl      NoRidge       Norm       Norm     1Fam     2Story            8            5       2000          2000     Gable  CompShg     VinylSd     VinylSd    BrkFace       350.0        Gd        TA      PConc       Gd       TA           Av          GLQ         655          Unf           0        490         1145    GasA        Ex          Y      SBrkr      1145      1053             0       2198             1             0         2         1             4             1          Gd             9        Typ           1          TA     Attchd       2000.0          RFn           3         836         TA         TA          Y         192           84              0          0            0         0    NaN   NaN         NaN        0      12    2008       WD        Normal     250000\n",
            "        Id  MSSubClass MSZoning  LotFrontage  LotArea Street Alley LotShape LandContour Utilities LotConfig LandSlope Neighborhood Condition1 Condition2 BldgType HouseStyle  OverallQual  OverallCond  YearBuilt  YearRemodAdd RoofStyle RoofMatl Exterior1st Exterior2nd MasVnrType  MasVnrArea ExterQual ExterCond Foundation BsmtQual BsmtCond BsmtExposure BsmtFinType1  BsmtFinSF1 BsmtFinType2  BsmtFinSF2  BsmtUnfSF  TotalBsmtSF Heating HeatingQC CentralAir Electrical  1stFlrSF  2ndFlrSF  LowQualFinSF  GrLivArea  BsmtFullBath  BsmtHalfBath  FullBath  HalfBath  BedroomAbvGr  KitchenAbvGr KitchenQual  TotRmsAbvGrd Functional  Fireplaces FireplaceQu GarageType  GarageYrBlt GarageFinish  GarageCars  GarageArea GarageQual GarageCond PavedDrive  WoodDeckSF  OpenPorchSF  EnclosedPorch  3SsnPorch  ScreenPorch  PoolArea PoolQC  Fence MiscFeature  MiscVal  MoSold  YrSold SaleType SaleCondition  SalePrice\n",
            "1455  1456          60       RL         62.0     7917   Pave   NaN      Reg         Lvl    AllPub    Inside       Gtl      Gilbert       Norm       Norm     1Fam     2Story            6            5       1999          2000     Gable  CompShg     VinylSd     VinylSd       None         0.0        TA        TA      PConc       Gd       TA           No          Unf           0          Unf           0        953          953    GasA        Ex          Y      SBrkr       953       694             0       1647             0             0         2         1             3             1          TA             7        Typ           1          TA     Attchd       1999.0          RFn           2         460         TA         TA          Y           0           40              0          0            0         0    NaN    NaN         NaN        0       8    2007       WD        Normal     175000\n",
            "1456  1457          20       RL         85.0    13175   Pave   NaN      Reg         Lvl    AllPub    Inside       Gtl       NWAmes       Norm       Norm     1Fam     1Story            6            6       1978          1988     Gable  CompShg     Plywood     Plywood      Stone       119.0        TA        TA     CBlock       Gd       TA           No          ALQ         790          Rec         163        589         1542    GasA        TA          Y      SBrkr      2073         0             0       2073             1             0         2         0             3             1          TA             7       Min1           2          TA     Attchd       1978.0          Unf           2         500         TA         TA          Y         349            0              0          0            0         0    NaN  MnPrv         NaN        0       2    2010       WD        Normal     210000\n",
            "1457  1458          70       RL         66.0     9042   Pave   NaN      Reg         Lvl    AllPub    Inside       Gtl      Crawfor       Norm       Norm     1Fam     2Story            7            9       1941          2006     Gable  CompShg     CemntBd     CmentBd       None         0.0        Ex        Gd      Stone       TA       Gd           No          GLQ         275          Unf           0        877         1152    GasA        Ex          Y      SBrkr      1188      1152             0       2340             0             0         2         0             4             1          Gd             9        Typ           2          Gd     Attchd       1941.0          RFn           1         252         TA         TA          Y           0           60              0          0            0         0    NaN  GdPrv        Shed     2500       5    2010       WD        Normal     266500\n",
            "1458  1459          20       RL         68.0     9717   Pave   NaN      Reg         Lvl    AllPub    Inside       Gtl        NAmes       Norm       Norm     1Fam     1Story            5            6       1950          1996       Hip  CompShg     MetalSd     MetalSd       None         0.0        TA        TA     CBlock       TA       TA           Mn          GLQ          49          Rec        1029          0         1078    GasA        Gd          Y      FuseA      1078         0             0       1078             1             0         1         0             2             1          Gd             5        Typ           0         NaN     Attchd       1950.0          Unf           1         240         TA         TA          Y         366            0            112          0            0         0    NaN    NaN         NaN        0       4    2010       WD        Normal     142125\n",
            "1459  1460          20       RL         75.0     9937   Pave   NaN      Reg         Lvl    AllPub    Inside       Gtl      Edwards       Norm       Norm     1Fam     1Story            5            6       1965          1965     Gable  CompShg     HdBoard     HdBoard       None         0.0        Gd        TA     CBlock       TA       TA           No          BLQ         830          LwQ         290        136         1256    GasA        Gd          Y      SBrkr      1256         0             0       1256             1             0         1         1             3             1          TA             6        Typ           0         NaN     Attchd       1965.0          Fin           1         276         TA         TA          Y         736           68              0          0            0         0    NaN    NaN         NaN        0       6    2008       WD        Normal     147500\n"
          ],
          "name": "stdout"
        }
      ]
    },
    {
      "cell_type": "code",
      "metadata": {
        "colab": {
          "base_uri": "https://localhost:8080/"
        },
        "id": "NG7VZUVYQ4ey",
        "outputId": "fd14fb65-66b8-4f26-a5c6-7e3bd8ce9518"
      },
      "source": [
        "print(test.head())\n",
        "print(test.tail())"
      ],
      "execution_count": 8,
      "outputs": [
        {
          "output_type": "stream",
          "text": [
            "     Id  MSSubClass MSZoning  LotFrontage  LotArea Street Alley LotShape LandContour Utilities LotConfig LandSlope Neighborhood Condition1 Condition2 BldgType HouseStyle  OverallQual  OverallCond  YearBuilt  YearRemodAdd RoofStyle RoofMatl Exterior1st Exterior2nd MasVnrType  MasVnrArea ExterQual ExterCond Foundation BsmtQual BsmtCond BsmtExposure BsmtFinType1  BsmtFinSF1 BsmtFinType2  BsmtFinSF2  BsmtUnfSF  TotalBsmtSF Heating HeatingQC CentralAir Electrical  1stFlrSF  2ndFlrSF  LowQualFinSF  GrLivArea  BsmtFullBath  BsmtHalfBath  FullBath  HalfBath  BedroomAbvGr  KitchenAbvGr KitchenQual  TotRmsAbvGrd Functional  Fireplaces FireplaceQu GarageType  GarageYrBlt GarageFinish  GarageCars  GarageArea GarageQual GarageCond PavedDrive  WoodDeckSF  OpenPorchSF  EnclosedPorch  3SsnPorch  ScreenPorch  PoolArea PoolQC  Fence MiscFeature  MiscVal  MoSold  YrSold SaleType SaleCondition\n",
            "0  1461          20       RH         80.0    11622   Pave   NaN      Reg         Lvl    AllPub    Inside       Gtl        NAmes      Feedr       Norm     1Fam     1Story            5            6       1961          1961     Gable  CompShg     VinylSd     VinylSd       None         0.0        TA        TA     CBlock       TA       TA           No          Rec       468.0          LwQ       144.0      270.0        882.0    GasA        TA          Y      SBrkr       896         0             0        896           0.0           0.0         1         0             2             1          TA             5        Typ           0         NaN     Attchd       1961.0          Unf         1.0       730.0         TA         TA          Y         140            0              0          0          120         0    NaN  MnPrv         NaN        0       6    2010       WD        Normal\n",
            "1  1462          20       RL         81.0    14267   Pave   NaN      IR1         Lvl    AllPub    Corner       Gtl        NAmes       Norm       Norm     1Fam     1Story            6            6       1958          1958       Hip  CompShg     Wd Sdng     Wd Sdng    BrkFace       108.0        TA        TA     CBlock       TA       TA           No          ALQ       923.0          Unf         0.0      406.0       1329.0    GasA        TA          Y      SBrkr      1329         0             0       1329           0.0           0.0         1         1             3             1          Gd             6        Typ           0         NaN     Attchd       1958.0          Unf         1.0       312.0         TA         TA          Y         393           36              0          0            0         0    NaN    NaN        Gar2    12500       6    2010       WD        Normal\n",
            "2  1463          60       RL         74.0    13830   Pave   NaN      IR1         Lvl    AllPub    Inside       Gtl      Gilbert       Norm       Norm     1Fam     2Story            5            5       1997          1998     Gable  CompShg     VinylSd     VinylSd       None         0.0        TA        TA      PConc       Gd       TA           No          GLQ       791.0          Unf         0.0      137.0        928.0    GasA        Gd          Y      SBrkr       928       701             0       1629           0.0           0.0         2         1             3             1          TA             6        Typ           1          TA     Attchd       1997.0          Fin         2.0       482.0         TA         TA          Y         212           34              0          0            0         0    NaN  MnPrv         NaN        0       3    2010       WD        Normal\n",
            "3  1464          60       RL         78.0     9978   Pave   NaN      IR1         Lvl    AllPub    Inside       Gtl      Gilbert       Norm       Norm     1Fam     2Story            6            6       1998          1998     Gable  CompShg     VinylSd     VinylSd    BrkFace        20.0        TA        TA      PConc       TA       TA           No          GLQ       602.0          Unf         0.0      324.0        926.0    GasA        Ex          Y      SBrkr       926       678             0       1604           0.0           0.0         2         1             3             1          Gd             7        Typ           1          Gd     Attchd       1998.0          Fin         2.0       470.0         TA         TA          Y         360           36              0          0            0         0    NaN    NaN         NaN        0       6    2010       WD        Normal\n",
            "4  1465         120       RL         43.0     5005   Pave   NaN      IR1         HLS    AllPub    Inside       Gtl      StoneBr       Norm       Norm   TwnhsE     1Story            8            5       1992          1992     Gable  CompShg     HdBoard     HdBoard       None         0.0        Gd        TA      PConc       Gd       TA           No          ALQ       263.0          Unf         0.0     1017.0       1280.0    GasA        Ex          Y      SBrkr      1280         0             0       1280           0.0           0.0         2         0             2             1          Gd             5        Typ           0         NaN     Attchd       1992.0          RFn         2.0       506.0         TA         TA          Y           0           82              0          0          144         0    NaN    NaN         NaN        0       1    2010       WD        Normal\n",
            "        Id  MSSubClass MSZoning  LotFrontage  LotArea Street Alley LotShape LandContour Utilities LotConfig LandSlope Neighborhood Condition1 Condition2 BldgType HouseStyle  OverallQual  OverallCond  YearBuilt  YearRemodAdd RoofStyle RoofMatl Exterior1st Exterior2nd MasVnrType  MasVnrArea ExterQual ExterCond Foundation BsmtQual BsmtCond BsmtExposure BsmtFinType1  BsmtFinSF1 BsmtFinType2  BsmtFinSF2  BsmtUnfSF  TotalBsmtSF Heating HeatingQC CentralAir Electrical  1stFlrSF  2ndFlrSF  LowQualFinSF  GrLivArea  BsmtFullBath  BsmtHalfBath  FullBath  HalfBath  BedroomAbvGr  KitchenAbvGr KitchenQual  TotRmsAbvGrd Functional  Fireplaces FireplaceQu GarageType  GarageYrBlt GarageFinish  GarageCars  GarageArea GarageQual GarageCond PavedDrive  WoodDeckSF  OpenPorchSF  EnclosedPorch  3SsnPorch  ScreenPorch  PoolArea PoolQC  Fence MiscFeature  MiscVal  MoSold  YrSold SaleType SaleCondition\n",
            "1454  2915         160       RM         21.0     1936   Pave   NaN      Reg         Lvl    AllPub    Inside       Gtl      MeadowV       Norm       Norm    Twnhs     2Story            4            7       1970          1970     Gable  CompShg     CemntBd     CmentBd       None         0.0        TA        TA     CBlock       TA       TA           No          Unf         0.0          Unf         0.0      546.0        546.0    GasA        Gd          Y      SBrkr       546       546             0       1092           0.0           0.0         1         1             3             1          TA             5        Typ           0         NaN        NaN          NaN          NaN         0.0         0.0        NaN        NaN          Y           0            0              0          0            0         0    NaN    NaN         NaN        0       6    2006       WD        Normal\n",
            "1455  2916         160       RM         21.0     1894   Pave   NaN      Reg         Lvl    AllPub    Inside       Gtl      MeadowV       Norm       Norm   TwnhsE     2Story            4            5       1970          1970     Gable  CompShg     CemntBd     CmentBd       None         0.0        TA        TA     CBlock       TA       TA           No          Rec       252.0          Unf         0.0      294.0        546.0    GasA        TA          Y      SBrkr       546       546             0       1092           0.0           0.0         1         1             3             1          TA             6        Typ           0         NaN    CarPort       1970.0          Unf         1.0       286.0         TA         TA          Y           0           24              0          0            0         0    NaN    NaN         NaN        0       4    2006       WD       Abnorml\n",
            "1456  2917          20       RL        160.0    20000   Pave   NaN      Reg         Lvl    AllPub    Inside       Gtl      Mitchel       Norm       Norm     1Fam     1Story            5            7       1960          1996     Gable  CompShg     VinylSd     VinylSd       None         0.0        TA        TA     CBlock       TA       TA           No          ALQ      1224.0          Unf         0.0        0.0       1224.0    GasA        Ex          Y      SBrkr      1224         0             0       1224           1.0           0.0         1         0             4             1          TA             7        Typ           1          TA     Detchd       1960.0          Unf         2.0       576.0         TA         TA          Y         474            0              0          0            0         0    NaN    NaN         NaN        0       9    2006       WD       Abnorml\n",
            "1457  2918          85       RL         62.0    10441   Pave   NaN      Reg         Lvl    AllPub    Inside       Gtl      Mitchel       Norm       Norm     1Fam     SFoyer            5            5       1992          1992     Gable  CompShg     HdBoard     Wd Shng       None         0.0        TA        TA      PConc       Gd       TA           Av          GLQ       337.0          Unf         0.0      575.0        912.0    GasA        TA          Y      SBrkr       970         0             0        970           0.0           1.0         1         0             3             1          TA             6        Typ           0         NaN        NaN          NaN          NaN         0.0         0.0        NaN        NaN          Y          80           32              0          0            0         0    NaN  MnPrv        Shed      700       7    2006       WD        Normal\n",
            "1458  2919          60       RL         74.0     9627   Pave   NaN      Reg         Lvl    AllPub    Inside       Mod      Mitchel       Norm       Norm     1Fam     2Story            7            5       1993          1994     Gable  CompShg     HdBoard     HdBoard    BrkFace        94.0        TA        TA      PConc       Gd       TA           Av          LwQ       758.0          Unf         0.0      238.0        996.0    GasA        Ex          Y      SBrkr       996      1004             0       2000           0.0           0.0         2         1             3             1          TA             9        Typ           1          TA     Attchd       1993.0          Fin         3.0       650.0         TA         TA          Y         190           48              0          0            0         0    NaN    NaN         NaN        0      11    2006       WD        Normal\n"
          ],
          "name": "stdout"
        }
      ]
    },
    {
      "cell_type": "code",
      "metadata": {
        "colab": {
          "base_uri": "https://localhost:8080/"
        },
        "id": "p5qnaveKQ9Tj",
        "outputId": "087932e9-fd5e-4bc7-c72e-0e20ca68686a"
      },
      "source": [
        "print(samplesubmisssion.head())\n",
        "print(samplesubmisssion.tail())"
      ],
      "execution_count": 9,
      "outputs": [
        {
          "output_type": "stream",
          "text": [
            "     Id      SalePrice\n",
            "0  1461  169277.052498\n",
            "1  1462  187758.393989\n",
            "2  1463  183583.683570\n",
            "3  1464  179317.477511\n",
            "4  1465  150730.079977\n",
            "        Id      SalePrice\n",
            "1454  2915  167081.220949\n",
            "1455  2916  164788.778231\n",
            "1456  2917  219222.423400\n",
            "1457  2918  184924.279659\n",
            "1458  2919  187741.866657\n"
          ],
          "name": "stdout"
        }
      ]
    },
    {
      "cell_type": "markdown",
      "metadata": {
        "id": "wPMnu0yK5fMh"
      },
      "source": [
        "## Data fields\n",
        "Here's a brief version of what you'll find in the data description file.\n",
        "\n",
        "* SalePrice - the property's sale price in dollars. This is the target variable that you're trying to predict.\n",
        "* MSSubClass: The building class\n",
        "* MSZoning: The general zoning classification\n",
        "* LotFrontage: Linear feet of street connected to property\n",
        "* LotArea: Lot size in square feet\n",
        "* Street: Type of road access\n",
        "* Alley: Type of alley access\n",
        "* LotShape: General shape of property\n",
        "* LandContour: Flatness of the property\n",
        "* Utilities: Type of utilities available\n",
        "* LotConfig: Lot configuration\n",
        "* LandSlope: Slope of property\n",
        "* Neighborhood: Physical locations within Ames city limits\n",
        "* Condition1: Proximity to main road or railroad\n",
        "* Condition2: Proximity to main road or railroad (if a second is present)\n",
        "* BldgType: Type of dwelling\n",
        "* HouseStyle: Style of dwelling\n",
        "* OverallQual: Overall material and finish quality\n",
        "* OverallCond: Overall condition rating\n",
        "* YearBuilt: Original construction date\n",
        "* YearRemodAdd: Remodel date\n",
        "* RoofStyle: Type of roof\n",
        "* RoofMatl: Roof material\n",
        "* Exterior1st: Exterior covering on house\n",
        "* Exterior2nd: Exterior covering on house (if more than one material)\n",
        "* MasVnrType: Masonry veneer type\n",
        "* MasVnrArea: Masonry veneer area in square feet\n",
        "* ExterQual: Exterior material quality\n",
        "* ExterCond: Present condition of the material on the exterior\n",
        "* Foundation: Type of foundation\n",
        "* BsmtQual: Height of the basement\n",
        "* BsmtCond: General condition of the basement\n",
        "* BsmtExposure: Walkout or garden level basement walls\n",
        "* BsmtFinType1: Quality of basement finished area\n",
        "* BsmtFinSF1: Type 1 finished square feet\n",
        "* BsmtFinType2: Quality of second finished area (if present)\n",
        "* BsmtFinSF2: Type 2 finished square feet\n",
        "* BsmtUnfSF: Unfinished square feet of basement area\n",
        "* TotalBsmtSF: Total square feet of basement area\n",
        "* Heating: Type of heating\n",
        "* HeatingQC: Heating quality and condition\n",
        "* CentralAir: Central air conditioning\n",
        "* Electrical: Electrical system\n",
        "* 1stFlrSF: First Floor square feet\n",
        "* 2ndFlrSF: Second floor square feet\n",
        "* LowQualFinSF: Low quality finished square feet (all floors)\n",
        "* GrLivArea: Above grade (ground) living area square feet\n",
        "* BsmtFullBath: Basement full bathrooms\n",
        "* BsmtHalfBath: Basement half bathrooms\n",
        "* FullBath: Full bathrooms above grade\n",
        "* HalfBath: Half baths above grade\n",
        "* Bedroom: Number of bedrooms above basement level\n",
        "* Kitchen: Number of kitchens\n",
        "* KitchenQual: Kitchen quality\n",
        "* TotRmsAbvGrd: Total rooms above grade (does not include bathrooms)\n",
        "* Functional: Home functionality rating\n",
        "* Fireplaces: Number of fireplaces\n",
        "* FireplaceQu: Fireplace quality\n",
        "* GarageType: Garage location\n",
        "* GarageYrBlt: Year garage was built\n",
        "* GarageFinish: Interior finish of the garage\n",
        "* GarageCars: Size of garage in car capacity\n",
        "* GarageArea: Size of garage in square feet\n",
        "* GarageQual: Garage quality\n",
        "* GarageCond: Garage condition\n",
        "* PavedDrive: Paved driveway\n",
        "* WoodDeckSF: Wood deck area in square feet\n",
        "* OpenPorchSF: Open porch area in square feet\n",
        "* EnclosedPorch: Enclosed porch area in square feet\n",
        "* 3SsnPorch: Three season porch area in square feet\n",
        "* ScreenPorch: Screen porch area in square feet\n",
        "* PoolArea: Pool area in square feet\n",
        "* PoolQC: Pool quality\n",
        "* Fence: Fence quality\n",
        "* MiscFeature: Miscellaneous feature not covered in other * categories\n",
        "* MiscVal: $Value of miscellaneous feature\n",
        "* MoSold: Month Sold\n",
        "* YrSold: Year Sold\n",
        "* SaleType: Type of sale\n",
        "* SaleCondition: Condition of sale"
      ]
    },
    {
      "cell_type": "code",
      "metadata": {
        "id": "g6FuJ68BQ9K6"
      },
      "source": [
        "all_columns = data.columns.values\n",
        "\n",
        "non_categorical = ['Id','MSSubClass','LotFrontage','LotArea','OverallQual','OverallCond','YearBuilt',\n",
        "                   'YearRemodAdd','MasVnrArea','BsmtFinSF1','BsmtFinSF2','BsmtUnfSF','TotalBsmtSF',\n",
        "                   '1stFlrSF','2ndFlrSF','LowQualFinSF','GrLivArea','BsmtFullBath','BsmtHalfBath',\n",
        "                   'FullBath','HalfBath','BedroomAbvGr','KitchenAbvGr','TotRmsAbvGrd','Fireplaces',\n",
        "                   'GarageYrBlt','GarageCars','GarageArea','WoodDeckSF','OpenPorchSF','EnclosedPorch',\n",
        "                   '3SsnPorch','ScreenPorch','PoolArea','MiscVal','MoSold','YrSold','SalePrice']\n",
        "\n",
        "categorical = [value for value in all_columns if value not in non_categorical]"
      ],
      "execution_count": 10,
      "outputs": []
    },
    {
      "cell_type": "code",
      "metadata": {
        "colab": {
          "base_uri": "https://localhost:8080/",
          "height": 889
        },
        "id": "op-RYjUI87Hq",
        "outputId": "0d1d20e3-d1f2-4345-b454-5e4afff90804"
      },
      "source": [
        "n = len(data[non_categorical].columns)\n",
        "# f, ax = plt.subplots(n//3,n//10,figsize=(16,12))  # 다 못보여준다며 error남\n",
        "f, ax = plt.subplots(13,n//10,figsize=(16,12),constrained_layout=True)\n",
        "\n",
        "for i, col in enumerate(data[non_categorical].columns):\n",
        "  data[col].plot(kind='hist',ax=ax[i//3,i%3],title=col)\n",
        "plt.show()  "
      ],
      "execution_count": 11,
      "outputs": [
        {
          "output_type": "display_data",
          "data": {
            "image/png": "[encoded data removed]",
            "text/plain": [
              "<Figure size 1152x864 with 39 Axes>"
            ]
          },
          "metadata": {
            "tags": [],
            "needs_background": "light"
          }
        }
      ]
    },
    {
      "cell_type": "code",
      "metadata": {
        "colab": {
          "base_uri": "https://localhost:8080/"
        },
        "id": "F8fq0iBO-WV8",
        "outputId": "7f2051d3-e51b-4f70-ea10-211a1f7fb614"
      },
      "source": [
        "data.corr()[data.corr()['SalePrice']>=0.5]['SalePrice'][:-1]"
      ],
      "execution_count": 12,
      "outputs": [
        {
          "output_type": "execute_result",
          "data": {
            "text/plain": [
              "OverallQual     0.790982\n",
              "YearBuilt       0.522897\n",
              "YearRemodAdd    0.507101\n",
              "TotalBsmtSF     0.613581\n",
              "1stFlrSF        0.605852\n",
              "GrLivArea       0.708624\n",
              "FullBath        0.560664\n",
              "TotRmsAbvGrd    0.533723\n",
              "GarageCars      0.640409\n",
              "GarageArea      0.623431\n",
              "Name: SalePrice, dtype: float64"
            ]
          },
          "metadata": {
            "tags": []
          },
          "execution_count": 12
        }
      ]
    },
    {
      "cell_type": "code",
      "metadata": {
        "colab": {
          "base_uri": "https://localhost:8080/"
        },
        "id": "nbLa4ZPTCHOS",
        "outputId": "767e8d93-c1dc-446c-d0bc-1da1f581c694"
      },
      "source": [
        "data.corr()[data.corr()['OverallQual']>=0.5]['OverallQual']"
      ],
      "execution_count": 13,
      "outputs": [
        {
          "output_type": "execute_result",
          "data": {
            "text/plain": [
              "OverallQual     1.000000\n",
              "YearBuilt       0.572323\n",
              "YearRemodAdd    0.550684\n",
              "TotalBsmtSF     0.537808\n",
              "GrLivArea       0.593007\n",
              "FullBath        0.550600\n",
              "GarageYrBlt     0.547766\n",
              "GarageCars      0.600671\n",
              "GarageArea      0.562022\n",
              "SalePrice       0.790982\n",
              "Name: OverallQual, dtype: float64"
            ]
          },
          "metadata": {
            "tags": []
          },
          "execution_count": 13
        }
      ]
    },
    {
      "cell_type": "code",
      "metadata": {
        "colab": {
          "base_uri": "https://localhost:8080/"
        },
        "id": "bGV8UvlwB8_M",
        "outputId": "aa562258-5cc4-4d71-d6e1-4401a28b2208"
      },
      "source": [
        "df.corr()[df.corr()['OverallQual']>=0.5]['OverallQual']"
      ],
      "execution_count": 14,
      "outputs": [
        {
          "output_type": "execute_result",
          "data": {
            "text/plain": [
              "OverallQual     1.000000\n",
              "YearBuilt       0.621910\n",
              "YearRemodAdd    0.591267\n",
              "TotalBsmtSF     0.560314\n",
              "GrLivArea       0.558599\n",
              "FullBath        0.507580\n",
              "GarageYrBlt     0.593080\n",
              "GarageCars      0.600831\n",
              "GarageArea      0.568161\n",
              "Name: OverallQual, dtype: float64"
            ]
          },
          "metadata": {
            "tags": []
          },
          "execution_count": 14
        }
      ]
    },
    {
      "cell_type": "code",
      "metadata": {
        "id": "KtcUj7czFkoy"
      },
      "source": [
        "corr_data_above5 = []\n",
        "corr_df_above5 = []\n",
        "for i in data.corr()[data.corr()['OverallQual']>=0.5]['OverallQual'][:-1].index:\n",
        "  corr_data_above5.append(i)\n",
        "  corr_df_above5.append(i)\n",
        "\n",
        "for i in ['1stFlrSF','TotRmsAbvGrd']:\n",
        "  corr_data_above5.append(i)\n",
        "  corr_df_above5.append(i)\n",
        "\n",
        "corr_data_above5.append('SalePrice')"
      ],
      "execution_count": 15,
      "outputs": []
    },
    {
      "cell_type": "code",
      "metadata": {
        "colab": {
          "base_uri": "https://localhost:8080/"
        },
        "id": "bfDoby1DK1w7",
        "outputId": "0180cc33-5a8b-4af5-fbd2-a8eac28cd413"
      },
      "source": [
        "data[corr_data_above5+categorical].isna().sum()"
      ],
      "execution_count": 16,
      "outputs": [
        {
          "output_type": "execute_result",
          "data": {
            "text/plain": [
              "OverallQual         0\n",
              "YearBuilt           0\n",
              "YearRemodAdd        0\n",
              "TotalBsmtSF         0\n",
              "GrLivArea           0\n",
              "FullBath            0\n",
              "GarageYrBlt        81\n",
              "GarageCars          0\n",
              "GarageArea          0\n",
              "1stFlrSF            0\n",
              "TotRmsAbvGrd        0\n",
              "SalePrice           0\n",
              "MSZoning            0\n",
              "Street              0\n",
              "Alley            1369\n",
              "LotShape            0\n",
              "LandContour         0\n",
              "Utilities           0\n",
              "LotConfig           0\n",
              "LandSlope           0\n",
              "Neighborhood        0\n",
              "Condition1          0\n",
              "Condition2          0\n",
              "BldgType            0\n",
              "HouseStyle          0\n",
              "RoofStyle           0\n",
              "RoofMatl            0\n",
              "Exterior1st         0\n",
              "Exterior2nd         0\n",
              "MasVnrType          8\n",
              "ExterQual           0\n",
              "ExterCond           0\n",
              "Foundation          0\n",
              "BsmtQual           37\n",
              "BsmtCond           37\n",
              "BsmtExposure       38\n",
              "BsmtFinType1       37\n",
              "BsmtFinType2       38\n",
              "Heating             0\n",
              "HeatingQC           0\n",
              "CentralAir          0\n",
              "Electrical          1\n",
              "KitchenQual         0\n",
              "Functional          0\n",
              "FireplaceQu       690\n",
              "GarageType         81\n",
              "GarageFinish       81\n",
              "GarageQual         81\n",
              "GarageCond         81\n",
              "PavedDrive          0\n",
              "PoolQC           1453\n",
              "Fence            1179\n",
              "MiscFeature      1406\n",
              "SaleType            0\n",
              "SaleCondition       0\n",
              "dtype: int64"
            ]
          },
          "metadata": {
            "tags": []
          },
          "execution_count": 16
        }
      ]
    },
    {
      "cell_type": "markdown",
      "metadata": {
        "id": "wh6Ksg9k7Ssk"
      },
      "source": [
        "LotFrontage : 259\n",
        "\n",
        "MasVnrArea : 8\n",
        "\n",
        "GarageYrBlt : 81\n",
        "\n",
        "Alley : 1369\n",
        "\n",
        "MasVnrType : 8\n",
        "\n",
        "BsmtQual : 37\n",
        "\n",
        "BsmtCond : 37\n",
        "\n",
        "BsmtExposure : 38\n",
        "\n",
        "BsmtFinType1 : 37\n",
        "\n",
        "BsmtFinType2 : 38\n",
        "\n",
        "Electrical : 1\n",
        "\n",
        "FireplaceQu : 690\n",
        "\n",
        "GarageType : 81\n",
        "\n",
        "GarageFinish : 81\n",
        "\n",
        "GarageQual : 81\n",
        "\n",
        "GarageCond : 81\n",
        "\n",
        "PoolQC : 1453\n",
        "\n",
        "Fence : 1179\n",
        "\n",
        "MiscFeature : 1406"
      ]
    },
    {
      "cell_type": "code",
      "metadata": {
        "id": "bw_H7zHyG7X6"
      },
      "source": [
        "#numeric데이터는 평균값으로 바꿈\n",
        "data['GarageYrBlt'] = data['GarageYrBlt'].fillna(data.GarageYrBlt.mean())"
      ],
      "execution_count": 17,
      "outputs": []
    },
    {
      "cell_type": "code",
      "metadata": {
        "colab": {
          "base_uri": "https://localhost:8080/"
        },
        "id": "P5gEedV8JvfB",
        "outputId": "5fb41a79-2024-4a36-ee9b-e4d89d066303"
      },
      "source": [
        "for i in data[corr_data_above5+categorical]:\n",
        "  if data[i].isna().sum()!=0:\n",
        "    print(data[i].unique())\n",
        "    print(data[i].describe())"
      ],
      "execution_count": 18,
      "outputs": [
        {
          "output_type": "stream",
          "text": [
            "[nan 'Grvl' 'Pave']\n",
            "count       91\n",
            "unique       2\n",
            "top       Grvl\n",
            "freq        50\n",
            "Name: Alley, dtype: object\n",
            "['BrkFace' 'None' 'Stone' 'BrkCmn' nan]\n",
            "count     1452\n",
            "unique       4\n",
            "top       None\n",
            "freq       864\n",
            "Name: MasVnrType, dtype: object\n",
            "['Gd' 'TA' 'Ex' nan 'Fa']\n",
            "count     1423\n",
            "unique       4\n",
            "top         TA\n",
            "freq       649\n",
            "Name: BsmtQual, dtype: object\n",
            "['TA' 'Gd' nan 'Fa' 'Po']\n",
            "count     1423\n",
            "unique       4\n",
            "top         TA\n",
            "freq      1311\n",
            "Name: BsmtCond, dtype: object\n",
            "['No' 'Gd' 'Mn' 'Av' nan]\n",
            "count     1422\n",
            "unique       4\n",
            "top         No\n",
            "freq       953\n",
            "Name: BsmtExposure, dtype: object\n",
            "['GLQ' 'ALQ' 'Unf' 'Rec' 'BLQ' nan 'LwQ']\n",
            "count     1423\n",
            "unique       6\n",
            "top        Unf\n",
            "freq       430\n",
            "Name: BsmtFinType1, dtype: object\n",
            "['Unf' 'BLQ' nan 'ALQ' 'Rec' 'LwQ' 'GLQ']\n",
            "count     1422\n",
            "unique       6\n",
            "top        Unf\n",
            "freq      1256\n",
            "Name: BsmtFinType2, dtype: object\n",
            "['SBrkr' 'FuseF' 'FuseA' 'FuseP' 'Mix' nan]\n",
            "count      1459\n",
            "unique        5\n",
            "top       SBrkr\n",
            "freq       1334\n",
            "Name: Electrical, dtype: object\n",
            "[nan 'TA' 'Gd' 'Fa' 'Ex' 'Po']\n",
            "count     770\n",
            "unique      5\n",
            "top        Gd\n",
            "freq      380\n",
            "Name: FireplaceQu, dtype: object\n",
            "['Attchd' 'Detchd' 'BuiltIn' 'CarPort' nan 'Basment' '2Types']\n",
            "count       1379\n",
            "unique         6\n",
            "top       Attchd\n",
            "freq         870\n",
            "Name: GarageType, dtype: object\n",
            "['RFn' 'Unf' 'Fin' nan]\n",
            "count     1379\n",
            "unique       3\n",
            "top        Unf\n",
            "freq       605\n",
            "Name: GarageFinish, dtype: object\n",
            "['TA' 'Fa' 'Gd' nan 'Ex' 'Po']\n",
            "count     1379\n",
            "unique       5\n",
            "top         TA\n",
            "freq      1311\n",
            "Name: GarageQual, dtype: object\n",
            "['TA' 'Fa' nan 'Gd' 'Po' 'Ex']\n",
            "count     1379\n",
            "unique       5\n",
            "top         TA\n",
            "freq      1326\n",
            "Name: GarageCond, dtype: object\n",
            "[nan 'Ex' 'Fa' 'Gd']\n",
            "count      7\n",
            "unique     3\n",
            "top       Gd\n",
            "freq       3\n",
            "Name: PoolQC, dtype: object\n",
            "[nan 'MnPrv' 'GdWo' 'GdPrv' 'MnWw']\n",
            "count       281\n",
            "unique        4\n",
            "top       MnPrv\n",
            "freq        157\n",
            "Name: Fence, dtype: object\n",
            "[nan 'Shed' 'Gar2' 'Othr' 'TenC']\n",
            "count       54\n",
            "unique       4\n",
            "top       Shed\n",
            "freq        49\n",
            "Name: MiscFeature, dtype: object\n"
          ],
          "name": "stdout"
        }
      ]
    },
    {
      "cell_type": "code",
      "metadata": {
        "colab": {
          "base_uri": "https://localhost:8080/",
          "height": 1000
        },
        "id": "SZ3WQPwPEzqi",
        "outputId": "a270b377-eb7e-4776-e6b4-827c60bc9b85"
      },
      "source": [
        "n = len(data[categorical].columns)\n",
        "# f, ax = plt.subplots(n//3,n//10,figsize=(16,12))  # 다 못보여준다며 error남\n",
        "f, ax = plt.subplots(11,n//10,figsize=(20,30),constrained_layout=True)\n",
        "\n",
        "for i, col in enumerate(data[categorical].columns):\n",
        "  sns.countplot(y=col,ax=ax[i//4,i%4],data=data[categorical])\n",
        "plt.show()  "
      ],
      "execution_count": 19,
      "outputs": [
        {
          "output_type": "display_data",
          "data": {
            "image/png": "[encoded data removed]",
            "text/plain": [
              "<Figure size 1440x2160 with 44 Axes>"
            ]
          },
          "metadata": {
            "tags": [],
            "needs_background": "light"
          }
        }
      ]
    },
    {
      "cell_type": "code",
      "metadata": {
        "id": "FlZmIbWBIOB6"
      },
      "source": [
        "#null이 많아서 drop함\n",
        "data = data.drop(['Alley','FireplaceQu','PoolQC','Fence','MiscFeature'],axis=1)"
      ],
      "execution_count": 20,
      "outputs": []
    },
    {
      "cell_type": "code",
      "metadata": {
        "id": "_eDj9cMlKRQN"
      },
      "source": [
        "#unique에 None이 있는 경우\n",
        "data['MasVnrType'] = data['MasVnrType'].fillna('None')"
      ],
      "execution_count": 21,
      "outputs": []
    },
    {
      "cell_type": "code",
      "metadata": {
        "id": "_gXuFD5XOFE4"
      },
      "source": [
        "all_columns = data.columns.values\n",
        "\n",
        "non_categorical = ['Id','MSSubClass','LotFrontage','LotArea','OverallQual','OverallCond','YearBuilt',\n",
        "                   'YearRemodAdd','MasVnrArea','BsmtFinSF1','BsmtFinSF2','BsmtUnfSF','TotalBsmtSF',\n",
        "                   '1stFlrSF','2ndFlrSF','LowQualFinSF','GrLivArea','BsmtFullBath','BsmtHalfBath',\n",
        "                   'FullBath','HalfBath','BedroomAbvGr','KitchenAbvGr','TotRmsAbvGrd','Fireplaces',\n",
        "                   'GarageYrBlt','GarageCars','GarageArea','WoodDeckSF','OpenPorchSF','EnclosedPorch',\n",
        "                   '3SsnPorch','ScreenPorch','PoolArea','MiscVal','MoSold','YrSold','SalePrice']\n",
        "\n",
        "categorical = [value for value in all_columns if value not in non_categorical]"
      ],
      "execution_count": 22,
      "outputs": []
    },
    {
      "cell_type": "code",
      "metadata": {
        "id": "Ieg4d0HmNEnw"
      },
      "source": [
        "#unique()에서 random하게 부여\n",
        "for i in data[corr_data_above5+categorical]:\n",
        "  if data[i].isna().sum()!=0:\n",
        "    for j in data[i]:\n",
        "      if type(j)==float:\n",
        "        for l in data[i].unique():\n",
        "          data[i] = data[i].replace(j,l)"
      ],
      "execution_count": 23,
      "outputs": []
    },
    {
      "cell_type": "markdown",
      "metadata": {
        "id": "_B_4TBI9TiZn"
      },
      "source": [
        "### df.isna().sum()"
      ]
    },
    {
      "cell_type": "code",
      "metadata": {
        "colab": {
          "base_uri": "https://localhost:8080/"
        },
        "id": "KQttSOFaQ_XI",
        "outputId": "fac600ee-437b-4917-b29d-43df0b192df2"
      },
      "source": [
        "df[corr_df_above5].isna().sum()"
      ],
      "execution_count": 24,
      "outputs": [
        {
          "output_type": "execute_result",
          "data": {
            "text/plain": [
              "OverallQual      0\n",
              "YearBuilt        0\n",
              "YearRemodAdd     0\n",
              "TotalBsmtSF      1\n",
              "GrLivArea        0\n",
              "FullBath         0\n",
              "GarageYrBlt     78\n",
              "GarageCars       1\n",
              "GarageArea       1\n",
              "1stFlrSF         0\n",
              "TotRmsAbvGrd     0\n",
              "dtype: int64"
            ]
          },
          "metadata": {
            "tags": []
          },
          "execution_count": 24
        }
      ]
    },
    {
      "cell_type": "code",
      "metadata": {
        "id": "24W8PfVIRtaH"
      },
      "source": [
        "#사용할 numeric데이터 결측치 mean으로 채움\n",
        "for i in df[corr_df_above5]:\n",
        "  if df[i].isna().sum()!=0:\n",
        "    df[i] = df[i].fillna(df[i].mean())"
      ],
      "execution_count": 25,
      "outputs": []
    },
    {
      "cell_type": "code",
      "metadata": {
        "id": "Xgjmfqn0UB2W"
      },
      "source": [
        "#train과 맞춰줘야해서 같이 드롭함\n",
        "df = df.drop(['Alley','FireplaceQu','PoolQC','Fence','MiscFeature'],axis=1)"
      ],
      "execution_count": 26,
      "outputs": []
    },
    {
      "cell_type": "code",
      "metadata": {
        "id": "lNLbnuc0To2m"
      },
      "source": [
        "all_columns_df = df.columns.values\n",
        "\n",
        "non_categorical_df = ['Id','MSSubClass','LotFrontage','LotArea','OverallQual','OverallCond','YearBuilt',\n",
        "                   'YearRemodAdd','MasVnrArea','BsmtFinSF1','BsmtFinSF2','BsmtUnfSF','TotalBsmtSF',\n",
        "                   '1stFlrSF','2ndFlrSF','LowQualFinSF','GrLivArea','BsmtFullBath','BsmtHalfBath',\n",
        "                   'FullBath','HalfBath','BedroomAbvGr','KitchenAbvGr','TotRmsAbvGrd','Fireplaces',\n",
        "                   'GarageYrBlt','GarageCars','GarageArea','WoodDeckSF','OpenPorchSF','EnclosedPorch',\n",
        "                   '3SsnPorch','ScreenPorch','PoolArea','MiscVal','MoSold','YrSold']\n",
        "\n",
        "categorical_df = [value for value in all_columns if value not in non_categorical]"
      ],
      "execution_count": 27,
      "outputs": []
    },
    {
      "cell_type": "code",
      "metadata": {
        "colab": {
          "base_uri": "https://localhost:8080/"
        },
        "id": "A8aPaLeaRFK_",
        "outputId": "563b1347-d0d1-4dfe-e787-9ade4f683360"
      },
      "source": [
        "for i in df[categorical_df]:\n",
        "  if df[i].isna().sum()!=0:\n",
        "    print(i)\n",
        "    print(df[i].unique())\n",
        "    print(df[i].describe())"
      ],
      "execution_count": 28,
      "outputs": [
        {
          "output_type": "stream",
          "text": [
            "MSZoning\n",
            "['RH' 'RL' 'RM' 'FV' 'C (all)' nan]\n",
            "count     1455\n",
            "unique       5\n",
            "top         RL\n",
            "freq      1114\n",
            "Name: MSZoning, dtype: object\n",
            "Utilities\n",
            "['AllPub' nan]\n",
            "count       1457\n",
            "unique         1\n",
            "top       AllPub\n",
            "freq        1457\n",
            "Name: Utilities, dtype: object\n",
            "Exterior1st\n",
            "['VinylSd' 'Wd Sdng' 'HdBoard' 'Plywood' 'MetalSd' 'CemntBd' 'WdShing'\n",
            " 'BrkFace' 'AsbShng' 'BrkComm' 'Stucco' 'AsphShn' nan 'CBlock']\n",
            "count        1458\n",
            "unique         13\n",
            "top       VinylSd\n",
            "freq          510\n",
            "Name: Exterior1st, dtype: object\n",
            "Exterior2nd\n",
            "['VinylSd' 'Wd Sdng' 'HdBoard' 'Plywood' 'MetalSd' 'Brk Cmn' 'CmentBd'\n",
            " 'ImStucc' 'Wd Shng' 'AsbShng' 'Stucco' 'CBlock' 'BrkFace' 'AsphShn' nan\n",
            " 'Stone']\n",
            "count        1458\n",
            "unique         15\n",
            "top       VinylSd\n",
            "freq          510\n",
            "Name: Exterior2nd, dtype: object\n",
            "MasVnrType\n",
            "['None' 'BrkFace' 'Stone' 'BrkCmn' nan]\n",
            "count     1443\n",
            "unique       4\n",
            "top       None\n",
            "freq       878\n",
            "Name: MasVnrType, dtype: object\n",
            "BsmtQual\n",
            "['TA' 'Gd' 'Ex' 'Fa' nan]\n",
            "count     1415\n",
            "unique       4\n",
            "top         TA\n",
            "freq       634\n",
            "Name: BsmtQual, dtype: object\n",
            "BsmtCond\n",
            "['TA' 'Po' 'Fa' 'Gd' nan]\n",
            "count     1414\n",
            "unique       4\n",
            "top         TA\n",
            "freq      1295\n",
            "Name: BsmtCond, dtype: object\n",
            "BsmtExposure\n",
            "['No' 'Gd' 'Mn' 'Av' nan]\n",
            "count     1415\n",
            "unique       4\n",
            "top         No\n",
            "freq       951\n",
            "Name: BsmtExposure, dtype: object\n",
            "BsmtFinType1\n",
            "['Rec' 'ALQ' 'GLQ' 'Unf' 'BLQ' 'LwQ' nan]\n",
            "count     1417\n",
            "unique       6\n",
            "top        GLQ\n",
            "freq       431\n",
            "Name: BsmtFinType1, dtype: object\n",
            "BsmtFinType2\n",
            "['LwQ' 'Unf' 'Rec' 'BLQ' 'GLQ' 'ALQ' nan]\n",
            "count     1417\n",
            "unique       6\n",
            "top        Unf\n",
            "freq      1237\n",
            "Name: BsmtFinType2, dtype: object\n",
            "KitchenQual\n",
            "['TA' 'Gd' 'Ex' 'Fa' nan]\n",
            "count     1458\n",
            "unique       4\n",
            "top         TA\n",
            "freq       757\n",
            "Name: KitchenQual, dtype: object\n",
            "Functional\n",
            "['Typ' 'Min2' 'Min1' 'Mod' 'Maj1' 'Sev' 'Maj2' nan]\n",
            "count     1457\n",
            "unique       7\n",
            "top        Typ\n",
            "freq      1357\n",
            "Name: Functional, dtype: object\n",
            "GarageType\n",
            "['Attchd' 'Detchd' 'BuiltIn' nan 'Basment' '2Types' 'CarPort']\n",
            "count       1383\n",
            "unique         6\n",
            "top       Attchd\n",
            "freq         853\n",
            "Name: GarageType, dtype: object\n",
            "GarageFinish\n",
            "['Unf' 'Fin' 'RFn' nan]\n",
            "count     1381\n",
            "unique       3\n",
            "top        Unf\n",
            "freq       625\n",
            "Name: GarageFinish, dtype: object\n",
            "GarageQual\n",
            "['TA' nan 'Fa' 'Gd' 'Po']\n",
            "count     1381\n",
            "unique       4\n",
            "top         TA\n",
            "freq      1293\n",
            "Name: GarageQual, dtype: object\n",
            "GarageCond\n",
            "['TA' nan 'Fa' 'Gd' 'Po' 'Ex']\n",
            "count     1381\n",
            "unique       5\n",
            "top         TA\n",
            "freq      1328\n",
            "Name: GarageCond, dtype: object\n",
            "SaleType\n",
            "['WD' 'COD' 'New' 'ConLD' 'Oth' 'Con' 'ConLw' 'ConLI' 'CWD' nan]\n",
            "count     1458\n",
            "unique       9\n",
            "top         WD\n",
            "freq      1258\n",
            "Name: SaleType, dtype: object\n"
          ],
          "name": "stdout"
        }
      ]
    },
    {
      "cell_type": "code",
      "metadata": {
        "id": "0v0miVJMUweP"
      },
      "source": [
        "#unique에 None이 있는 경우\n",
        "df['MasVnrType'] = df['MasVnrType'].fillna('None')"
      ],
      "execution_count": 29,
      "outputs": []
    },
    {
      "cell_type": "code",
      "metadata": {
        "colab": {
          "base_uri": "https://localhost:8080/"
        },
        "id": "PhHUvNM2RfHJ",
        "outputId": "91e91eb7-e6e1-4230-e874-342dedf0559e"
      },
      "source": [
        "df['GarageArea'].describe()"
      ],
      "execution_count": 30,
      "outputs": [
        {
          "output_type": "execute_result",
          "data": {
            "text/plain": [
              "count    1459.000000\n",
              "mean      472.768861\n",
              "std       216.974165\n",
              "min         0.000000\n",
              "25%       318.000000\n",
              "50%       480.000000\n",
              "75%       576.000000\n",
              "max      1488.000000\n",
              "Name: GarageArea, dtype: float64"
            ]
          },
          "metadata": {
            "tags": []
          },
          "execution_count": 30
        }
      ]
    },
    {
      "cell_type": "code",
      "metadata": {
        "id": "eDA3lUCtQ1c9"
      },
      "source": [
        "for i in df[categorical_df]:\n",
        "  if df[i].isna().sum()!=0:\n",
        "    for j in df[i]:\n",
        "      if type(j)==float:\n",
        "        for l in df[i].unique():\n",
        "          df[i] = df[i].replace(j,l)"
      ],
      "execution_count": 31,
      "outputs": []
    },
    {
      "cell_type": "markdown",
      "metadata": {
        "id": "srB_f1jbVhJW"
      },
      "source": [
        "#Test,Train"
      ]
    },
    {
      "cell_type": "code",
      "metadata": {
        "id": "YjGP3ZwBeVwN"
      },
      "source": [
        "from sklearn.preprocessing import LabelEncoder\n",
        "LE = LabelEncoder()\n",
        "for i in data[categorical].columns:\n",
        "  data[i] = LE.fit_transform(data[i])\n",
        "for j in df[categorical_df].columns:\n",
        "  df[j] = LE.fit_transform(df[j])"
      ],
      "execution_count": 93,
      "outputs": []
    },
    {
      "cell_type": "code",
      "metadata": {
        "id": "S0sHssKdVUmJ"
      },
      "source": [
        "trn = data[corr_data_above5+categorical]\n",
        "tst = df[corr_df_above5+categorical_df]"
      ],
      "execution_count": 60,
      "outputs": []
    },
    {
      "cell_type": "code",
      "metadata": {
        "id": "YkmYnFgfVILh"
      },
      "source": [
        "y_trn = trn.copy().SalePrice\n",
        "X_trn = trn.copy().drop('SalePrice',axis=1)\n",
        "y_tst = sS.copy().SalePrice\n",
        "X_tst = tst.copy()"
      ],
      "execution_count": 94,
      "outputs": []
    },
    {
      "cell_type": "code",
      "metadata": {
        "id": "rFEeh3ffwO9D"
      },
      "source": [
        "from sklearn.decomposition import PCA\n",
        "\n",
        "pca = PCA(whiten=True)\n",
        "#whiten : 들어오는 input의 feature들을 uncorrelattion하게 만들고, 각각의 variation를 1로 만들어주는 작업\n",
        "\n",
        "# pca.fit(X_trn,y_trn)\n",
        "pca.fit(X_trn)\n",
        "\n",
        "pca = PCA(n_components=36,whiten=True)\n",
        "# pca = pca.fit(X_trn,y_trn)\n",
        "pca = pca.fit(X_trn)\n",
        "trainPCA = pca.transform(X_trn)"
      ],
      "execution_count": 95,
      "outputs": []
    },
    {
      "cell_type": "code",
      "metadata": {
        "colab": {
          "base_uri": "https://localhost:8080/"
        },
        "id": "lIIvrML5wUep",
        "outputId": "7dcb2b06-2c8a-4742-95dd-f029bdeb081b"
      },
      "source": [
        "X_trn.shape"
      ],
      "execution_count": 96,
      "outputs": [
        {
          "output_type": "execute_result",
          "data": {
            "text/plain": [
              "(1460, 49)"
            ]
          },
          "metadata": {
            "tags": []
          },
          "execution_count": 96
        }
      ]
    },
    {
      "cell_type": "code",
      "metadata": {
        "id": "541YZQyVgy4k"
      },
      "source": [
        "from sklearn.model_selection import KFold\n",
        "from sklearn import metrics\n",
        "from sklearn.metrics import make_scorer\n",
        "from sklearn.metrics import explained_variance_score\n",
        "from sklearn.metrics import (accuracy_score, precision_score, recall_score, f1_score, r2_score, roc_auc_score, auc,confusion_matrix)"
      ],
      "execution_count": 97,
      "outputs": []
    },
    {
      "cell_type": "code",
      "metadata": {
        "colab": {
          "base_uri": "https://localhost:8080/"
        },
        "id": "Tggsh2l3ZPM1",
        "outputId": "88ea2e91-2016-4d94-bbdf-55032d6d2259"
      },
      "source": [
        "import xgboost as xgb\n",
        "from xgboost import plot_importance\n",
        "from xgboost import XGBRegressor\n",
        "\n",
        "model = XGBRegressor()\n",
        "\n",
        "model.fit(X_trn,y_trn)"
      ],
      "execution_count": 98,
      "outputs": [
        {
          "output_type": "stream",
          "text": [
            "[05:03:20] WARNING: /workspace/src/objective/regression_obj.cu:152: reg:linear is now deprecated in favor of reg:squarederror.\n"
          ],
          "name": "stdout"
        },
        {
          "output_type": "execute_result",
          "data": {
            "text/plain": [
              "XGBRegressor(base_score=0.5, booster='gbtree', colsample_bylevel=1,\n",
              "             colsample_bynode=1, colsample_bytree=1, gamma=0,\n",
              "             importance_type='gain', learning_rate=0.1, max_delta_step=0,\n",
              "             max_depth=3, min_child_weight=1, missing=None, n_estimators=100,\n",
              "             n_jobs=1, nthread=None, objective='reg:linear', random_state=0,\n",
              "             reg_alpha=0, reg_lambda=1, scale_pos_weight=1, seed=None,\n",
              "             silent=None, subsample=1, verbosity=1)"
            ]
          },
          "metadata": {
            "tags": []
          },
          "execution_count": 98
        }
      ]
    },
    {
      "cell_type": "code",
      "metadata": {
        "colab": {
          "base_uri": "https://localhost:8080/"
        },
        "id": "urEoFllCy68h",
        "outputId": "208c82c4-63ea-4309-9980-d073d4e58e89"
      },
      "source": [
        "y_tst.shape"
      ],
      "execution_count": 108,
      "outputs": [
        {
          "output_type": "execute_result",
          "data": {
            "text/plain": [
              "(1459,)"
            ]
          },
          "metadata": {
            "tags": []
          },
          "execution_count": 108
        }
      ]
    },
    {
      "cell_type": "code",
      "metadata": {
        "colab": {
          "base_uri": "https://localhost:8080/"
        },
        "id": "Gjsh3YyPy8z7",
        "outputId": "c9386a2a-06c7-4011-904b-9d70f3f4b56a"
      },
      "source": [
        "y_pred.shape"
      ],
      "execution_count": 109,
      "outputs": [
        {
          "output_type": "execute_result",
          "data": {
            "text/plain": [
              "(1459,)"
            ]
          },
          "metadata": {
            "tags": []
          },
          "execution_count": 109
        }
      ]
    },
    {
      "cell_type": "code",
      "metadata": {
        "colab": {
          "base_uri": "https://localhost:8080/"
        },
        "id": "GUXalEjQys3w",
        "outputId": "23a7e4e2-62fc-436a-a36a-2cbadd2fbe3e"
      },
      "source": [
        "type(y_tst)"
      ],
      "execution_count": 106,
      "outputs": [
        {
          "output_type": "execute_result",
          "data": {
            "text/plain": [
              "pandas.core.series.Series"
            ]
          },
          "metadata": {
            "tags": []
          },
          "execution_count": 106
        }
      ]
    },
    {
      "cell_type": "code",
      "metadata": {
        "colab": {
          "base_uri": "https://localhost:8080/"
        },
        "id": "88ODlI0OyyLB",
        "outputId": "890ffaf5-f4ef-448f-8d97-cc3d1a0f0e1f"
      },
      "source": [
        "type(y_pred)"
      ],
      "execution_count": 107,
      "outputs": [
        {
          "output_type": "execute_result",
          "data": {
            "text/plain": [
              "numpy.ndarray"
            ]
          },
          "metadata": {
            "tags": []
          },
          "execution_count": 107
        }
      ]
    },
    {
      "cell_type": "code",
      "metadata": {
        "colab": {
          "base_uri": "https://localhost:8080/",
          "height": 394
        },
        "id": "2UBexG4WiQV9",
        "outputId": "ad42bd5a-bcc0-4dde-b4b3-920bb9886939"
      },
      "source": [
        "score = model.score(X_trn, y_trn)\n",
        "accry = metrics.accuracy_score(y_tst,y_pred)\n",
        "# precs = metrics.precision_score(y_tst,y_pred)\n",
        "# recal = metrics.recall_score(y_tst,y_pred)\n",
        "# f1scr = metrics.f1_score(y_tst,y_pred)\n",
        "# r2scr = metrics.r2_score(y_tst,y_pred)\n",
        "# roc = metrics.roc_auc_score(y_tst,y_pred)\n",
        "# auc = metrics.auc(y_tst,y_pred)\n",
        "# matrix = metrics.confusion_matrix(y_tst,y_pred)\n",
        "# expvarscore = explained_variance_score(y_pred,y_tst)\n",
        "expvarscore = explained_variance_score(y_tst,y_pred)"
      ],
      "execution_count": 104,
      "outputs": [
        {
          "output_type": "error",
          "ename": "ValueError",
          "evalue": "ignored",
          "traceback": [
            "\u001b[0;31m---------------------------------------------------------------------------\u001b[0m",
            "\u001b[0;31mValueError\u001b[0m                                Traceback (most recent call last)",
            "\u001b[0;32m<ipython-input-104-c4a16c29a819>\u001b[0m in \u001b[0;36m<module>\u001b[0;34m()\u001b[0m\n\u001b[1;32m      1\u001b[0m \u001b[0mscore\u001b[0m \u001b[0;34m=\u001b[0m \u001b[0mmodel\u001b[0m\u001b[0;34m.\u001b[0m\u001b[0mscore\u001b[0m\u001b[0;34m(\u001b[0m\u001b[0mX_trn\u001b[0m\u001b[0;34m,\u001b[0m \u001b[0my_trn\u001b[0m\u001b[0;34m)\u001b[0m\u001b[0;34m\u001b[0m\u001b[0;34m\u001b[0m\u001b[0m\n\u001b[0;32m----> 2\u001b[0;31m \u001b[0maccry\u001b[0m \u001b[0;34m=\u001b[0m \u001b[0mmetrics\u001b[0m\u001b[0;34m.\u001b[0m\u001b[0maccuracy_score\u001b[0m\u001b[0;34m(\u001b[0m\u001b[0my_tst\u001b[0m\u001b[0;34m,\u001b[0m\u001b[0my_pred\u001b[0m\u001b[0;34m)\u001b[0m\u001b[0;34m\u001b[0m\u001b[0;34m\u001b[0m\u001b[0m\n\u001b[0m\u001b[1;32m      3\u001b[0m \u001b[0;31m# precs = metrics.precision_score(y_tst,y_pred)\u001b[0m\u001b[0;34m\u001b[0m\u001b[0;34m\u001b[0m\u001b[0;34m\u001b[0m\u001b[0m\n\u001b[1;32m      4\u001b[0m \u001b[0;31m# recal = metrics.recall_score(y_tst,y_pred)\u001b[0m\u001b[0;34m\u001b[0m\u001b[0;34m\u001b[0m\u001b[0;34m\u001b[0m\u001b[0m\n\u001b[1;32m      5\u001b[0m \u001b[0;31m# f1scr = metrics.f1_score(y_tst,y_pred)\u001b[0m\u001b[0;34m\u001b[0m\u001b[0;34m\u001b[0m\u001b[0;34m\u001b[0m\u001b[0m\n",
            "\u001b[0;32m/usr/local/lib/python3.7/dist-packages/sklearn/metrics/_classification.py\u001b[0m in \u001b[0;36maccuracy_score\u001b[0;34m(y_true, y_pred, normalize, sample_weight)\u001b[0m\n\u001b[1;32m    183\u001b[0m \u001b[0;34m\u001b[0m\u001b[0m\n\u001b[1;32m    184\u001b[0m     \u001b[0;31m# Compute accuracy for each possible representation\u001b[0m\u001b[0;34m\u001b[0m\u001b[0;34m\u001b[0m\u001b[0;34m\u001b[0m\u001b[0m\n\u001b[0;32m--> 185\u001b[0;31m     \u001b[0my_type\u001b[0m\u001b[0;34m,\u001b[0m \u001b[0my_true\u001b[0m\u001b[0;34m,\u001b[0m \u001b[0my_pred\u001b[0m \u001b[0;34m=\u001b[0m \u001b[0m_check_targets\u001b[0m\u001b[0;34m(\u001b[0m\u001b[0my_true\u001b[0m\u001b[0;34m,\u001b[0m \u001b[0my_pred\u001b[0m\u001b[0;34m)\u001b[0m\u001b[0;34m\u001b[0m\u001b[0;34m\u001b[0m\u001b[0m\n\u001b[0m\u001b[1;32m    186\u001b[0m     \u001b[0mcheck_consistent_length\u001b[0m\u001b[0;34m(\u001b[0m\u001b[0my_true\u001b[0m\u001b[0;34m,\u001b[0m \u001b[0my_pred\u001b[0m\u001b[0;34m,\u001b[0m \u001b[0msample_weight\u001b[0m\u001b[0;34m)\u001b[0m\u001b[0;34m\u001b[0m\u001b[0;34m\u001b[0m\u001b[0m\n\u001b[1;32m    187\u001b[0m     \u001b[0;32mif\u001b[0m \u001b[0my_type\u001b[0m\u001b[0;34m.\u001b[0m\u001b[0mstartswith\u001b[0m\u001b[0;34m(\u001b[0m\u001b[0;34m'multilabel'\u001b[0m\u001b[0;34m)\u001b[0m\u001b[0;34m:\u001b[0m\u001b[0;34m\u001b[0m\u001b[0;34m\u001b[0m\u001b[0m\n",
            "\u001b[0;32m/usr/local/lib/python3.7/dist-packages/sklearn/metrics/_classification.py\u001b[0m in \u001b[0;36m_check_targets\u001b[0;34m(y_true, y_pred)\u001b[0m\n\u001b[1;32m     95\u001b[0m     \u001b[0;31m# No metrics support \"multiclass-multioutput\" format\u001b[0m\u001b[0;34m\u001b[0m\u001b[0;34m\u001b[0m\u001b[0;34m\u001b[0m\u001b[0m\n\u001b[1;32m     96\u001b[0m     \u001b[0;32mif\u001b[0m \u001b[0;34m(\u001b[0m\u001b[0my_type\u001b[0m \u001b[0;32mnot\u001b[0m \u001b[0;32min\u001b[0m \u001b[0;34m[\u001b[0m\u001b[0;34m\"binary\"\u001b[0m\u001b[0;34m,\u001b[0m \u001b[0;34m\"multiclass\"\u001b[0m\u001b[0;34m,\u001b[0m \u001b[0;34m\"multilabel-indicator\"\u001b[0m\u001b[0;34m]\u001b[0m\u001b[0;34m)\u001b[0m\u001b[0;34m:\u001b[0m\u001b[0;34m\u001b[0m\u001b[0;34m\u001b[0m\u001b[0m\n\u001b[0;32m---> 97\u001b[0;31m         \u001b[0;32mraise\u001b[0m \u001b[0mValueError\u001b[0m\u001b[0;34m(\u001b[0m\u001b[0;34m\"{0} is not supported\"\u001b[0m\u001b[0;34m.\u001b[0m\u001b[0mformat\u001b[0m\u001b[0;34m(\u001b[0m\u001b[0my_type\u001b[0m\u001b[0;34m)\u001b[0m\u001b[0;34m)\u001b[0m\u001b[0;34m\u001b[0m\u001b[0;34m\u001b[0m\u001b[0m\n\u001b[0m\u001b[1;32m     98\u001b[0m \u001b[0;34m\u001b[0m\u001b[0m\n\u001b[1;32m     99\u001b[0m     \u001b[0;32mif\u001b[0m \u001b[0my_type\u001b[0m \u001b[0;32min\u001b[0m \u001b[0;34m[\u001b[0m\u001b[0;34m\"binary\"\u001b[0m\u001b[0;34m,\u001b[0m \u001b[0;34m\"multiclass\"\u001b[0m\u001b[0;34m]\u001b[0m\u001b[0;34m:\u001b[0m\u001b[0;34m\u001b[0m\u001b[0;34m\u001b[0m\u001b[0m\n",
            "\u001b[0;31mValueError\u001b[0m: continuous is not supported"
          ]
        }
      ]
    },
    {
      "cell_type": "code",
      "metadata": {
        "colab": {
          "base_uri": "https://localhost:8080/"
        },
        "id": "vrC2fSlNxm3R",
        "outputId": "b72cc791-4249-4494-d95c-698b4527bdc3"
      },
      "source": [
        "print(f'Score : {score}')\n",
        "print(f'Variance_score : {expvarscore}')\n",
        "# print(f'{}')\n",
        "# print(f'{}')\n",
        "# print(f'{}')\n",
        "# print(f'{}')\n",
        "# print(f'{}')\n",
        "# print(f'{}')\n",
        "# print(f'{}')\n",
        "# print(f'{}')\n",
        "# print(f'{}')"
      ],
      "execution_count": 103,
      "outputs": [
        {
          "output_type": "stream",
          "text": [
            "Score : 0.9523134173150369\n",
            "Variance_score : -18.985036523369292\n"
          ],
          "name": "stdout"
        }
      ]
    },
    {
      "cell_type": "code",
      "metadata": {
        "colab": {
          "base_uri": "https://localhost:8080/",
          "height": 313
        },
        "id": "yrWtmub5awg7",
        "outputId": "4ba705cd-a088-4019-d572-b4218387822e"
      },
      "source": [
        "xgb.plot_importance(model)"
      ],
      "execution_count": 65,
      "outputs": [
        {
          "output_type": "execute_result",
          "data": {
            "text/plain": [
              "<matplotlib.axes._subplots.AxesSubplot at 0x7f6a2dfbbb50>"
            ]
          },
          "metadata": {
            "tags": []
          },
          "execution_count": 65
        },
        {
          "output_type": "display_data",
          "data": {
            "image/png": "[encoded data removed]",
            "text/plain": [
              "<Figure size 432x288 with 1 Axes>"
            ]
          },
          "metadata": {
            "tags": [],
            "needs_background": "light"
          }
        }
      ]
    },
    {
      "cell_type": "code",
      "metadata": {
        "id": "fIAVgU0Tazu_"
      },
      "source": [
        "y_pred = model.predict(X_tst)"
      ],
      "execution_count": 66,
      "outputs": []
    },
    {
      "cell_type": "code",
      "metadata": {
        "colab": {
          "base_uri": "https://localhost:8080/",
          "height": 226
        },
        "id": "bjDmxB7cgLEs",
        "outputId": "7ca5517d-aa8a-4904-d29f-7047cb227f99"
      },
      "source": [
        "score = model.score(X_trn, y_trn)\n",
        "accry = metrics.accuracy_score(y_tst,y_pred)\n",
        "precs = metrics.precision_score(y_tst,y_pred)\n",
        "recal = metrics.recall_score(y_tst,y_pred)\n",
        "f1scr = metrics.f1_score(y_tst,y_pred)\n",
        "roc = metrics.roc_auc_score(y_tst,y_pred)\n",
        "auc = metrics.auc(y_tst,y_pred)\n",
        "matrix = metrics.confusion_matrix(y_tst,y_pred)\n",
        "expvarscore = explained_variance_score(y_pred,y_tst)"
      ],
      "execution_count": 67,
      "outputs": [
        {
          "output_type": "stream",
          "text": [
            "0.9523134173150369\n"
          ],
          "name": "stdout"
        },
        {
          "output_type": "error",
          "ename": "NameError",
          "evalue": "ignored",
          "traceback": [
            "\u001b[0;31m---------------------------------------------------------------------------\u001b[0m",
            "\u001b[0;31mNameError\u001b[0m                                 Traceback (most recent call last)",
            "\u001b[0;32m<ipython-input-67-3552c6ba86c8>\u001b[0m in \u001b[0;36m<module>\u001b[0;34m()\u001b[0m\n\u001b[1;32m      1\u001b[0m \u001b[0mscore\u001b[0m \u001b[0;34m=\u001b[0m \u001b[0mmodel\u001b[0m\u001b[0;34m.\u001b[0m\u001b[0mscore\u001b[0m\u001b[0;34m(\u001b[0m\u001b[0mX_trn\u001b[0m\u001b[0;34m,\u001b[0m \u001b[0my_trn\u001b[0m\u001b[0;34m)\u001b[0m\u001b[0;34m\u001b[0m\u001b[0;34m\u001b[0m\u001b[0m\n\u001b[1;32m      2\u001b[0m \u001b[0mprint\u001b[0m\u001b[0;34m(\u001b[0m\u001b[0mscore\u001b[0m\u001b[0;34m)\u001b[0m\u001b[0;34m\u001b[0m\u001b[0;34m\u001b[0m\u001b[0m\n\u001b[0;32m----> 3\u001b[0;31m \u001b[0mprint\u001b[0m\u001b[0;34m(\u001b[0m\u001b[0mexplained_variance_score\u001b[0m\u001b[0;34m(\u001b[0m\u001b[0my_pred\u001b[0m\u001b[0;34m,\u001b[0m\u001b[0my_tst\u001b[0m\u001b[0;34m)\u001b[0m\u001b[0;34m)\u001b[0m\u001b[0;34m\u001b[0m\u001b[0;34m\u001b[0m\u001b[0m\n\u001b[0m",
            "\u001b[0;31mNameError\u001b[0m: name 'explained_variance_score' is not defined"
          ]
        }
      ]
    },
    {
      "cell_type": "code",
      "metadata": {
        "colab": {
          "base_uri": "https://localhost:8080/"
        },
        "id": "-OrVY--sdRjl",
        "outputId": "366616db-06a3-4f51-ac7e-fa1b9e4c86c8"
      },
      "source": [
        "print(trn.shape)\n",
        "print(tst.shape)"
      ],
      "execution_count": 61,
      "outputs": [
        {
          "output_type": "stream",
          "text": [
            "(1460, 50)\n",
            "(1459, 49)\n"
          ],
          "name": "stdout"
        }
      ]
    },
    {
      "cell_type": "code",
      "metadata": {
        "colab": {
          "base_uri": "https://localhost:8080/"
        },
        "id": "2BPF8HH2dehl",
        "outputId": "4f946265-7075-43a0-a128-94d9b51cac33"
      },
      "source": [
        "print(trn.info())"
      ],
      "execution_count": 62,
      "outputs": [
        {
          "output_type": "stream",
          "text": [
            "<class 'pandas.core.frame.DataFrame'>\n",
            "RangeIndex: 1460 entries, 0 to 1459\n",
            "Data columns (total 50 columns):\n",
            " #   Column         Non-Null Count  Dtype  \n",
            "---  ------         --------------  -----  \n",
            " 0   OverallQual    1460 non-null   int64  \n",
            " 1   YearBuilt      1460 non-null   int64  \n",
            " 2   YearRemodAdd   1460 non-null   int64  \n",
            " 3   TotalBsmtSF    1460 non-null   int64  \n",
            " 4   GrLivArea      1460 non-null   int64  \n",
            " 5   FullBath       1460 non-null   int64  \n",
            " 6   GarageYrBlt    1460 non-null   float64\n",
            " 7   GarageCars     1460 non-null   int64  \n",
            " 8   GarageArea     1460 non-null   int64  \n",
            " 9   1stFlrSF       1460 non-null   int64  \n",
            " 10  TotRmsAbvGrd   1460 non-null   int64  \n",
            " 11  SalePrice      1460 non-null   int64  \n",
            " 12  MSZoning       1460 non-null   int64  \n",
            " 13  Street         1460 non-null   int64  \n",
            " 14  LotShape       1460 non-null   int64  \n",
            " 15  LandContour    1460 non-null   int64  \n",
            " 16  Utilities      1460 non-null   int64  \n",
            " 17  LotConfig      1460 non-null   int64  \n",
            " 18  LandSlope      1460 non-null   int64  \n",
            " 19  Neighborhood   1460 non-null   int64  \n",
            " 20  Condition1     1460 non-null   int64  \n",
            " 21  Condition2     1460 non-null   int64  \n",
            " 22  BldgType       1460 non-null   int64  \n",
            " 23  HouseStyle     1460 non-null   int64  \n",
            " 24  RoofStyle      1460 non-null   int64  \n",
            " 25  RoofMatl       1460 non-null   int64  \n",
            " 26  Exterior1st    1460 non-null   int64  \n",
            " 27  Exterior2nd    1460 non-null   int64  \n",
            " 28  MasVnrType     1460 non-null   int64  \n",
            " 29  ExterQual      1460 non-null   int64  \n",
            " 30  ExterCond      1460 non-null   int64  \n",
            " 31  Foundation     1460 non-null   int64  \n",
            " 32  BsmtQual       1460 non-null   int64  \n",
            " 33  BsmtCond       1460 non-null   int64  \n",
            " 34  BsmtExposure   1460 non-null   int64  \n",
            " 35  BsmtFinType1   1460 non-null   int64  \n",
            " 36  BsmtFinType2   1460 non-null   int64  \n",
            " 37  Heating        1460 non-null   int64  \n",
            " 38  HeatingQC      1460 non-null   int64  \n",
            " 39  CentralAir     1460 non-null   int64  \n",
            " 40  Electrical     1460 non-null   int64  \n",
            " 41  KitchenQual    1460 non-null   int64  \n",
            " 42  Functional     1460 non-null   int64  \n",
            " 43  GarageType     1460 non-null   int64  \n",
            " 44  GarageFinish   1460 non-null   int64  \n",
            " 45  GarageQual     1460 non-null   int64  \n",
            " 46  GarageCond     1460 non-null   int64  \n",
            " 47  PavedDrive     1460 non-null   int64  \n",
            " 48  SaleType       1460 non-null   int64  \n",
            " 49  SaleCondition  1460 non-null   int64  \n",
            "dtypes: float64(1), int64(49)\n",
            "memory usage: 570.4 KB\n",
            "None\n"
          ],
          "name": "stdout"
        }
      ]
    },
    {
      "cell_type": "code",
      "metadata": {
        "colab": {
          "base_uri": "https://localhost:8080/"
        },
        "id": "QaJNIoEecso9",
        "outputId": "6556a927-ce67-47dd-b6a5-363a999038a2"
      },
      "source": [
        "x=0\n",
        "for i in trn.columns:\n",
        "  x+=1\n",
        "  print(i)\n",
        "print(x) \n",
        "print('='*250)  \n",
        "y=0\n",
        "for j in tst.columns:\n",
        "  y+=1\n",
        "  print(j)\n",
        "print(y)  "
      ],
      "execution_count": 49,
      "outputs": [
        {
          "output_type": "stream",
          "text": [
            "OverallQual\n",
            "YearBuilt\n",
            "YearRemodAdd\n",
            "TotalBsmtSF\n",
            "GrLivArea\n",
            "FullBath\n",
            "GarageYrBlt\n",
            "GarageCars\n",
            "GarageArea\n",
            "1stFlrSF\n",
            "TotRmsAbvGrd\n",
            "SalePrice\n",
            "MSZoning_C (all)\n",
            "MSZoning_FV\n",
            "MSZoning_RH\n",
            "MSZoning_RL\n",
            "MSZoning_RM\n",
            "Street_Grvl\n",
            "Street_Pave\n",
            "LotShape_IR1\n",
            "LotShape_IR2\n",
            "LotShape_IR3\n",
            "LotShape_Reg\n",
            "LandContour_Bnk\n",
            "LandContour_HLS\n",
            "LandContour_Low\n",
            "LandContour_Lvl\n",
            "Utilities_AllPub\n",
            "Utilities_NoSeWa\n",
            "LotConfig_Corner\n",
            "LotConfig_CulDSac\n",
            "LotConfig_FR2\n",
            "LotConfig_FR3\n",
            "LotConfig_Inside\n",
            "LandSlope_Gtl\n",
            "LandSlope_Mod\n",
            "LandSlope_Sev\n",
            "Neighborhood_Blmngtn\n",
            "Neighborhood_Blueste\n",
            "Neighborhood_BrDale\n",
            "Neighborhood_BrkSide\n",
            "Neighborhood_ClearCr\n",
            "Neighborhood_CollgCr\n",
            "Neighborhood_Crawfor\n",
            "Neighborhood_Edwards\n",
            "Neighborhood_Gilbert\n",
            "Neighborhood_IDOTRR\n",
            "Neighborhood_MeadowV\n",
            "Neighborhood_Mitchel\n",
            "Neighborhood_NAmes\n",
            "Neighborhood_NPkVill\n",
            "Neighborhood_NWAmes\n",
            "Neighborhood_NoRidge\n",
            "Neighborhood_NridgHt\n",
            "Neighborhood_OldTown\n",
            "Neighborhood_SWISU\n",
            "Neighborhood_Sawyer\n",
            "Neighborhood_SawyerW\n",
            "Neighborhood_Somerst\n",
            "Neighborhood_StoneBr\n",
            "Neighborhood_Timber\n",
            "Neighborhood_Veenker\n",
            "Condition1_Artery\n",
            "Condition1_Feedr\n",
            "Condition1_Norm\n",
            "Condition1_PosA\n",
            "Condition1_PosN\n",
            "Condition1_RRAe\n",
            "Condition1_RRAn\n",
            "Condition1_RRNe\n",
            "Condition1_RRNn\n",
            "Condition2_Artery\n",
            "Condition2_Feedr\n",
            "Condition2_Norm\n",
            "Condition2_PosA\n",
            "Condition2_PosN\n",
            "Condition2_RRAe\n",
            "Condition2_RRAn\n",
            "Condition2_RRNn\n",
            "BldgType_1Fam\n",
            "BldgType_2fmCon\n",
            "BldgType_Duplex\n",
            "BldgType_Twnhs\n",
            "BldgType_TwnhsE\n",
            "HouseStyle_1.5Fin\n",
            "HouseStyle_1.5Unf\n",
            "HouseStyle_1Story\n",
            "HouseStyle_2.5Fin\n",
            "HouseStyle_2.5Unf\n",
            "HouseStyle_2Story\n",
            "HouseStyle_SFoyer\n",
            "HouseStyle_SLvl\n",
            "RoofStyle_Flat\n",
            "RoofStyle_Gable\n",
            "RoofStyle_Gambrel\n",
            "RoofStyle_Hip\n",
            "RoofStyle_Mansard\n",
            "RoofStyle_Shed\n",
            "RoofMatl_ClyTile\n",
            "RoofMatl_CompShg\n",
            "RoofMatl_Membran\n",
            "RoofMatl_Metal\n",
            "RoofMatl_Roll\n",
            "RoofMatl_Tar&Grv\n",
            "RoofMatl_WdShake\n",
            "RoofMatl_WdShngl\n",
            "Exterior1st_AsbShng\n",
            "Exterior1st_AsphShn\n",
            "Exterior1st_BrkComm\n",
            "Exterior1st_BrkFace\n",
            "Exterior1st_CBlock\n",
            "Exterior1st_CemntBd\n",
            "Exterior1st_HdBoard\n",
            "Exterior1st_ImStucc\n",
            "Exterior1st_MetalSd\n",
            "Exterior1st_Plywood\n",
            "Exterior1st_Stone\n",
            "Exterior1st_Stucco\n",
            "Exterior1st_VinylSd\n",
            "Exterior1st_Wd Sdng\n",
            "Exterior1st_WdShing\n",
            "Exterior2nd_AsbShng\n",
            "Exterior2nd_AsphShn\n",
            "Exterior2nd_Brk Cmn\n",
            "Exterior2nd_BrkFace\n",
            "Exterior2nd_CBlock\n",
            "Exterior2nd_CmentBd\n",
            "Exterior2nd_HdBoard\n",
            "Exterior2nd_ImStucc\n",
            "Exterior2nd_MetalSd\n",
            "Exterior2nd_Other\n",
            "Exterior2nd_Plywood\n",
            "Exterior2nd_Stone\n",
            "Exterior2nd_Stucco\n",
            "Exterior2nd_VinylSd\n",
            "Exterior2nd_Wd Sdng\n",
            "Exterior2nd_Wd Shng\n",
            "MasVnrType_BrkCmn\n",
            "MasVnrType_BrkFace\n",
            "MasVnrType_None\n",
            "MasVnrType_Stone\n",
            "ExterQual_Ex\n",
            "ExterQual_Fa\n",
            "ExterQual_Gd\n",
            "ExterQual_TA\n",
            "ExterCond_Ex\n",
            "ExterCond_Fa\n",
            "ExterCond_Gd\n",
            "ExterCond_Po\n",
            "ExterCond_TA\n",
            "Foundation_BrkTil\n",
            "Foundation_CBlock\n",
            "Foundation_PConc\n",
            "Foundation_Slab\n",
            "Foundation_Stone\n",
            "Foundation_Wood\n",
            "BsmtQual_Ex\n",
            "BsmtQual_Fa\n",
            "BsmtQual_Gd\n",
            "BsmtQual_TA\n",
            "BsmtCond_Fa\n",
            "BsmtCond_Gd\n",
            "BsmtCond_Po\n",
            "BsmtCond_TA\n",
            "BsmtExposure_Av\n",
            "BsmtExposure_Gd\n",
            "BsmtExposure_Mn\n",
            "BsmtExposure_No\n",
            "BsmtFinType1_ALQ\n",
            "BsmtFinType1_BLQ\n",
            "BsmtFinType1_GLQ\n",
            "BsmtFinType1_LwQ\n",
            "BsmtFinType1_Rec\n",
            "BsmtFinType1_Unf\n",
            "BsmtFinType2_ALQ\n",
            "BsmtFinType2_BLQ\n",
            "BsmtFinType2_GLQ\n",
            "BsmtFinType2_LwQ\n",
            "BsmtFinType2_Rec\n",
            "BsmtFinType2_Unf\n",
            "Heating_Floor\n",
            "Heating_GasA\n",
            "Heating_GasW\n",
            "Heating_Grav\n",
            "Heating_OthW\n",
            "Heating_Wall\n",
            "HeatingQC_Ex\n",
            "HeatingQC_Fa\n",
            "HeatingQC_Gd\n",
            "HeatingQC_Po\n",
            "HeatingQC_TA\n",
            "CentralAir_N\n",
            "CentralAir_Y\n",
            "Electrical_FuseA\n",
            "Electrical_FuseF\n",
            "Electrical_FuseP\n",
            "Electrical_Mix\n",
            "Electrical_SBrkr\n",
            "KitchenQual_Ex\n",
            "KitchenQual_Fa\n",
            "KitchenQual_Gd\n",
            "KitchenQual_TA\n",
            "Functional_Maj1\n",
            "Functional_Maj2\n",
            "Functional_Min1\n",
            "Functional_Min2\n",
            "Functional_Mod\n",
            "Functional_Sev\n",
            "Functional_Typ\n",
            "GarageType_2Types\n",
            "GarageType_Attchd\n",
            "GarageType_Basment\n",
            "GarageType_BuiltIn\n",
            "GarageType_CarPort\n",
            "GarageType_Detchd\n",
            "GarageFinish_Fin\n",
            "GarageFinish_RFn\n",
            "GarageFinish_Unf\n",
            "GarageQual_Ex\n",
            "GarageQual_Fa\n",
            "GarageQual_Gd\n",
            "GarageQual_Po\n",
            "GarageQual_TA\n",
            "GarageCond_Ex\n",
            "GarageCond_Fa\n",
            "GarageCond_Gd\n",
            "GarageCond_Po\n",
            "GarageCond_TA\n",
            "PavedDrive_N\n",
            "PavedDrive_P\n",
            "PavedDrive_Y\n",
            "SaleType_COD\n",
            "SaleType_CWD\n",
            "SaleType_Con\n",
            "SaleType_ConLD\n",
            "SaleType_ConLI\n",
            "SaleType_ConLw\n",
            "SaleType_New\n",
            "SaleType_Oth\n",
            "SaleType_WD\n",
            "SaleCondition_Abnorml\n",
            "SaleCondition_AdjLand\n",
            "SaleCondition_Alloca\n",
            "SaleCondition_Family\n",
            "SaleCondition_Normal\n",
            "SaleCondition_Partial\n",
            "246\n",
            "==========================================================================================================================================================================================================================================================\n",
            "OverallQual\n",
            "YearBuilt\n",
            "YearRemodAdd\n",
            "TotalBsmtSF\n",
            "GrLivArea\n",
            "FullBath\n",
            "GarageYrBlt\n",
            "GarageCars\n",
            "GarageArea\n",
            "1stFlrSF\n",
            "TotRmsAbvGrd\n",
            "MSZoning_C (all)\n",
            "MSZoning_FV\n",
            "MSZoning_RH\n",
            "MSZoning_RL\n",
            "MSZoning_RM\n",
            "Street_Grvl\n",
            "Street_Pave\n",
            "LotShape_IR1\n",
            "LotShape_IR2\n",
            "LotShape_IR3\n",
            "LotShape_Reg\n",
            "LandContour_Bnk\n",
            "LandContour_HLS\n",
            "LandContour_Low\n",
            "LandContour_Lvl\n",
            "Utilities_AllPub\n",
            "LotConfig_Corner\n",
            "LotConfig_CulDSac\n",
            "LotConfig_FR2\n",
            "LotConfig_FR3\n",
            "LotConfig_Inside\n",
            "LandSlope_Gtl\n",
            "LandSlope_Mod\n",
            "LandSlope_Sev\n",
            "Neighborhood_Blmngtn\n",
            "Neighborhood_Blueste\n",
            "Neighborhood_BrDale\n",
            "Neighborhood_BrkSide\n",
            "Neighborhood_ClearCr\n",
            "Neighborhood_CollgCr\n",
            "Neighborhood_Crawfor\n",
            "Neighborhood_Edwards\n",
            "Neighborhood_Gilbert\n",
            "Neighborhood_IDOTRR\n",
            "Neighborhood_MeadowV\n",
            "Neighborhood_Mitchel\n",
            "Neighborhood_NAmes\n",
            "Neighborhood_NPkVill\n",
            "Neighborhood_NWAmes\n",
            "Neighborhood_NoRidge\n",
            "Neighborhood_NridgHt\n",
            "Neighborhood_OldTown\n",
            "Neighborhood_SWISU\n",
            "Neighborhood_Sawyer\n",
            "Neighborhood_SawyerW\n",
            "Neighborhood_Somerst\n",
            "Neighborhood_StoneBr\n",
            "Neighborhood_Timber\n",
            "Neighborhood_Veenker\n",
            "Condition1_Artery\n",
            "Condition1_Feedr\n",
            "Condition1_Norm\n",
            "Condition1_PosA\n",
            "Condition1_PosN\n",
            "Condition1_RRAe\n",
            "Condition1_RRAn\n",
            "Condition1_RRNe\n",
            "Condition1_RRNn\n",
            "Condition2_Artery\n",
            "Condition2_Feedr\n",
            "Condition2_Norm\n",
            "Condition2_PosA\n",
            "Condition2_PosN\n",
            "BldgType_1Fam\n",
            "BldgType_2fmCon\n",
            "BldgType_Duplex\n",
            "BldgType_Twnhs\n",
            "BldgType_TwnhsE\n",
            "HouseStyle_1.5Fin\n",
            "HouseStyle_1.5Unf\n",
            "HouseStyle_1Story\n",
            "HouseStyle_2.5Unf\n",
            "HouseStyle_2Story\n",
            "HouseStyle_SFoyer\n",
            "HouseStyle_SLvl\n",
            "RoofStyle_Flat\n",
            "RoofStyle_Gable\n",
            "RoofStyle_Gambrel\n",
            "RoofStyle_Hip\n",
            "RoofStyle_Mansard\n",
            "RoofStyle_Shed\n",
            "RoofMatl_CompShg\n",
            "RoofMatl_Tar&Grv\n",
            "RoofMatl_WdShake\n",
            "RoofMatl_WdShngl\n",
            "Exterior1st_AsbShng\n",
            "Exterior1st_AsphShn\n",
            "Exterior1st_BrkComm\n",
            "Exterior1st_BrkFace\n",
            "Exterior1st_CBlock\n",
            "Exterior1st_CemntBd\n",
            "Exterior1st_HdBoard\n",
            "Exterior1st_MetalSd\n",
            "Exterior1st_Plywood\n",
            "Exterior1st_Stucco\n",
            "Exterior1st_VinylSd\n",
            "Exterior1st_Wd Sdng\n",
            "Exterior1st_WdShing\n",
            "Exterior2nd_AsbShng\n",
            "Exterior2nd_AsphShn\n",
            "Exterior2nd_Brk Cmn\n",
            "Exterior2nd_BrkFace\n",
            "Exterior2nd_CBlock\n",
            "Exterior2nd_CmentBd\n",
            "Exterior2nd_HdBoard\n",
            "Exterior2nd_ImStucc\n",
            "Exterior2nd_MetalSd\n",
            "Exterior2nd_Plywood\n",
            "Exterior2nd_Stone\n",
            "Exterior2nd_Stucco\n",
            "Exterior2nd_VinylSd\n",
            "Exterior2nd_Wd Sdng\n",
            "Exterior2nd_Wd Shng\n",
            "MasVnrType_BrkCmn\n",
            "MasVnrType_BrkFace\n",
            "MasVnrType_None\n",
            "MasVnrType_Stone\n",
            "ExterQual_Ex\n",
            "ExterQual_Fa\n",
            "ExterQual_Gd\n",
            "ExterQual_TA\n",
            "ExterCond_Ex\n",
            "ExterCond_Fa\n",
            "ExterCond_Gd\n",
            "ExterCond_Po\n",
            "ExterCond_TA\n",
            "Foundation_BrkTil\n",
            "Foundation_CBlock\n",
            "Foundation_PConc\n",
            "Foundation_Slab\n",
            "Foundation_Stone\n",
            "Foundation_Wood\n",
            "BsmtQual_Ex\n",
            "BsmtQual_Fa\n",
            "BsmtQual_Gd\n",
            "BsmtQual_TA\n",
            "BsmtCond_Fa\n",
            "BsmtCond_Gd\n",
            "BsmtCond_Po\n",
            "BsmtCond_TA\n",
            "BsmtExposure_Av\n",
            "BsmtExposure_Gd\n",
            "BsmtExposure_Mn\n",
            "BsmtExposure_No\n",
            "BsmtFinType1_ALQ\n",
            "BsmtFinType1_BLQ\n",
            "BsmtFinType1_GLQ\n",
            "BsmtFinType1_LwQ\n",
            "BsmtFinType1_Rec\n",
            "BsmtFinType1_Unf\n",
            "BsmtFinType2_ALQ\n",
            "BsmtFinType2_BLQ\n",
            "BsmtFinType2_GLQ\n",
            "BsmtFinType2_LwQ\n",
            "BsmtFinType2_Rec\n",
            "BsmtFinType2_Unf\n",
            "Heating_GasA\n",
            "Heating_GasW\n",
            "Heating_Grav\n",
            "Heating_Wall\n",
            "HeatingQC_Ex\n",
            "HeatingQC_Fa\n",
            "HeatingQC_Gd\n",
            "HeatingQC_Po\n",
            "HeatingQC_TA\n",
            "CentralAir_N\n",
            "CentralAir_Y\n",
            "Electrical_FuseA\n",
            "Electrical_FuseF\n",
            "Electrical_FuseP\n",
            "Electrical_SBrkr\n",
            "KitchenQual_Ex\n",
            "KitchenQual_Fa\n",
            "KitchenQual_Gd\n",
            "KitchenQual_TA\n",
            "Functional_Maj1\n",
            "Functional_Maj2\n",
            "Functional_Min1\n",
            "Functional_Min2\n",
            "Functional_Mod\n",
            "Functional_Sev\n",
            "Functional_Typ\n",
            "GarageType_2Types\n",
            "GarageType_Attchd\n",
            "GarageType_Basment\n",
            "GarageType_BuiltIn\n",
            "GarageType_CarPort\n",
            "GarageType_Detchd\n",
            "GarageFinish_Fin\n",
            "GarageFinish_RFn\n",
            "GarageFinish_Unf\n",
            "GarageQual_Fa\n",
            "GarageQual_Gd\n",
            "GarageQual_Po\n",
            "GarageQual_TA\n",
            "GarageCond_Ex\n",
            "GarageCond_Fa\n",
            "GarageCond_Gd\n",
            "GarageCond_Po\n",
            "GarageCond_TA\n",
            "PavedDrive_N\n",
            "PavedDrive_P\n",
            "PavedDrive_Y\n",
            "SaleType_COD\n",
            "SaleType_CWD\n",
            "SaleType_Con\n",
            "SaleType_ConLD\n",
            "SaleType_ConLI\n",
            "SaleType_ConLw\n",
            "SaleType_New\n",
            "SaleType_Oth\n",
            "SaleType_WD\n",
            "SaleCondition_Abnorml\n",
            "SaleCondition_AdjLand\n",
            "SaleCondition_Alloca\n",
            "SaleCondition_Family\n",
            "SaleCondition_Normal\n",
            "SaleCondition_Partial\n",
            "229\n"
          ],
          "name": "stdout"
        }
      ]
    },
    {
      "cell_type": "code",
      "metadata": {
        "id": "LB3J0IGkRZur"
      },
      "source": [
        "# trn = pd.get_dummies(trn)\n",
        "# tst = pd.get_dummies(tst)\n",
        "\n",
        "# #missing_value\n",
        "# from sklearn.impute import SimpleImputer\n",
        "\n",
        "# imp1 = SimpleImputer(missing_value=np.nan,strategy = 'most_frequent',axis=0)\n",
        "# imp2 = SimpleImputer(missing_value=np.inf,strategy = 'most_frequent',axis=0)\n",
        "# trn = imp1.fit_transform(trn)\n",
        "# trn = imp2.fit_transform(trn)\n",
        "# tst = imp1.fit_transform(tst)\n",
        "# tst = imp2.fit_transform(tst)\n",
        "\n",
        "# #log transformating\n",
        "# data = np.log(data)\n",
        "# labels = np.log(labels)\n",
        "# data = np.log(data)\n",
        "# labels = np.log(labels)\n",
        "\n",
        "# #int->0(using log)\n",
        "# data[data==np.inf]=0"
      ],
      "execution_count": 33,
      "outputs": []
    },
    {
      "cell_type": "code",
      "metadata": {
        "colab": {
          "base_uri": "https://localhost:8080/"
        },
        "id": "RrLLlmQmbrSu",
        "outputId": "55101ff3-0f1d-47f1-ac4c-9196105a1f3b"
      },
      "source": [
        "for i in X_trn.columns:\n",
        "  print(i)\n",
        "print('='*250)  \n",
        "for j in X_tst.columns:\n",
        "  print(j)"
      ],
      "execution_count": 47,
      "outputs": [
        {
          "output_type": "stream",
          "text": [
            "OverallQual\n",
            "YearBuilt\n",
            "YearRemodAdd\n",
            "TotalBsmtSF\n",
            "GrLivArea\n",
            "FullBath\n",
            "GarageYrBlt\n",
            "GarageCars\n",
            "GarageArea\n",
            "1stFlrSF\n",
            "TotRmsAbvGrd\n",
            "MSZoning_C (all)\n",
            "MSZoning_FV\n",
            "MSZoning_RH\n",
            "MSZoning_RL\n",
            "MSZoning_RM\n",
            "Street_Grvl\n",
            "Street_Pave\n",
            "LotShape_IR1\n",
            "LotShape_IR2\n",
            "LotShape_IR3\n",
            "LotShape_Reg\n",
            "LandContour_Bnk\n",
            "LandContour_HLS\n",
            "LandContour_Low\n",
            "LandContour_Lvl\n",
            "Utilities_AllPub\n",
            "Utilities_NoSeWa\n",
            "LotConfig_Corner\n",
            "LotConfig_CulDSac\n",
            "LotConfig_FR2\n",
            "LotConfig_FR3\n",
            "LotConfig_Inside\n",
            "LandSlope_Gtl\n",
            "LandSlope_Mod\n",
            "LandSlope_Sev\n",
            "Neighborhood_Blmngtn\n",
            "Neighborhood_Blueste\n",
            "Neighborhood_BrDale\n",
            "Neighborhood_BrkSide\n",
            "Neighborhood_ClearCr\n",
            "Neighborhood_CollgCr\n",
            "Neighborhood_Crawfor\n",
            "Neighborhood_Edwards\n",
            "Neighborhood_Gilbert\n",
            "Neighborhood_IDOTRR\n",
            "Neighborhood_MeadowV\n",
            "Neighborhood_Mitchel\n",
            "Neighborhood_NAmes\n",
            "Neighborhood_NPkVill\n",
            "Neighborhood_NWAmes\n",
            "Neighborhood_NoRidge\n",
            "Neighborhood_NridgHt\n",
            "Neighborhood_OldTown\n",
            "Neighborhood_SWISU\n",
            "Neighborhood_Sawyer\n",
            "Neighborhood_SawyerW\n",
            "Neighborhood_Somerst\n",
            "Neighborhood_StoneBr\n",
            "Neighborhood_Timber\n",
            "Neighborhood_Veenker\n",
            "Condition1_Artery\n",
            "Condition1_Feedr\n",
            "Condition1_Norm\n",
            "Condition1_PosA\n",
            "Condition1_PosN\n",
            "Condition1_RRAe\n",
            "Condition1_RRAn\n",
            "Condition1_RRNe\n",
            "Condition1_RRNn\n",
            "Condition2_Artery\n",
            "Condition2_Feedr\n",
            "Condition2_Norm\n",
            "Condition2_PosA\n",
            "Condition2_PosN\n",
            "Condition2_RRAe\n",
            "Condition2_RRAn\n",
            "Condition2_RRNn\n",
            "BldgType_1Fam\n",
            "BldgType_2fmCon\n",
            "BldgType_Duplex\n",
            "BldgType_Twnhs\n",
            "BldgType_TwnhsE\n",
            "HouseStyle_1.5Fin\n",
            "HouseStyle_1.5Unf\n",
            "HouseStyle_1Story\n",
            "HouseStyle_2.5Fin\n",
            "HouseStyle_2.5Unf\n",
            "HouseStyle_2Story\n",
            "HouseStyle_SFoyer\n",
            "HouseStyle_SLvl\n",
            "RoofStyle_Flat\n",
            "RoofStyle_Gable\n",
            "RoofStyle_Gambrel\n",
            "RoofStyle_Hip\n",
            "RoofStyle_Mansard\n",
            "RoofStyle_Shed\n",
            "RoofMatl_ClyTile\n",
            "RoofMatl_CompShg\n",
            "RoofMatl_Membran\n",
            "RoofMatl_Metal\n",
            "RoofMatl_Roll\n",
            "RoofMatl_Tar&Grv\n",
            "RoofMatl_WdShake\n",
            "RoofMatl_WdShngl\n",
            "Exterior1st_AsbShng\n",
            "Exterior1st_AsphShn\n",
            "Exterior1st_BrkComm\n",
            "Exterior1st_BrkFace\n",
            "Exterior1st_CBlock\n",
            "Exterior1st_CemntBd\n",
            "Exterior1st_HdBoard\n",
            "Exterior1st_ImStucc\n",
            "Exterior1st_MetalSd\n",
            "Exterior1st_Plywood\n",
            "Exterior1st_Stone\n",
            "Exterior1st_Stucco\n",
            "Exterior1st_VinylSd\n",
            "Exterior1st_Wd Sdng\n",
            "Exterior1st_WdShing\n",
            "Exterior2nd_AsbShng\n",
            "Exterior2nd_AsphShn\n",
            "Exterior2nd_Brk Cmn\n",
            "Exterior2nd_BrkFace\n",
            "Exterior2nd_CBlock\n",
            "Exterior2nd_CmentBd\n",
            "Exterior2nd_HdBoard\n",
            "Exterior2nd_ImStucc\n",
            "Exterior2nd_MetalSd\n",
            "Exterior2nd_Other\n",
            "Exterior2nd_Plywood\n",
            "Exterior2nd_Stone\n",
            "Exterior2nd_Stucco\n",
            "Exterior2nd_VinylSd\n",
            "Exterior2nd_Wd Sdng\n",
            "Exterior2nd_Wd Shng\n",
            "MasVnrType_BrkCmn\n",
            "MasVnrType_BrkFace\n",
            "MasVnrType_None\n",
            "MasVnrType_Stone\n",
            "ExterQual_Ex\n",
            "ExterQual_Fa\n",
            "ExterQual_Gd\n",
            "ExterQual_TA\n",
            "ExterCond_Ex\n",
            "ExterCond_Fa\n",
            "ExterCond_Gd\n",
            "ExterCond_Po\n",
            "ExterCond_TA\n",
            "Foundation_BrkTil\n",
            "Foundation_CBlock\n",
            "Foundation_PConc\n",
            "Foundation_Slab\n",
            "Foundation_Stone\n",
            "Foundation_Wood\n",
            "BsmtQual_Ex\n",
            "BsmtQual_Fa\n",
            "BsmtQual_Gd\n",
            "BsmtQual_TA\n",
            "BsmtCond_Fa\n",
            "BsmtCond_Gd\n",
            "BsmtCond_Po\n",
            "BsmtCond_TA\n",
            "BsmtExposure_Av\n",
            "BsmtExposure_Gd\n",
            "BsmtExposure_Mn\n",
            "BsmtExposure_No\n",
            "BsmtFinType1_ALQ\n",
            "BsmtFinType1_BLQ\n",
            "BsmtFinType1_GLQ\n",
            "BsmtFinType1_LwQ\n",
            "BsmtFinType1_Rec\n",
            "BsmtFinType1_Unf\n",
            "BsmtFinType2_ALQ\n",
            "BsmtFinType2_BLQ\n",
            "BsmtFinType2_GLQ\n",
            "BsmtFinType2_LwQ\n",
            "BsmtFinType2_Rec\n",
            "BsmtFinType2_Unf\n",
            "Heating_Floor\n",
            "Heating_GasA\n",
            "Heating_GasW\n",
            "Heating_Grav\n",
            "Heating_OthW\n",
            "Heating_Wall\n",
            "HeatingQC_Ex\n",
            "HeatingQC_Fa\n",
            "HeatingQC_Gd\n",
            "HeatingQC_Po\n",
            "HeatingQC_TA\n",
            "CentralAir_N\n",
            "CentralAir_Y\n",
            "Electrical_FuseA\n",
            "Electrical_FuseF\n",
            "Electrical_FuseP\n",
            "Electrical_Mix\n",
            "Electrical_SBrkr\n",
            "KitchenQual_Ex\n",
            "KitchenQual_Fa\n",
            "KitchenQual_Gd\n",
            "KitchenQual_TA\n",
            "Functional_Maj1\n",
            "Functional_Maj2\n",
            "Functional_Min1\n",
            "Functional_Min2\n",
            "Functional_Mod\n",
            "Functional_Sev\n",
            "Functional_Typ\n",
            "GarageType_2Types\n",
            "GarageType_Attchd\n",
            "GarageType_Basment\n",
            "GarageType_BuiltIn\n",
            "GarageType_CarPort\n",
            "GarageType_Detchd\n",
            "GarageFinish_Fin\n",
            "GarageFinish_RFn\n",
            "GarageFinish_Unf\n",
            "GarageQual_Ex\n",
            "GarageQual_Fa\n",
            "GarageQual_Gd\n",
            "GarageQual_Po\n",
            "GarageQual_TA\n",
            "GarageCond_Ex\n",
            "GarageCond_Fa\n",
            "GarageCond_Gd\n",
            "GarageCond_Po\n",
            "GarageCond_TA\n",
            "PavedDrive_N\n",
            "PavedDrive_P\n",
            "PavedDrive_Y\n",
            "SaleType_COD\n",
            "SaleType_CWD\n",
            "SaleType_Con\n",
            "SaleType_ConLD\n",
            "SaleType_ConLI\n",
            "SaleType_ConLw\n",
            "SaleType_New\n",
            "SaleType_Oth\n",
            "SaleType_WD\n",
            "SaleCondition_Abnorml\n",
            "SaleCondition_AdjLand\n",
            "SaleCondition_Alloca\n",
            "SaleCondition_Family\n",
            "SaleCondition_Normal\n",
            "SaleCondition_Partial\n",
            "==========================================================================================================================================================================================================================================================\n",
            "OverallQual\n",
            "YearBuilt\n",
            "YearRemodAdd\n",
            "TotalBsmtSF\n",
            "GrLivArea\n",
            "FullBath\n",
            "GarageYrBlt\n",
            "GarageCars\n",
            "GarageArea\n",
            "1stFlrSF\n",
            "TotRmsAbvGrd\n",
            "MSZoning_C (all)\n",
            "MSZoning_FV\n",
            "MSZoning_RH\n",
            "MSZoning_RL\n",
            "MSZoning_RM\n",
            "Street_Grvl\n",
            "Street_Pave\n",
            "LotShape_IR1\n",
            "LotShape_IR2\n",
            "LotShape_IR3\n",
            "LotShape_Reg\n",
            "LandContour_Bnk\n",
            "LandContour_HLS\n",
            "LandContour_Low\n",
            "LandContour_Lvl\n",
            "Utilities_AllPub\n",
            "LotConfig_Corner\n",
            "LotConfig_CulDSac\n",
            "LotConfig_FR2\n",
            "LotConfig_FR3\n",
            "LotConfig_Inside\n",
            "LandSlope_Gtl\n",
            "LandSlope_Mod\n",
            "LandSlope_Sev\n",
            "Neighborhood_Blmngtn\n",
            "Neighborhood_Blueste\n",
            "Neighborhood_BrDale\n",
            "Neighborhood_BrkSide\n",
            "Neighborhood_ClearCr\n",
            "Neighborhood_CollgCr\n",
            "Neighborhood_Crawfor\n",
            "Neighborhood_Edwards\n",
            "Neighborhood_Gilbert\n",
            "Neighborhood_IDOTRR\n",
            "Neighborhood_MeadowV\n",
            "Neighborhood_Mitchel\n",
            "Neighborhood_NAmes\n",
            "Neighborhood_NPkVill\n",
            "Neighborhood_NWAmes\n",
            "Neighborhood_NoRidge\n",
            "Neighborhood_NridgHt\n",
            "Neighborhood_OldTown\n",
            "Neighborhood_SWISU\n",
            "Neighborhood_Sawyer\n",
            "Neighborhood_SawyerW\n",
            "Neighborhood_Somerst\n",
            "Neighborhood_StoneBr\n",
            "Neighborhood_Timber\n",
            "Neighborhood_Veenker\n",
            "Condition1_Artery\n",
            "Condition1_Feedr\n",
            "Condition1_Norm\n",
            "Condition1_PosA\n",
            "Condition1_PosN\n",
            "Condition1_RRAe\n",
            "Condition1_RRAn\n",
            "Condition1_RRNe\n",
            "Condition1_RRNn\n",
            "Condition2_Artery\n",
            "Condition2_Feedr\n",
            "Condition2_Norm\n",
            "Condition2_PosA\n",
            "Condition2_PosN\n",
            "BldgType_1Fam\n",
            "BldgType_2fmCon\n",
            "BldgType_Duplex\n",
            "BldgType_Twnhs\n",
            "BldgType_TwnhsE\n",
            "HouseStyle_1.5Fin\n",
            "HouseStyle_1.5Unf\n",
            "HouseStyle_1Story\n",
            "HouseStyle_2.5Unf\n",
            "HouseStyle_2Story\n",
            "HouseStyle_SFoyer\n",
            "HouseStyle_SLvl\n",
            "RoofStyle_Flat\n",
            "RoofStyle_Gable\n",
            "RoofStyle_Gambrel\n",
            "RoofStyle_Hip\n",
            "RoofStyle_Mansard\n",
            "RoofStyle_Shed\n",
            "RoofMatl_CompShg\n",
            "RoofMatl_Tar&Grv\n",
            "RoofMatl_WdShake\n",
            "RoofMatl_WdShngl\n",
            "Exterior1st_AsbShng\n",
            "Exterior1st_AsphShn\n",
            "Exterior1st_BrkComm\n",
            "Exterior1st_BrkFace\n",
            "Exterior1st_CBlock\n",
            "Exterior1st_CemntBd\n",
            "Exterior1st_HdBoard\n",
            "Exterior1st_MetalSd\n",
            "Exterior1st_Plywood\n",
            "Exterior1st_Stucco\n",
            "Exterior1st_VinylSd\n",
            "Exterior1st_Wd Sdng\n",
            "Exterior1st_WdShing\n",
            "Exterior2nd_AsbShng\n",
            "Exterior2nd_AsphShn\n",
            "Exterior2nd_Brk Cmn\n",
            "Exterior2nd_BrkFace\n",
            "Exterior2nd_CBlock\n",
            "Exterior2nd_CmentBd\n",
            "Exterior2nd_HdBoard\n",
            "Exterior2nd_ImStucc\n",
            "Exterior2nd_MetalSd\n",
            "Exterior2nd_Plywood\n",
            "Exterior2nd_Stone\n",
            "Exterior2nd_Stucco\n",
            "Exterior2nd_VinylSd\n",
            "Exterior2nd_Wd Sdng\n",
            "Exterior2nd_Wd Shng\n",
            "MasVnrType_BrkCmn\n",
            "MasVnrType_BrkFace\n",
            "MasVnrType_None\n",
            "MasVnrType_Stone\n",
            "ExterQual_Ex\n",
            "ExterQual_Fa\n",
            "ExterQual_Gd\n",
            "ExterQual_TA\n",
            "ExterCond_Ex\n",
            "ExterCond_Fa\n",
            "ExterCond_Gd\n",
            "ExterCond_Po\n",
            "ExterCond_TA\n",
            "Foundation_BrkTil\n",
            "Foundation_CBlock\n",
            "Foundation_PConc\n",
            "Foundation_Slab\n",
            "Foundation_Stone\n",
            "Foundation_Wood\n",
            "BsmtQual_Ex\n",
            "BsmtQual_Fa\n",
            "BsmtQual_Gd\n",
            "BsmtQual_TA\n",
            "BsmtCond_Fa\n",
            "BsmtCond_Gd\n",
            "BsmtCond_Po\n",
            "BsmtCond_TA\n",
            "BsmtExposure_Av\n",
            "BsmtExposure_Gd\n",
            "BsmtExposure_Mn\n",
            "BsmtExposure_No\n",
            "BsmtFinType1_ALQ\n",
            "BsmtFinType1_BLQ\n",
            "BsmtFinType1_GLQ\n",
            "BsmtFinType1_LwQ\n",
            "BsmtFinType1_Rec\n",
            "BsmtFinType1_Unf\n",
            "BsmtFinType2_ALQ\n",
            "BsmtFinType2_BLQ\n",
            "BsmtFinType2_GLQ\n",
            "BsmtFinType2_LwQ\n",
            "BsmtFinType2_Rec\n",
            "BsmtFinType2_Unf\n",
            "Heating_GasA\n",
            "Heating_GasW\n",
            "Heating_Grav\n",
            "Heating_Wall\n",
            "HeatingQC_Ex\n",
            "HeatingQC_Fa\n",
            "HeatingQC_Gd\n",
            "HeatingQC_Po\n",
            "HeatingQC_TA\n",
            "CentralAir_N\n",
            "CentralAir_Y\n",
            "Electrical_FuseA\n",
            "Electrical_FuseF\n",
            "Electrical_FuseP\n",
            "Electrical_SBrkr\n",
            "KitchenQual_Ex\n",
            "KitchenQual_Fa\n",
            "KitchenQual_Gd\n",
            "KitchenQual_TA\n",
            "Functional_Maj1\n",
            "Functional_Maj2\n",
            "Functional_Min1\n",
            "Functional_Min2\n",
            "Functional_Mod\n",
            "Functional_Sev\n",
            "Functional_Typ\n",
            "GarageType_2Types\n",
            "GarageType_Attchd\n",
            "GarageType_Basment\n",
            "GarageType_BuiltIn\n",
            "GarageType_CarPort\n",
            "GarageType_Detchd\n",
            "GarageFinish_Fin\n",
            "GarageFinish_RFn\n",
            "GarageFinish_Unf\n",
            "GarageQual_Fa\n",
            "GarageQual_Gd\n",
            "GarageQual_Po\n",
            "GarageQual_TA\n",
            "GarageCond_Ex\n",
            "GarageCond_Fa\n",
            "GarageCond_Gd\n",
            "GarageCond_Po\n",
            "GarageCond_TA\n",
            "PavedDrive_N\n",
            "PavedDrive_P\n",
            "PavedDrive_Y\n",
            "SaleType_COD\n",
            "SaleType_CWD\n",
            "SaleType_Con\n",
            "SaleType_ConLD\n",
            "SaleType_ConLI\n",
            "SaleType_ConLw\n",
            "SaleType_New\n",
            "SaleType_Oth\n",
            "SaleType_WD\n",
            "SaleCondition_Abnorml\n",
            "SaleCondition_AdjLand\n",
            "SaleCondition_Alloca\n",
            "SaleCondition_Family\n",
            "SaleCondition_Normal\n",
            "SaleCondition_Partial\n"
          ],
          "name": "stdout"
        }
      ]
    },
    {
      "cell_type": "code",
      "metadata": {
        "colab": {
          "base_uri": "https://localhost:8080/"
        },
        "id": "htb1U9UCbcJj",
        "outputId": "5c90b04d-45d0-4a07-be3d-f4e01df3f57f"
      },
      "source": [
        "X_tst.columns"
      ],
      "execution_count": 36,
      "outputs": [
        {
          "output_type": "execute_result",
          "data": {
            "text/plain": [
              "Index(['OverallQual', 'YearBuilt', 'YearRemodAdd', 'TotalBsmtSF', 'GrLivArea', 'FullBath', 'GarageYrBlt', 'GarageCars', 'GarageArea', '1stFlrSF',\n",
              "       ...\n",
              "       'SaleType_ConLw', 'SaleType_New', 'SaleType_Oth', 'SaleType_WD', 'SaleCondition_Abnorml', 'SaleCondition_AdjLand', 'SaleCondition_Alloca', 'SaleCondition_Family', 'SaleCondition_Normal', 'SaleCondition_Partial'], dtype='object', length=229)"
            ]
          },
          "metadata": {
            "tags": []
          },
          "execution_count": 36
        }
      ]
    },
    {
      "cell_type": "code",
      "metadata": {
        "id": "1f91k8HDTPnk"
      },
      "source": [
        "# from sklearn.decomposition import PCA\n",
        "\n",
        "# pca = PCA(whiten=True)\n",
        "# #whiten : 들어오는 input의 feature들을 uncorrelattion하게 만들고, 각각의 variation를 1로 만들어주는 작업\n",
        "\n",
        "# # pca.fit(X_trn,y_trn)\n",
        "# pca.fit(X_trn)"
      ],
      "execution_count": 37,
      "outputs": []
    },
    {
      "cell_type": "code",
      "metadata": {
        "id": "_DbLNSWSwHSc"
      },
      "source": [
        "# from sklearn.decomposition import PCA\n",
        "\n",
        "# pca = PCA(whiten=True)\n",
        "# #whiten : 들어오는 input의 feature들을 uncorrelattion하게 만들고, 각각의 variation를 1로 만들어주는 작업\n",
        "\n",
        "# # pca.fit(X_trn,y_trn)\n",
        "# pca.fit(X_trn)\n",
        "\n",
        "# pca = PCA(n_components=36,whiten=True)\n",
        "# # pca = pca.fit(X_trn,y_trn)\n",
        "# pca = pca.fit(X_trn)\n",
        "# trainPCA = pca.transform(X_trn)"
      ],
      "execution_count": null,
      "outputs": []
    },
    {
      "cell_type": "code",
      "metadata": {
        "id": "VigUS0YFVOa-"
      },
      "source": [
        "# pca = PCA(n_components=36,whiten=True)\n",
        "# # pca = pca.fit(X_trn,y_trn)\n",
        "# pca = pca.fit(X_trn)\n",
        "# trainPCA = pca.transform(X_trn)"
      ],
      "execution_count": 38,
      "outputs": []
    },
    {
      "cell_type": "code",
      "metadata": {
        "id": "YJbYgfiuVn5h"
      },
      "source": [
        "# #R^2 squared defination\n",
        "# from sklearn.model_selection import KFold\n",
        "# from sklearn.metrics import make_scorer\n",
        "# from sklearn.linear_model import LinearRegression\n",
        "# from sklearn.linear_model import Ridge\n",
        "# from sklearn.ensemble import BaggingRegressor\n",
        "# from sklearn.ensemble import RandomForestRegressor\n",
        "# from sklearn.ensemble import AdaBoostRegressor\n",
        "# from sklearn.ensemble import GradientBoostingRegressor\n",
        "# from sklearn.svm import SVR\n",
        "# from xgboost import XGBRegressor\n",
        "# from lightgbm import LGBMRegressor\n",
        "# from catboost import CatBoostRegressor\n",
        "\n",
        "# def Squared(train, labels):\n",
        "#   results = {}\n",
        "#   def test_model(clf):\n",
        "#     cv = KFold(n_split=5, shuffle=True, random_stage=42)\n",
        "#     r2 = make_scorer(r2_score)\n",
        "#     r2_val_score = cross_val_score(clf.train, labels=cv, scoring=12)\n",
        "\n",
        "#     clf = LinearRegresssion()\n",
        "#     result['Linear'] = test_model(clf)\n",
        "\n",
        "#     clf = Ridge()\n",
        "#     result['Ridge'] = test_model(clf)\n",
        "\n",
        "#     clf = BaggingRegresssor()\n",
        "#     result['Bagging'] = test_model(clf)\n",
        "\n",
        "#     clf = RandomForestRegresssor()\n",
        "#     result['RandomForest'] = test_model(clf)\n",
        "\n",
        "#     clf = AdaBoostRegressor()\n",
        "#     result['AdaBoost'] = test_model(clf)\n",
        "\n",
        "#     clf = GradientBoostingRegressor()\n",
        "#     result['GradientBoosting'] = test_model(clf)\n",
        "\n",
        "#     clf = SVR()\n",
        "#     result['SVR'] = test_model(clf)\n",
        "\n",
        "#     clf = XGBRegressor()\n",
        "#     result['XGB'] = test_model(clf)\n",
        "\n",
        "#     clf = LGBMRegressor()\n",
        "#     result['LightGBM'] = test_model(clf)\n",
        "\n",
        "#     clf = CatBoostRegressor()\n",
        "#     result['CatBoost'] = test_model(clf)\n",
        "\n",
        "#     result = pd.DataFrame.from_dict(result, orient='index')\n",
        "#     result.columns = ['R square Score']\n",
        "#     result = result.sort(columns = ['R square Score'])"
      ],
      "execution_count": 43,
      "outputs": []
    },
    {
      "cell_type": "code",
      "metadata": {
        "id": "Zwb1n4leZCgi"
      },
      "source": [
        "# Squared(X_trn,y_trn)"
      ],
      "execution_count": 44,
      "outputs": []
    },
    {
      "cell_type": "markdown",
      "metadata": {
        "id": "PS3Aa89DWdpu"
      },
      "source": [
        "# 강사님 flow 따라갔었던 것"
      ]
    },
    {
      "cell_type": "markdown",
      "metadata": {
        "id": "t44LM-xxvjEF"
      },
      "source": [
        "## isna.sum()__drop or fillna(0)\n",
        "### non_categorical ~ .isna().sum()\n",
        "* LotFrontage : 259\n",
        "* MasVnrArea : 8\n",
        "* GarageYrBlt : 81\n",
        "\n",
        "### categorical ~ .isna().sum()\n",
        "* **Alley : 1369** [nan 'Grvl' 'Pave']\n",
        "* **MasVnrType : 8** ['BrkFace' 'None' 'Stone' 'BrkCmn' nan]\n",
        "* **BsmtQual : 37** ['Gd' 'TA' 'Ex' nan 'Fa']\n",
        "* **BsmtCond : 37** ['TA' 'Gd' nan 'Fa' 'Po']\n",
        "* **BsmtExposure : 38** ['No' 'Gd' 'Mn' 'Av' nan]\n",
        "* **BsmtFinType1 : 37** ['GLQ' 'ALQ' 'Unf' 'Rec' 'BLQ' nan 'LwQ']\n",
        "* **BsmtFinType2 : 38** ['Unf' 'BLQ' nan 'ALQ' 'Rec' 'LwQ' 'GLQ']\n",
        "* **Electrical : 1** ['SBrkr' 'FuseF' 'FuseA' 'FuseP' 'Mix' nan]\n",
        "* **FireplaceQu : 690** [nan 'TA' 'Gd' 'Fa' 'Ex' 'Po']\n",
        "* **GarageType : 81** ['Attchd' 'Detchd' 'BuiltIn' 'CarPort' nan 'Basment' '2Types']\n",
        "* **GarageFinish : 81** ['RFn' 'Unf' 'Fin' nan]\n",
        "* **GarageQual : 81** ['TA' 'Fa' 'Gd' nan 'Ex' 'Po']\n",
        "* **GarageCond : 81** ['TA' 'Fa' nan 'Gd' 'Po' 'Ex'\n",
        "* **PoolQC : 1453** [nan 'Ex' 'Fa' 'Gd']\n",
        "* **Fence : 1179** [nan 'MnPrv' 'GdWo' 'GdPrv' 'MnWw']\n",
        "* **MiscFeature : 1406** [nan 'Shed' 'Gar2' 'Othr' 'TenC']"
      ]
    },
    {
      "cell_type": "markdown",
      "metadata": {
        "id": "P_gsIw5Jsb8v"
      },
      "source": [
        "Alley의 값에 NaN이 있는 것에 반해, Street에는 NaN값이 없으며, 동일한 값으로 구별됨"
      ]
    },
    {
      "cell_type": "code",
      "metadata": {
        "id": "cq39VMtKVdrb"
      },
      "source": [
        "# train_data = data[:1460]\n",
        "# test_data = data[1460:]"
      ],
      "execution_count": 45,
      "outputs": []
    },
    {
      "cell_type": "markdown",
      "metadata": {
        "id": "uTXXSgTxHyPt"
      },
      "source": [
        "classification plots\n",
        "\n",
        "[link] https://datascienceplus.com/machine-learning-results-one-plot-to-rule-them-all/"
      ]
    }
  ]
}