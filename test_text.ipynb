{
  "nbformat": 4,
  "nbformat_minor": 0,
  "metadata": {
    "colab": {
      "name": "test_text.ipynb",
      "provenance": [],
      "collapsed_sections": [],
      "authorship_tag": "ABX9TyN2K1OQmwn8py2DIdVK5dYh",
      "include_colab_link": true
    },
    "kernelspec": {
      "name": "python3",
      "display_name": "Python 3"
    },
    "language_info": {
      "name": "python"
    }
  },
  "cells": [
    {
      "cell_type": "markdown",
      "metadata": {
        "id": "view-in-github",
        "colab_type": "text"
      },
      "source": [
        "<a href=\"https://colab.research.google.com/github/AshbeeKim/Kaggle_task/blob/main/test_text.ipynb\" target=\"_parent\"><img src=\"https://colab.research.google.com/assets/colab-badge.svg\" alt=\"Open In Colab\"/></a>"
      ]
    },
    {
      "cell_type": "markdown",
      "metadata": {
        "id": "ofEULtkSO9sQ"
      },
      "source": [
        "<06.04(금) 14:00 ~ 15:00 텍스트 분석>\n",
        "Data set : Mercari Price Suggestion Challenge(https://www.kaggle.com/c/mercari-price-suggestion-challenge/overview)\n",
        "\n",
        "1. [중] 대/중/소 형식으로 개별 컬럼을 생성하시오.\n",
        "    * category name 을 대/중/소 형식으로 개별 컬럼으로 생성하고 중복을 제거 한 다음 코드를 첨부하시오.\n",
        "2.  [중]텍스트를 tokenize를 하시오.\n",
        "3.  category_name 변수에서 가장 많이 있는 품목을 코드로 밝히시오(plotly를 사용하여서)\n",
        "4. TF-IDF를 사용하시오.\n",
        "5. 모델을 적용해보고 결과를 해석하시오."
      ]
    },
    {
      "cell_type": "markdown",
      "metadata": {
        "id": "VCLaQ6cff2NA"
      },
      "source": [
        "# import & download"
      ]
    },
    {
      "cell_type": "code",
      "metadata": {
        "colab": {
          "resources": {
            "http://localhost:8080/nbextensions/google.colab/files.js": {
              "data": "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",
              "ok": true,
              "headers": [
                [
                  "content-type",
                  "application/javascript"
                ]
              ],
              "status": 200,
              "status_text": ""
            }
          },
          "base_uri": "https://localhost:8080/",
          "height": 123
        },
        "id": "ZoKpj-s4QlVT",
        "outputId": "e9adabe6-d8d2-45b4-e5ac-2917827bd478"
      },
      "source": [
        "# import os  \n",
        "\n",
        "# from google.colab import files\n",
        "# files.upload()\n",
        "\n",
        "# !mkdir -p ~/.kaggle\n",
        "\n",
        "# !mv kaggle.json ~/.kaggle\n",
        "# #!cd kaggle.json ~/.kaggle\n",
        "\n",
        "# !chmod 600 ~/.kaggle/kaggle.json\n",
        "# !cd ~/.kaggle  \n",
        "\n",
        "# %cd ~/.kaggle\n",
        "\n",
        "# !ls -1ha ~/.kaggle/kaggle.json\n",
        "\n",
        "# !export KAGGLE_USERNAME=ashbeekim\n",
        "# !export KAGGLE_KEY=xxxxxxxxxxxxxx"
      ],
      "execution_count": null,
      "outputs": [
        {
          "output_type": "display_data",
          "data": {
            "text/html": [
              "\n",
              "     <input type=\"file\" id=\"files-063247b1-25b7-47ad-8305-3025f9a3b657\" name=\"files[]\" multiple disabled\n",
              "        style=\"border:none\" />\n",
              "     <output id=\"result-063247b1-25b7-47ad-8305-3025f9a3b657\">\n",
              "      Upload widget is only available when the cell has been executed in the\n",
              "      current browser session. Please rerun this cell to enable.\n",
              "      </output>\n",
              "      <script src=\"/nbextensions/google.colab/files.js\"></script> "
            ],
            "text/plain": [
              "<IPython.core.display.HTML object>"
            ]
          },
          "metadata": {
            "tags": []
          }
        },
        {
          "output_type": "stream",
          "text": [
            "Saving kaggle.json to kaggle.json\n",
            "mv: 'kaggle.json' and '/root/.kaggle/kaggle.json' are the same file\n",
            "/root/.kaggle\n",
            "/root/.kaggle/kaggle.json\n"
          ],
          "name": "stdout"
        }
      ]
    },
    {
      "cell_type": "code",
      "metadata": {
        "colab": {
          "base_uri": "https://localhost:8080/"
        },
        "id": "RqLiBIluZU3o",
        "outputId": "d2841507-7398-412c-8663-7418db731f5f"
      },
      "source": [
        "import os  \n",
        "os.environ['KAGGLE_CONFIG_DIR'] = \"/root/.kaggle\"\n",
        "\n",
        "from google.colab import drive  \n",
        "ROOT = \"/content/drive\"     # 드라이브 기본 경로\n",
        "print(ROOT)                 # print content of ROOT (Optional)\n",
        "drive.mount(ROOT)           # 드라이브 기본 경로 Mount\n",
        "\n",
        "from os.path import join  \n",
        "\n",
        "MY_GOOGLE_DRIVE_PATH = 'MyDrive/Task/'\n",
        "PROJECT = \"Mercari_Price\"\n",
        "PROJECT_PATH = join(ROOT, MY_GOOGLE_DRIVE_PATH, PROJECT)\n",
        "\n",
        "# !mkdir \"{PROJECT_PATH}\"\n",
        "# print(PROJECT_PATH)\n",
        "\n",
        "%cd \"{PROJECT_PATH}\""
      ],
      "execution_count": null,
      "outputs": [
        {
          "output_type": "stream",
          "text": [
            "/content/drive\n",
            "Mounted at /content/drive\n",
            "/content/drive/.shortcut-targets-by-id/1srYR8TqwFsUSR4BYzQtIBmWUKrEBjd44/Task/Mercari_Price\n"
          ],
          "name": "stdout"
        }
      ]
    },
    {
      "cell_type": "code",
      "metadata": {
        "colab": {
          "base_uri": "https://localhost:8080/"
        },
        "id": "7UnWv8l_eoPv",
        "outputId": "d54e74a1-f9be-473b-9d34-4fd497438abb"
      },
      "source": [
        "# # !kaggle competitions list\n",
        "# # !kaggle datasets list\n",
        "# # !kaggle datasets list -s Movies\n",
        "# # !kaggle competitions download -c house-prices-advanced-regression-techniques\n",
        "# # !kaggle datasets download -d percevalw/englishfrench-translations  \n",
        "# # !unzip englishfrench-translations.zip  \n",
        "# # !ls\n",
        "# # !kaggle competitions list -s mercari\n",
        "# !kaggle competitions download -c mercari-price-suggestion-challenge\n",
        "\n",
        "# !7z e train.tsv.7z\n",
        "# !7z e test.tsv.7z\n",
        "# !7z e sample_submission.csv.7z"
      ],
      "execution_count": null,
      "outputs": [
        {
          "output_type": "stream",
          "text": [
            "\n",
            "7-Zip [64] 16.02 : Copyright (c) 1999-2016 Igor Pavlov : 2016-05-21\n",
            "p7zip Version 16.02 (locale=en_US.UTF-8,Utf16=on,HugeFiles=on,64 bits,2 CPUs Intel(R) Xeon(R) CPU @ 2.30GHz (306F0),ASM,AES-NI)\n",
            "\n",
            "Scanning the drive for archives:\n",
            "  0M Scan\b\b\b\b\b\b\b\b\b         \b\b\b\b\b\b\b\b\b1 file, 77912192 bytes (75 MiB)\n",
            "\n",
            "Extracting archive: train.tsv.7z\n",
            "--\n",
            "Path = train.tsv.7z\n",
            "Type = 7z\n",
            "Physical Size = 77912192\n",
            "Headers Size = 122\n",
            "Method = LZMA2:24\n",
            "Solid = -\n",
            "Blocks = 1\n",
            "\n",
            "  0%\b\b\b\b    \b\b\b\b  3% - train.tsv\b\b\b\b\b\b\b\b\b\b\b\b\b\b\b\b                \b\b\b\b\b\b\b\b\b\b\b\b\b\b\b\b  7% - train.tsv\b\b\b\b\b\b\b\b\b\b\b\b\b\b\b\b                \b\b\b\b\b\b\b\b\b\b\b\b\b\b\b\b 11% - train.tsv\b\b\b\b\b\b\b\b\b\b\b\b\b\b\b\b                \b\b\b\b\b\b\b\b\b\b\b\b\b\b\b\b 14% - train.tsv\b\b\b\b\b\b\b\b\b\b\b\b\b\b\b\b                \b\b\b\b\b\b\b\b\b\b\b\b\b\b\b\b 18% - train.tsv\b\b\b\b\b\b\b\b\b\b\b\b\b\b\b\b                \b\b\b\b\b\b\b\b\b\b\b\b\b\b\b\b 22% - train.tsv\b\b\b\b\b\b\b\b\b\b\b\b\b\b\b\b                \b\b\b\b\b\b\b\b\b\b\b\b\b\b\b\b 26% - train.tsv\b\b\b\b\b\b\b\b\b\b\b\b\b\b\b\b                \b\b\b\b\b\b\b\b\b\b\b\b\b\b\b\b 29% - train.tsv\b\b\b\b\b\b\b\b\b\b\b\b\b\b\b\b                \b\b\b\b\b\b\b\b\b\b\b\b\b\b\b\b 32% - train.tsv\b\b\b\b\b\b\b\b\b\b\b\b\b\b\b\b                \b\b\b\b\b\b\b\b\b\b\b\b\b\b\b\b 36% - train.tsv\b\b\b\b\b\b\b\b\b\b\b\b\b\b\b\b                \b\b\b\b\b\b\b\b\b\b\b\b\b\b\b\b 38% - train.tsv\b\b\b\b\b\b\b\b\b\b\b\b\b\b\b\b                \b\b\b\b\b\b\b\b\b\b\b\b\b\b\b\b 41% - train.tsv\b\b\b\b\b\b\b\b\b\b\b\b\b\b\b\b                \b\b\b\b\b\b\b\b\b\b\b\b\b\b\b\b 44% - train.tsv\b\b\b\b\b\b\b\b\b\b\b\b\b\b\b\b                \b\b\b\b\b\b\b\b\b\b\b\b\b\b\b\b 48% - train.tsv\b\b\b\b\b\b\b\b\b\b\b\b\b\b\b\b                \b\b\b\b\b\b\b\b\b\b\b\b\b\b\b\b 50% - train.tsv\b\b\b\b\b\b\b\b\b\b\b\b\b\b\b\b                \b\b\b\b\b\b\b\b\b\b\b\b\b\b\b\b 53% - train.tsv\b\b\b\b\b\b\b\b\b\b\b\b\b\b\b\b                \b\b\b\b\b\b\b\b\b\b\b\b\b\b\b\b 57% - train.tsv\b\b\b\b\b\b\b\b\b\b\b\b\b\b\b\b                \b\b\b\b\b\b\b\b\b\b\b\b\b\b\b\b 60% - train.tsv\b\b\b\b\b\b\b\b\b\b\b\b\b\b\b\b                \b\b\b\b\b\b\b\b\b\b\b\b\b\b\b\b 63% - train.tsv\b\b\b\b\b\b\b\b\b\b\b\b\b\b\b\b                \b\b\b\b\b\b\b\b\b\b\b\b\b\b\b\b 67% - train.tsv\b\b\b\b\b\b\b\b\b\b\b\b\b\b\b\b                \b\b\b\b\b\b\b\b\b\b\b\b\b\b\b\b 70% - train.tsv\b\b\b\b\b\b\b\b\b\b\b\b\b\b\b\b                \b\b\b\b\b\b\b\b\b\b\b\b\b\b\b\b 74% - train.tsv\b\b\b\b\b\b\b\b\b\b\b\b\b\b\b\b                \b\b\b\b\b\b\b\b\b\b\b\b\b\b\b\b 78% - train.tsv\b\b\b\b\b\b\b\b\b\b\b\b\b\b\b\b                \b\b\b\b\b\b\b\b\b\b\b\b\b\b\b\b 81% - train.tsv\b\b\b\b\b\b\b\b\b\b\b\b\b\b\b\b                \b\b\b\b\b\b\b\b\b\b\b\b\b\b\b\b 85% - train.tsv\b\b\b\b\b\b\b\b\b\b\b\b\b\b\b\b                \b\b\b\b\b\b\b\b\b\b\b\b\b\b\b\b 88% - train.tsv\b\b\b\b\b\b\b\b\b\b\b\b\b\b\b\b                \b\b\b\b\b\b\b\b\b\b\b\b\b\b\b\b 91% - train.tsv\b\b\b\b\b\b\b\b\b\b\b\b\b\b\b\b                \b\b\b\b\b\b\b\b\b\b\b\b\b\b\b\b 94% - train.tsv\b\b\b\b\b\b\b\b\b\b\b\b\b\b\b\b                \b\b\b\b\b\b\b\b\b\b\b\b\b\b\b\b 98% - train.tsv\b\b\b\b\b\b\b\b\b\b\b\b\b\b\b\b                \b\b\b\b\b\b\b\b\b\b\b\b\b\b\b\bEverything is Ok\n",
            "\n",
            "Size:       337809843\n",
            "Compressed: 77912192\n"
          ],
          "name": "stdout"
        }
      ]
    },
    {
      "cell_type": "markdown",
      "metadata": {
        "id": "zMMHxxRHfuI9"
      },
      "source": [
        "# read datas"
      ]
    },
    {
      "cell_type": "code",
      "metadata": {
        "colab": {
          "base_uri": "https://localhost:8080/"
        },
        "id": "Hi1xSj3zfPXO",
        "outputId": "840eafe8-bd51-4393-fb20-ba6b77707ccc"
      },
      "source": [
        "!ls"
      ],
      "execution_count": null,
      "outputs": [
        {
          "output_type": "stream",
          "text": [
            "sample_submission.csv\t\ttest_stg2.tsv.zip  train.tsv\n",
            "sample_submission.csv.7z\ttest.tsv\t   train.tsv.7z\n",
            "sample_submission_stg2.csv.zip\ttest.tsv.7z\n"
          ],
          "name": "stdout"
        }
      ]
    },
    {
      "cell_type": "code",
      "metadata": {
        "id": "vZv73pBWhE-7"
      },
      "source": [
        "import pandas as pd\n",
        "import numpy as np\n",
        "import matplotlib.pyplot as plt\n",
        "import seaborn as sns\n",
        "from scipy import stats\n",
        "from ast import literal_eval\n",
        "from sklearn.feature_extraction.text import TfidfVectorizer, CountVectorizer\n",
        "from sklearn.metrics.pairwise import linear_kernel, cosine_similarity\n",
        "from nltk.stem.snowball import SnowballStemmer\n",
        "from nltk.stem.wordnet import WordNetLemmatizer\n",
        "from nltk.corpus import wordnet"
      ],
      "execution_count": null,
      "outputs": []
    },
    {
      "cell_type": "code",
      "metadata": {
        "id": "yCINEh2pg5Q6"
      },
      "source": [
        "import csv\n",
        "data = pd.read_csv(f'{PROJECT_PATH}/train.tsv', sep='\\t')\n",
        "tst_data = pd.read_csv(f'{PROJECT_PATH}/test.tsv', sep='\\t')\n",
        "sS_data = pd.read_csv(f'{PROJECT_PATH}/sample_submission.csv')"
      ],
      "execution_count": null,
      "outputs": []
    },
    {
      "cell_type": "code",
      "metadata": {
        "id": "DljJDiALhTTG"
      },
      "source": [
        "origin_dt_lst = ['data','tst_data','sS_data']"
      ],
      "execution_count": null,
      "outputs": []
    },
    {
      "cell_type": "code",
      "metadata": {
        "colab": {
          "base_uri": "https://localhost:8080/"
        },
        "id": "qyOer81tkIQS",
        "outputId": "524d6d8a-e209-400e-d18a-7f6c5157ff99"
      },
      "source": [
        "for lst in origin_dt_lst:\n",
        "  print(f\"{lst}'s shape : {globals()[lst].shape}\")"
      ],
      "execution_count": null,
      "outputs": [
        {
          "output_type": "stream",
          "text": [
            "data's shape : (1482535, 8)\n",
            "tst_data's shape : (693359, 7)\n",
            "sS_data's shape : (693359, 2)\n"
          ],
          "name": "stdout"
        }
      ]
    },
    {
      "cell_type": "code",
      "metadata": {
        "colab": {
          "base_uri": "https://localhost:8080/"
        },
        "id": "qWm84yCwnMzx",
        "outputId": "c7523330-03fe-417a-b42d-a033ae110dba"
      },
      "source": [
        "for lst in origin_dt_lst:\n",
        "  print(f\"{lst}'s col : {globals()[lst].columns}\")"
      ],
      "execution_count": null,
      "outputs": [
        {
          "output_type": "stream",
          "text": [
            "data's col : Index(['train_id', 'name', 'item_condition_id', 'category_name', 'brand_name',\n",
            "       'price', 'shipping', 'item_description'],\n",
            "      dtype='object')\n",
            "tst_data's col : Index(['test_id', 'name', 'item_condition_id', 'category_name', 'brand_name',\n",
            "       'shipping', 'item_description'],\n",
            "      dtype='object')\n",
            "sS_data's col : Index(['test_id', 'price'], dtype='object')\n"
          ],
          "name": "stdout"
        }
      ]
    },
    {
      "cell_type": "code",
      "metadata": {
        "colab": {
          "base_uri": "https://localhost:8080/"
        },
        "id": "a7IQE9bHkoas",
        "outputId": "c2abe227-44e1-4420-9cf4-06af8fdf6f5c"
      },
      "source": [
        "for lst in origin_dt_lst:\n",
        "  print(f\"\\n\\n{lst}'s info : \\n\")\n",
        "  print(f\"{locals()[lst].info()}\")"
      ],
      "execution_count": null,
      "outputs": [
        {
          "output_type": "stream",
          "text": [
            "\n",
            "\n",
            "data's info : \n",
            "\n",
            "<class 'pandas.core.frame.DataFrame'>\n",
            "RangeIndex: 1482535 entries, 0 to 1482534\n",
            "Data columns (total 8 columns):\n",
            " #   Column             Non-Null Count    Dtype  \n",
            "---  ------             --------------    -----  \n",
            " 0   train_id           1482535 non-null  int64  \n",
            " 1   name               1482535 non-null  object \n",
            " 2   item_condition_id  1482535 non-null  int64  \n",
            " 3   category_name      1476208 non-null  object \n",
            " 4   brand_name         849853 non-null   object \n",
            " 5   price              1482535 non-null  float64\n",
            " 6   shipping           1482535 non-null  int64  \n",
            " 7   item_description   1482531 non-null  object \n",
            "dtypes: float64(1), int64(3), object(4)\n",
            "memory usage: 90.5+ MB\n",
            "None\n",
            "\n",
            "\n",
            "tst_data's info : \n",
            "\n",
            "<class 'pandas.core.frame.DataFrame'>\n",
            "RangeIndex: 693359 entries, 0 to 693358\n",
            "Data columns (total 7 columns):\n",
            " #   Column             Non-Null Count   Dtype \n",
            "---  ------             --------------   ----- \n",
            " 0   test_id            693359 non-null  int64 \n",
            " 1   name               693359 non-null  object\n",
            " 2   item_condition_id  693359 non-null  int64 \n",
            " 3   category_name      690301 non-null  object\n",
            " 4   brand_name         397834 non-null  object\n",
            " 5   shipping           693359 non-null  int64 \n",
            " 6   item_description   693359 non-null  object\n",
            "dtypes: int64(3), object(4)\n",
            "memory usage: 37.0+ MB\n",
            "None\n",
            "\n",
            "\n",
            "sS_data's info : \n",
            "\n",
            "<class 'pandas.core.frame.DataFrame'>\n",
            "RangeIndex: 693359 entries, 0 to 693358\n",
            "Data columns (total 2 columns):\n",
            " #   Column   Non-Null Count   Dtype  \n",
            "---  ------   --------------   -----  \n",
            " 0   test_id  693359 non-null  int64  \n",
            " 1   price    693359 non-null  float64\n",
            "dtypes: float64(1), int64(1)\n",
            "memory usage: 10.6 MB\n",
            "None\n"
          ],
          "name": "stdout"
        }
      ]
    },
    {
      "cell_type": "markdown",
      "metadata": {
        "id": "HF3xpbdsmMS0"
      },
      "source": [
        "결측치 현재로는 안보이고, target은 price임"
      ]
    },
    {
      "cell_type": "markdown",
      "metadata": {
        "id": "PrcSqzZsmT8E"
      },
      "source": [
        "# init"
      ]
    },
    {
      "cell_type": "code",
      "metadata": {
        "id": "aAY8Ip34lZY1"
      },
      "source": [
        "train = data.copy()\n",
        "test = tst_data.copy()\n",
        "\n",
        "train = pd.concat([train.drop(['price'], axis=1),train['price']], axis=1)\n",
        "test = pd.concat([test, sS_data.iloc[:,1]], axis=1)"
      ],
      "execution_count": null,
      "outputs": []
    },
    {
      "cell_type": "markdown",
      "metadata": {
        "id": "KX5KboLAnXVV"
      },
      "source": [
        "현재까지는 train과 test의 shape 맞춤\n",
        "\n",
        "\n",
        "\n",
        "```\n",
        "# Use `iloc[]` to select a row\n",
        "display(df.iloc[0])\n",
        "display(df.loc[0])\n",
        "display(df.ix[0])\n",
        "\n",
        "# Use `loc[]` to select a column\n",
        "display(df.loc[:,'A'])\n",
        "display(df['A'])\n",
        "\n",
        "# 특정 row, column을 선택하기\n",
        "display(df.ix[0]['A'])\n",
        "display(df.loc[0]['B'])\n",
        "\n",
        "\n",
        "출처: https://3months.tistory.com/292 [Deep Play]\n",
        "```\n",
        "\n"
      ]
    },
    {
      "cell_type": "code",
      "metadata": {
        "id": "nWR49fOWoKtG"
      },
      "source": [
        "check_dt = ['train', 'test']"
      ],
      "execution_count": null,
      "outputs": []
    },
    {
      "cell_type": "code",
      "metadata": {
        "colab": {
          "base_uri": "https://localhost:8080/",
          "height": 646
        },
        "id": "5IrSSp9Yp3tT",
        "outputId": "6df57440-55a6-407a-bb18-7bae296773b4"
      },
      "source": [
        "from IPython.display import display\n",
        "\n",
        "for dt in check_dt:\n",
        "  print(f\"\\n[5 of {dt}]\")\n",
        "  print(f\"{display(globals()[dt].head())}\")"
      ],
      "execution_count": null,
      "outputs": [
        {
          "output_type": "stream",
          "text": [
            "\n",
            "[5 of train]\n"
          ],
          "name": "stdout"
        },
        {
          "output_type": "display_data",
          "data": {
            "text/html": [
              "<div>\n",
              "<style scoped>\n",
              "    .dataframe tbody tr th:only-of-type {\n",
              "        vertical-align: middle;\n",
              "    }\n",
              "\n",
              "    .dataframe tbody tr th {\n",
              "        vertical-align: top;\n",
              "    }\n",
              "\n",
              "    .dataframe thead th {\n",
              "        text-align: right;\n",
              "    }\n",
              "</style>\n",
              "<table border=\"1\" class=\"dataframe\">\n",
              "  <thead>\n",
              "    <tr style=\"text-align: right;\">\n",
              "      <th></th>\n",
              "      <th>train_id</th>\n",
              "      <th>name</th>\n",
              "      <th>item_condition_id</th>\n",
              "      <th>category_name</th>\n",
              "      <th>brand_name</th>\n",
              "      <th>shipping</th>\n",
              "      <th>item_description</th>\n",
              "      <th>price</th>\n",
              "    </tr>\n",
              "  </thead>\n",
              "  <tbody>\n",
              "    <tr>\n",
              "      <th>0</th>\n",
              "      <td>0</td>\n",
              "      <td>MLB Cincinnati Reds T Shirt Size XL</td>\n",
              "      <td>3</td>\n",
              "      <td>Men/Tops/T-shirts</td>\n",
              "      <td>NaN</td>\n",
              "      <td>1</td>\n",
              "      <td>No description yet</td>\n",
              "      <td>10.0</td>\n",
              "    </tr>\n",
              "    <tr>\n",
              "      <th>1</th>\n",
              "      <td>1</td>\n",
              "      <td>Razer BlackWidow Chroma Keyboard</td>\n",
              "      <td>3</td>\n",
              "      <td>Electronics/Computers &amp; Tablets/Components &amp; P...</td>\n",
              "      <td>Razer</td>\n",
              "      <td>0</td>\n",
              "      <td>This keyboard is in great condition and works ...</td>\n",
              "      <td>52.0</td>\n",
              "    </tr>\n",
              "    <tr>\n",
              "      <th>2</th>\n",
              "      <td>2</td>\n",
              "      <td>AVA-VIV Blouse</td>\n",
              "      <td>1</td>\n",
              "      <td>Women/Tops &amp; Blouses/Blouse</td>\n",
              "      <td>Target</td>\n",
              "      <td>1</td>\n",
              "      <td>Adorable top with a hint of lace and a key hol...</td>\n",
              "      <td>10.0</td>\n",
              "    </tr>\n",
              "    <tr>\n",
              "      <th>3</th>\n",
              "      <td>3</td>\n",
              "      <td>Leather Horse Statues</td>\n",
              "      <td>1</td>\n",
              "      <td>Home/Home Décor/Home Décor Accents</td>\n",
              "      <td>NaN</td>\n",
              "      <td>1</td>\n",
              "      <td>New with tags. Leather horses. Retail for [rm]...</td>\n",
              "      <td>35.0</td>\n",
              "    </tr>\n",
              "    <tr>\n",
              "      <th>4</th>\n",
              "      <td>4</td>\n",
              "      <td>24K GOLD plated rose</td>\n",
              "      <td>1</td>\n",
              "      <td>Women/Jewelry/Necklaces</td>\n",
              "      <td>NaN</td>\n",
              "      <td>0</td>\n",
              "      <td>Complete with certificate of authenticity</td>\n",
              "      <td>44.0</td>\n",
              "    </tr>\n",
              "  </tbody>\n",
              "</table>\n",
              "</div>"
            ],
            "text/plain": [
              "   train_id  ... price\n",
              "0         0  ...  10.0\n",
              "1         1  ...  52.0\n",
              "2         2  ...  10.0\n",
              "3         3  ...  35.0\n",
              "4         4  ...  44.0\n",
              "\n",
              "[5 rows x 8 columns]"
            ]
          },
          "metadata": {
            "tags": []
          }
        },
        {
          "output_type": "stream",
          "text": [
            "None\n",
            "\n",
            "[5 of test]\n"
          ],
          "name": "stdout"
        },
        {
          "output_type": "display_data",
          "data": {
            "text/html": [
              "<div>\n",
              "<style scoped>\n",
              "    .dataframe tbody tr th:only-of-type {\n",
              "        vertical-align: middle;\n",
              "    }\n",
              "\n",
              "    .dataframe tbody tr th {\n",
              "        vertical-align: top;\n",
              "    }\n",
              "\n",
              "    .dataframe thead th {\n",
              "        text-align: right;\n",
              "    }\n",
              "</style>\n",
              "<table border=\"1\" class=\"dataframe\">\n",
              "  <thead>\n",
              "    <tr style=\"text-align: right;\">\n",
              "      <th></th>\n",
              "      <th>test_id</th>\n",
              "      <th>name</th>\n",
              "      <th>item_condition_id</th>\n",
              "      <th>category_name</th>\n",
              "      <th>brand_name</th>\n",
              "      <th>shipping</th>\n",
              "      <th>item_description</th>\n",
              "      <th>price</th>\n",
              "    </tr>\n",
              "  </thead>\n",
              "  <tbody>\n",
              "    <tr>\n",
              "      <th>0</th>\n",
              "      <td>0</td>\n",
              "      <td>Breast cancer \"I fight like a girl\" ring</td>\n",
              "      <td>1</td>\n",
              "      <td>Women/Jewelry/Rings</td>\n",
              "      <td>NaN</td>\n",
              "      <td>1</td>\n",
              "      <td>Size 7</td>\n",
              "      <td>26.738</td>\n",
              "    </tr>\n",
              "    <tr>\n",
              "      <th>1</th>\n",
              "      <td>1</td>\n",
              "      <td>25 pcs NEW 7.5\"x12\" Kraft Bubble Mailers</td>\n",
              "      <td>1</td>\n",
              "      <td>Other/Office supplies/Shipping Supplies</td>\n",
              "      <td>NaN</td>\n",
              "      <td>1</td>\n",
              "      <td>25 pcs NEW 7.5\"x12\" Kraft Bubble Mailers Lined...</td>\n",
              "      <td>26.738</td>\n",
              "    </tr>\n",
              "    <tr>\n",
              "      <th>2</th>\n",
              "      <td>2</td>\n",
              "      <td>Coach bag</td>\n",
              "      <td>1</td>\n",
              "      <td>Vintage &amp; Collectibles/Bags and Purses/Handbag</td>\n",
              "      <td>Coach</td>\n",
              "      <td>1</td>\n",
              "      <td>Brand new coach bag. Bought for [rm] at a Coac...</td>\n",
              "      <td>26.738</td>\n",
              "    </tr>\n",
              "    <tr>\n",
              "      <th>3</th>\n",
              "      <td>3</td>\n",
              "      <td>Floral Kimono</td>\n",
              "      <td>2</td>\n",
              "      <td>Women/Sweaters/Cardigan</td>\n",
              "      <td>NaN</td>\n",
              "      <td>0</td>\n",
              "      <td>-floral kimono -never worn -lightweight and pe...</td>\n",
              "      <td>26.738</td>\n",
              "    </tr>\n",
              "    <tr>\n",
              "      <th>4</th>\n",
              "      <td>4</td>\n",
              "      <td>Life after Death</td>\n",
              "      <td>3</td>\n",
              "      <td>Other/Books/Religion &amp; Spirituality</td>\n",
              "      <td>NaN</td>\n",
              "      <td>1</td>\n",
              "      <td>Rediscovering life after the loss of a loved o...</td>\n",
              "      <td>26.738</td>\n",
              "    </tr>\n",
              "  </tbody>\n",
              "</table>\n",
              "</div>"
            ],
            "text/plain": [
              "   test_id  ...   price\n",
              "0        0  ...  26.738\n",
              "1        1  ...  26.738\n",
              "2        2  ...  26.738\n",
              "3        3  ...  26.738\n",
              "4        4  ...  26.738\n",
              "\n",
              "[5 rows x 8 columns]"
            ]
          },
          "metadata": {
            "tags": []
          }
        },
        {
          "output_type": "stream",
          "text": [
            "None\n"
          ],
          "name": "stdout"
        }
      ]
    },
    {
      "cell_type": "markdown",
      "metadata": {
        "id": "6_PvkoTIrDat"
      },
      "source": [
        "안보였던 결측치가 있음....brand_name에 np.nan으로 들어갔는데 해당 컬럼의 type이 str라서 확인이 불가했나봄"
      ]
    },
    {
      "cell_type": "code",
      "metadata": {
        "colab": {
          "base_uri": "https://localhost:8080/"
        },
        "id": "pl55Sqa9nC5g",
        "outputId": "05118f4c-ef40-4431-8eee-e8149e0ba68b"
      },
      "source": [
        "for dt in check_dt:\n",
        "  print(f\"{dt}'s describe : \\n{globals()[dt].describe().round(3)}\\n\")"
      ],
      "execution_count": null,
      "outputs": [
        {
          "output_type": "stream",
          "text": [
            "train's describe : \n",
            "          train_id  item_condition_id        price     shipping\n",
            "count  1482535.000        1482535.000  1482535.000  1482535.000\n",
            "mean    741267.000              1.907       26.738        0.447\n",
            "std     427971.135              0.903       38.586        0.497\n",
            "min          0.000              1.000        0.000        0.000\n",
            "25%     370633.500              1.000       10.000        0.000\n",
            "50%     741267.000              2.000       17.000        0.000\n",
            "75%    1111900.500              3.000       29.000        1.000\n",
            "max    1482534.000              5.000     2009.000        1.000\n",
            "\n",
            "test's describe : \n",
            "          test_id  item_condition_id    shipping       price\n",
            "count  693359.000         693359.000  693359.000  693359.000\n",
            "mean   346679.000              1.906       0.448      26.738\n",
            "std    200155.647              0.903       0.497       0.000\n",
            "min         0.000              1.000       0.000      26.738\n",
            "25%    173339.500              1.000       0.000      26.738\n",
            "50%    346679.000              2.000       0.000      26.738\n",
            "75%    520018.500              3.000       1.000      26.738\n",
            "max    693358.000              5.000       1.000      26.738\n",
            "\n"
          ],
          "name": "stdout"
        }
      ]
    },
    {
      "cell_type": "code",
      "metadata": {
        "colab": {
          "base_uri": "https://localhost:8080/"
        },
        "id": "6GgNdVoTnvQW",
        "outputId": "1682ba6d-6405-4ad8-8353-8a64de437e5d"
      },
      "source": [
        "for dt in check_dt:\n",
        "  print(f\"{dt}'s correlation : \\n{globals()[dt].corr().round(3)}\\n\")"
      ],
      "execution_count": null,
      "outputs": [
        {
          "output_type": "stream",
          "text": [
            "train's correlation : \n",
            "                   train_id  item_condition_id  price  shipping\n",
            "train_id                1.0             -0.000  0.000     0.000\n",
            "item_condition_id      -0.0              1.000 -0.001    -0.191\n",
            "price                   0.0             -0.001  1.000    -0.097\n",
            "shipping                0.0             -0.191 -0.097     1.000\n",
            "\n",
            "test's correlation : \n",
            "                   test_id  item_condition_id  shipping  price\n",
            "test_id              1.000             -0.002     0.001    0.0\n",
            "item_condition_id   -0.002              1.000    -0.189    0.0\n",
            "shipping             0.001             -0.189     1.000   -0.0\n",
            "price                0.000              0.000    -0.000    1.0\n",
            "\n"
          ],
          "name": "stdout"
        }
      ]
    },
    {
      "cell_type": "markdown",
      "metadata": {
        "id": "_cXGoBEXylWz"
      },
      "source": [
        "1. [중] 대/중/소 형식으로 개별 컬럼을 생성하시오.\n",
        "    * category name 을 대/중/소 형식으로 개별 컬럼으로 생성하고 중복을 제거 한 다음 코드를 첨부하시오.\n",
        "2.  [중]텍스트를 tokenize를 하시오.\n",
        "3.  category_name 변수에서 가장 많이 있는 품목을 코드로 밝히시오(plotly를 사용하여서)\n",
        "4. TF-IDF를 사용하시오.\n",
        "5. 모델을 적용해보고 결과를 해석하시오."
      ]
    },
    {
      "cell_type": "code",
      "metadata": {
        "id": "KWVwc61KRPop"
      },
      "source": [
        "def checking_IQR(df, col):\n",
        "  q25 = np.percentile(df[col].values, 25)\n",
        "  q50 = np.percentile(df[col].values, 50)\n",
        "  q75 = np.percentile(df[col].values, 75)\n",
        "  return q25, q50, q75\n",
        "\n",
        "def outlier_replace(df, col,w=1.5):\n",
        "  q25 = np.percentile(df[col].values, 25)\n",
        "  q75 = np.percentile(df[col].values, 75)\n",
        "\n",
        "  IQR = q75 - q25\n",
        "  l_est = df[col][df[col]<=(q25 - (IQR*w))].values\n",
        "  h_est = df[col][df[col]>=(q75 + (IQR*w))].values\n",
        "\n",
        "  df[col] = df[col].replace(l_est,q25)\n",
        "  df[col] = df[col].replace(h_est,q75)\n",
        "\n",
        "def outlier_drop(df, col, w=1.5):\n",
        "  q25 = np.percentile(df[col].values, 25)\n",
        "  q75 = np.percentile(df[col].values, 75)\n",
        "\n",
        "  IQR = q75 - q25\n",
        "  l_est = q25 - (IQR*w)\n",
        "  h_est = q75 + (IQR*w)\n",
        "\n",
        "  o_idx = df[col][(df[col]<l_est)|(df[col]>h_est)].index\n",
        "  df = df.drop(o_idx, axis=0, inplace=True)\n",
        "  return df\n",
        "\n",
        "def binning_IQR(df, col):\n",
        "  q25 = np.percentile(df[col].values, 25)\n",
        "  q50 = np.percentile(df[col].values, 50)\n",
        "  q75 = np.percentile(df[col].values, 75)\n",
        "\n",
        "  belowq25 = df[col][df[col]<q25].values\n",
        "  q25toq50 = df[col][(df[col]>=q25)&(df[col]<q50)].values\n",
        "  q50toq75 = df[col][(df[col]<q75)&(df[col]>=q50)].values\n",
        "  aboveq75 = df[col][df[col]>=q75].values\n",
        "\n",
        "  df[col] = df[col].replace(belowq25,1)\n",
        "  df[col] = df[col].replace(q25toq50,2)\n",
        "  df[col] = df[col].replace(q50toq75,3)\n",
        "  df[col] = df[col].replace(aboveq75,4)\n",
        "\n",
        "  df[col] = df[col].astype('int64')\n",
        "  return df\n",
        "\n",
        "# def binning_age(df, col):\n",
        "#   kidsteens = df[col][df[col]<20].values\n",
        "#   s20tos30 = df[col][(df[col]>=20)&(df[col]<40)].values\n",
        "#   s40tos50 = df[col][(df[col]<60)&( df[col]>=40)].values\n",
        "#   seniors = df[col][df[col]>=60].values\n",
        "\n",
        "#   df[col] = df[col].replace(kids,1)\n",
        "#   df[col] = df[col].replace(s20tos30,2)\n",
        "#   df[col] = df[col].replace(s40tos50,3)\n",
        "#   df[col] = df[col].replace(senior,4)\n",
        "\n",
        "#   df[col] = df[col].astype('int64')  \n",
        "\n",
        "def all_cont_catg_col(data):\n",
        "  all_col = [cols for cols in train.columns]\n",
        "\n",
        "  print(f'Columns : {len(all_col)}')\n",
        "\n",
        "  cont_col = [cols for cols in data.columns[data.dtypes != 'object']]\n",
        "  catg_col = [cols for cols in data.columns[data.dtypes == 'object']]\n",
        "\n",
        "  return all_col, cont_col, catg_col\n",
        "\n",
        "def print_all_cont_catg(data, all_col, cont_col, cat_col):\n",
        "  print(f'\\t<<<All Columns>>> : \\n{all_col}')\n",
        "  print('\\t<<<Continuous>>>')\n",
        "  for check in cont_col:\n",
        "    print(f'[{check} IQR] : {checking_IQR(data, check)} \\n[{check} max] : {data[check].max()} [{check} min] : {data[check].min()}')\n",
        "  print('\\n\\t<<<Categorical>>>')\n",
        "  for check in cat_col:\n",
        "    try:\n",
        "      print(f'[{check} unique] : {data[check].unique()} \\n[{check} max] : {data[check].max()} [{check} min] : {data[check].min()}')\n",
        "    except:\n",
        "      print(f'[{check} unique] : This column has \"None\"')  \n",
        "\n",
        "def dtp_feat(data):\n",
        "    num_col = data.columns[data.dtypes != 'object']\n",
        "    cat_col = data.columns[data.dtypes == 'object']\n",
        "    \n",
        "    n_flen = len(num_col)\n",
        "    c_flen = len(cat_col)\n",
        "    \n",
        "    num_feat = [num_col[x] for x in range(n_flen)]\n",
        "    cat_feat = [cat_col[x] for x in range(c_flen)]\n",
        "    return num_feat, cat_feat\n",
        "\n",
        "def zscr_idx(data, col, tres=3):\n",
        "    mean = data[col].mean()\n",
        "    std = data[col].std()\n",
        "    \n",
        "    otrl = []\n",
        "    otrl_idx = []\n",
        "\n",
        "    for idx, val in enumerate(data[col]):\n",
        "    #for val, idx in zip(data[col], data.index):\n",
        "        if ((val-mean)/std>tres)|((val-mean)/std<-tres):\n",
        "            otrl.append(val)\n",
        "            otrl_idx.append(idx)\n",
        "    #otrl = [val for val in data[col] if ((val-mean)/std>3)|((val-mean)/std<-3)]\n",
        "    return otrl, otrl_idx\n",
        "\n",
        "def del_outlier1(df,o_idx):\n",
        "    df = df.drop(o_idx, axis=0, inplace=True)\n",
        "    return df\n",
        "\n",
        "def del_outlier2(df,o_idx):\n",
        "    df = df.drop(o_idx, axis=0)\n",
        "    return df\n",
        "\n",
        "# def re_index(df):\n",
        "    # re_idx = [idx for idx in range(df.shape[0])]\n",
        "    #re_df = df.reindex(re_idx) #재배열임...\n",
        "    # return re_df  \n",
        "\n",
        "def outlier_box_dist(data, target_col):\n",
        "  fig, ax = plt.subplots(nrows=1, ncols=2, figsize=(12,8), constrained_layout=True)\n",
        "  fig.suptitle('Checking Outlier using Boxplot and Displot')\n",
        "  #boxplot\n",
        "  sns.boxplot(data[target_col], ax=ax[0], palette='crest')\n",
        "  #distplot\n",
        "  sns.distplot(data[target_col], ax=ax[1], rug=True, hist=False, color='y')\n",
        "  plt.show()\n",
        "\n",
        "def outlier_boxplot_byT(df, target_col, col=2):\n",
        "  wthoutT = df.copy().drop(target_col,axis=1)\n",
        "  n = len(wthoutT.columns)\n",
        "  row = math.ceil(n/col)\n",
        "  f, ax = plt.subplots(row, col, figsize=(12,16), constrained_layout=True)\n",
        "\n",
        "  for i, col in enumerate(wthoutT.columns):\n",
        "    sns.boxplot(data=df, x=target_col, y=col, ax=ax[i//col,i%col], palette='vlag_r')\n",
        "  plt.show() \n",
        "\n",
        "def all_displot_df(df, col=2):\n",
        "  n = df.shape[1]\n",
        "  row = math.ceil(n/col)\n",
        "\n",
        "  f, ax = plt.subplots(row, col, figsize=(16,12), constrained_layout=True)\n",
        "  for i in range(df.shape[1]):\n",
        "    # sns.displot(df.iloc[:,i], ax[math.ceil(i/col),i%col], kde=True)\n",
        "    sns.displot(df.iloc[:,i], ax=ax[i//col,i%col], kde=True)\n",
        "    plt.title(df.columns[i])\n",
        "  plt.show()\n",
        "\n",
        "# 드롭하고 reset_index()한 뒤, object인 열을 기준으로 row에 날아간 데이터가 있는지 확인\n",
        "def chk_nan_from_object(data, col):\n",
        "  idx_lst = []\n",
        "  for idx, chk in enumerate(data[col]):\n",
        "    if type(chk) == float:\n",
        "      idx_lst.append(idx)\n",
        "  return data.iloc[idx_lst]\n",
        "\n",
        "\n",
        "def modified_zscr(data, col, k=1.4826):\n",
        "    med = data[col].median()\n",
        "    \n",
        "    #median absolute deviation\n",
        "    m_a_d = data[col].map(lambda x: np.abs(x-med)).median()\n",
        "\n",
        "    mod_zscr=[]\n",
        "    for x in data[col]:\n",
        "      mod_zscr.append(k/2*(x-med)/m_a_d)\n",
        "    #mod_zscr = list(data[col].map(lambda x: k/2*(x-med)/m_a_d))\n",
        "    return mod_zscr\n",
        "\n",
        "def mod_zscr_idx(data, col, mod_zscr, tres=3):\n",
        "    mod_otrl = []\n",
        "    mod_otrl_idx = []\n",
        "    \n",
        "    for scr, idx, val in zip(mod_zscr, data.index, data[col]):\n",
        "        if (scr > tres)|(scr < -tres):\n",
        "            mod_otrl.append(val)\n",
        "            mod_otrl_idx.append(idx)\n",
        "\n",
        "    return mod_otrl, mod_otrl_idx\n",
        "\n",
        "def mapping_dict(data, key_col, val_col, new_col): #key_col: int -> #asec #key_col : str->가끔 미싱values 있을 때도 있음 #value가 출력됨\n",
        "  kv_dict = {key: value for key, value in zip(data[key_col].unique(), data[val_col].unique())}\n",
        "  data[new_col] = data[key_col].map(kv_dict)\n",
        "  return data\n",
        "def drop_col(data, col_lst):\n",
        "  data = data.drop(col_lst, axis=1)\n",
        "  return data\n",
        "\n",
        "def df_val_dict(data, key_col, val_col, new_col):\n",
        "  kv_dict = {key: value for key, value in zip(data[key_col].values, data[val_col].values)}\n",
        "  data[new_col] = data[val_col].map(kv_dict)\n",
        "  return data\n",
        "\n",
        "def df_meridiem(data, hr_col, min_col, sec_col):\n",
        "  rep_lst = []\n",
        "\n",
        "  for h,m,s in zip(data[hr_col], data[min_col], data[sec_col]):\n",
        "    if h>=0 and h<12:\n",
        "      if m>=0 and m<60:\n",
        "        if s>=0 and s<60:\n",
        "          rep_lst.append('AM')\n",
        "    else:\n",
        "      rep_lst.append('PM')\n",
        "  meridiem = pd.DataFrame(rep_lst, columns=['meridiem'])\n",
        "  return pd.concat([data, meridiem], axis=1)\n",
        "\n",
        "def srch_holiday(data, conds, y_col, m_col, d_col):\n",
        "  h_day = []\n",
        "\n",
        "  for y,m,d in zip(data[y_col], data[m_col], data[d_col]):\n",
        "    if date(y, m, d) in conds:\n",
        "      h_day.append(conds.get(date(y,m,d)))\n",
        "    else:\n",
        "      h_day.append('non-holiday')\n",
        "    # data['holiday'] = pd.DataFrame(h_day)\n",
        "  return pd.DataFrame(h_day)\n",
        "\n",
        "# return전에 pd.DataFrame()짜서, 출력하는 것과 return뒤에 바로 출력하는 것의 큰 속도 차이는 없지만, 그래도 출력이 된 것을 다시 return 하는 것보다 return에서 바로 출력하는 것이 빠름\n",
        "\n",
        "#wd_col은 딕셔너리 형태로 된 pd.Series임\n",
        "#현재 flow에서는 wd_col='pu_dt_w'\n",
        "def srch_businessday(data, wd_col, hd_col):\n",
        "  bs_day = []\n",
        "\n",
        "  for wd, hd in zip(data[wd_col].values, data[hd_col]):\n",
        "    if (wd!='Saturday') & (wd!='Sunday') & (hd=='non-holiday'):\n",
        "      bs_day.append('Businessday')\n",
        "    else:\n",
        "      bs_day.append('Dobby is Free!!!')\n",
        "  return pd.DataFrame(bs_day)\n",
        "\n",
        "def geomtry_loc(data, lon_col, lat_col):\n",
        "  gdf = geopandas.GeoDataFrame(data, geometry=geopandas.points_from_xy(data.lon_col, data.lat_col))\n",
        "  return gdf\n",
        "\n",
        "def location(data, lat_col, lon_col):\n",
        "    point = []\n",
        "    \n",
        "    for lat, lon in zip(data[lat_col], data[lon_col]):\n",
        "        point.append([lat, lon])\n",
        "        \n",
        "    return point\n",
        "\n",
        "def dplct_loc(data, st_lat_col, st_lon_col, ed_lat_col, ed_lon_col):\n",
        "    st_loc =[]\n",
        "    ed_loc = []\n",
        "    \n",
        "    for slat, slon, elat, elon in zip(data[st_lat_col], data[st_lon_col], data[ed_lat_col], data[ed_lon_col]):\n",
        "        st_loc.append([slat, slon])\n",
        "        ed_loc.append([elat, elon])\n",
        "        #tuple?list?\n",
        "        \n",
        "    return st_loc, ed_loc\n",
        "\n",
        "def model_choose(lst, num=0):\n",
        "    model = lst[num]\n",
        "    return model\n",
        "\n",
        "def select_features(X_train, y_train, X_test, n_est=42):\n",
        "    # configure to select a subset of features\n",
        "    feat_s = SelectFromModel(RandomForestClassifier(n_estimators=n_est), max_features=5)\n",
        "    # learn relationship from training data\n",
        "    feat_s.fit(X_train, y_train)\n",
        "    # transform train input data\n",
        "    X_trn_fs = feat_s.transform(X_train)\n",
        "    # transform test input data\n",
        "    X_tst_fs = feat_s.transform(X_test)\n",
        "    return X_trn_fs, X_tst_fs, feat_s"
      ],
      "execution_count": null,
      "outputs": []
    },
    {
      "cell_type": "code",
      "metadata": {
        "colab": {
          "base_uri": "https://localhost:8080/"
        },
        "id": "8e8mBXs71fT7",
        "outputId": "93b597d7-bca3-41c0-db24-112d8a0d5d9f"
      },
      "source": [
        "trn_alst, trn_nlst, trn_clst = all_cont_catg_col(train)\n",
        "tst_alst, tst_nlst, tst_clst = all_cont_catg_col(test)"
      ],
      "execution_count": null,
      "outputs": [
        {
          "output_type": "stream",
          "text": [
            "Columns : 8\n",
            "Columns : 8\n"
          ],
          "name": "stdout"
        }
      ]
    },
    {
      "cell_type": "code",
      "metadata": {
        "colab": {
          "base_uri": "https://localhost:8080/"
        },
        "id": "oIsswpZO3Us2",
        "outputId": "56b39301-5d33-42d4-c6c3-76972255cb1c"
      },
      "source": [
        "print_all_cont_catg(train, trn_alst, trn_nlst, trn_clst)"
      ],
      "execution_count": null,
      "outputs": [
        {
          "output_type": "stream",
          "text": [
            "\t<<<All Columns>>> : \n",
            "['train_id', 'name', 'item_condition_id', 'category_name', 'brand_name', 'shipping', 'item_description', 'price']\n",
            "\t<<<Continuous>>>\n",
            "[train_id IQR] : (370633.5, 741267.0, 1111900.5) \n",
            "[train_id max] : 1482534 [train_id min] : 0\n",
            "[item_condition_id IQR] : (1.0, 2.0, 3.0) \n",
            "[item_condition_id max] : 5 [item_condition_id min] : 1\n",
            "[shipping IQR] : (0.0, 0.0, 1.0) \n",
            "[shipping max] : 1 [shipping min] : 0\n",
            "[price IQR] : (10.0, 17.0, 29.0) \n",
            "[price max] : 2009.0 [price min] : 0.0\n",
            "\n",
            "\t<<<Categorical>>>\n",
            "[name unique] : ['MLB Cincinnati Reds T Shirt Size XL' 'Razer BlackWidow Chroma Keyboard'\n",
            " 'AVA-VIV Blouse' ... '21 day fix containers and eating plan'\n",
            " 'World markets lanterns' 'Brand new lux de ville wallet'] \n",
            "[name max] : ：）iPhone 6/6s RoseGold Mirror case [name min] : ! 3 girls t shirts\n",
            "[category_name unique] : This column has \"None\"\n",
            "[brand_name unique] : This column has \"None\"\n",
            "[item_description unique] : This column has \"None\"\n"
          ],
          "name": "stdout"
        }
      ]
    },
    {
      "cell_type": "code",
      "metadata": {
        "colab": {
          "base_uri": "https://localhost:8080/"
        },
        "id": "hBHbpBJx4nor",
        "outputId": "b94007a7-b174-4f87-93f6-dadb111d3902"
      },
      "source": [
        "trn_none = ['category_name', 'brand_name', 'item_description']\n",
        "for col in trn_none:\n",
        "  print(f'{col} : \\n',chk_nan_from_object(train, col).count(),'\\n')"
      ],
      "execution_count": null,
      "outputs": [
        {
          "output_type": "stream",
          "text": [
            "category_name : \n",
            " train_id             6327\n",
            "name                 6327\n",
            "item_condition_id    6327\n",
            "category_name           0\n",
            "brand_name           2870\n",
            "shipping             6327\n",
            "item_description     6327\n",
            "price                6327\n",
            "dtype: int64 \n",
            "\n",
            "brand_name : \n",
            " train_id             632682\n",
            "name                 632682\n",
            "item_condition_id    632682\n",
            "category_name        629225\n",
            "brand_name                0\n",
            "shipping             632682\n",
            "item_description     632679\n",
            "price                632682\n",
            "dtype: int64 \n",
            "\n",
            "item_description : \n",
            " train_id             4\n",
            "name                 4\n",
            "item_condition_id    4\n",
            "category_name        4\n",
            "brand_name           1\n",
            "shipping             4\n",
            "item_description     0\n",
            "price                4\n",
            "dtype: int64 \n",
            "\n"
          ],
          "name": "stdout"
        }
      ]
    },
    {
      "cell_type": "code",
      "metadata": {
        "id": "0v2wXWf13pRb"
      },
      "source": [
        "print_all_cont_catg(test, tst_alst, tst_nlst, tst_clst)\n"
      ],
      "execution_count": null,
      "outputs": []
    },
    {
      "cell_type": "code",
      "metadata": {
        "id": "rxqWL1w422qb"
      },
      "source": [
        "trn_col = ['trn_alst', 'trn_nlst', 'trn_clst']\n",
        "tst_col = ['tst_alst', 'tst_nlst', 'tst_clst']"
      ],
      "execution_count": null,
      "outputs": []
    },
    {
      "cell_type": "code",
      "metadata": {
        "id": "GlZvUeDMoPQ5"
      },
      "source": [
        "#cf)  https://3months.tistory.com/296?category=753896"
      ],
      "execution_count": null,
      "outputs": []
    }
  ]
}