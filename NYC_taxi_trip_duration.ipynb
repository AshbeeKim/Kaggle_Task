{
  "nbformat": 4,
  "nbformat_minor": 0,
  "metadata": {
    "colab": {
      "name": "NYC_taxi_trip_duration.ipynb",
      "provenance": [],
      "authorship_tag": "ABX9TyMz3D2ScsljMd9gZgtoxDfy",
      "include_colab_link": true
    },
    "kernelspec": {
      "name": "python3",
      "display_name": "Python 3"
    },
    "language_info": {
      "name": "python"
    }
  },
  "cells": [
    {
      "cell_type": "markdown",
      "metadata": {
        "id": "view-in-github",
        "colab_type": "text"
      },
      "source": [
        "<a href=\"https://colab.research.google.com/github/AshbeeKim/Kaggle_task/blob/main/NYC_taxi_trip_duration.ipynb\" target=\"_parent\"><img src=\"https://colab.research.google.com/assets/colab-badge.svg\" alt=\"Open In Colab\"/></a>"
      ]
    },
    {
      "cell_type": "code",
      "metadata": {
        "colab": {
          "base_uri": "https://localhost:8080/"
        },
        "id": "hghabFLI8b3_",
        "outputId": "8c6abe71-9895-4ba6-d132-54c3df1151e4"
      },
      "source": [
        "import os  \n",
        "os.environ['KAGGLE_CONFIG_DIR'] = \"/content/drive/MyDrive/data/kaggle\"   \n",
        "from google.colab import drive  \n",
        "drive.mount('/content/drive')  \n",
        "!cd /content/drive/MyDrive/data/kaggle  \n",
        "!kaggle competitions download -c nyc-taxi-trip-duration\n",
        "!unzip train.zip\n",
        "!unzip test.zip\n",
        "!unzip sample_submission.zip\n",
        "!ls  "
      ],
      "execution_count": null,
      "outputs": [
        {
          "output_type": "stream",
          "text": [
            "Drive already mounted at /content/drive; to attempt to forcibly remount, call drive.mount(\"/content/drive\", force_remount=True).\n",
            "Warning: Looks like you're using an outdated API Version, please consider updating (server 1.5.12 / client 1.5.4)\n",
            "Downloading test.zip to /content\n",
            " 25% 5.00M/20.3M [00:00<00:00, 37.2MB/s]\n",
            "100% 20.3M/20.3M [00:00<00:00, 80.7MB/s]\n",
            "Downloading train.zip to /content\n",
            " 79% 50.0M/62.9M [00:00<00:00, 50.1MB/s]\n",
            "100% 62.9M/62.9M [00:00<00:00, 86.1MB/s]\n",
            "Downloading sample_submission.zip to /content\n",
            "  0% 0.00/2.49M [00:00<?, ?B/s]\n",
            "100% 2.49M/2.49M [00:00<00:00, 168MB/s]\n",
            "Archive:  train.zip\n",
            "  inflating: train.csv               \n",
            "Archive:  test.zip\n",
            "  inflating: test.csv                \n",
            "Archive:  sample_submission.zip\n",
            "  inflating: sample_submission.csv   \n",
            "drive\t     sample_submission.csv  test.csv  train.csv\n",
            "sample_data  sample_submission.zip  test.zip  train.zip\n"
          ],
          "name": "stdout"
        }
      ]
    },
    {
      "cell_type": "code",
      "metadata": {
        "id": "KwpS7c__8O8a"
      },
      "source": [
        "import numpy as np\n",
        "import pandas as pd\n",
        "import seaborn as sns\n",
        "import matplotlib\n",
        "from matplotlib import pyplot as plt\n",
        "%matplotlib inline\n",
        "import sklearn\n",
        "# import mglearn\n",
        "import graphviz\n",
        "import warnings\n",
        "warnings.filterwarnings('ignore')\n",
        "# import statsmodels.api as sm\n",
        "\n",
        "# 최대 줄 수 설정\n",
        "pd.set_option('display.max_rows', 1500)\n",
        "# 최대 열 수 설정\n",
        "pd.set_option('display.max_columns', 1500)\n",
        "# 표시할 가로의 길이\n",
        "pd.set_option('display.width', 1500)"
      ],
      "execution_count": null,
      "outputs": []
    },
    {
      "cell_type": "code",
      "metadata": {
        "id": "I_YzyIWZ-OW-"
      },
      "source": [
        "train = pd.read_csv('./train.csv')\n",
        "test = pd.read_csv('./test.csv')\n",
        "samplesubmisssion = pd.read_csv('./sample_submission.csv')"
      ],
      "execution_count": null,
      "outputs": []
    },
    {
      "cell_type": "code",
      "metadata": {
        "id": "bSBOJV0v-jYP"
      },
      "source": [
        "data = train.copy()"
      ],
      "execution_count": null,
      "outputs": []
    },
    {
      "cell_type": "code",
      "metadata": {
        "colab": {
          "base_uri": "https://localhost:8080/"
        },
        "id": "QwLXrNYX-x6w",
        "outputId": "fa741f6a-8e70-456a-fbba-389a899cd01e"
      },
      "source": [
        "print(data.shape)\n",
        "print(test.shape)\n",
        "print(samplesubmisssion.shape)\n",
        "print('='*150)\n",
        "print(data.info())\n",
        "print(test.info())\n",
        "print(samplesubmisssion.info())\n",
        "print('='*150)\n",
        "print(data.describe().round(3))\n",
        "print('-'*150)\n",
        "print(test.describe().round(3))\n",
        "print('-'*150)\n",
        "print(samplesubmisssion.describe().round(3))"
      ],
      "execution_count": null,
      "outputs": [
        {
          "output_type": "stream",
          "text": [
            "(1458644, 11)\n",
            "(625134, 9)\n",
            "(625134, 2)\n",
            "======================================================================================================================================================\n",
            "<class 'pandas.core.frame.DataFrame'>\n",
            "RangeIndex: 1458644 entries, 0 to 1458643\n",
            "Data columns (total 11 columns):\n",
            " #   Column              Non-Null Count    Dtype  \n",
            "---  ------              --------------    -----  \n",
            " 0   id                  1458644 non-null  object \n",
            " 1   vendor_id           1458644 non-null  int64  \n",
            " 2   pickup_datetime     1458644 non-null  object \n",
            " 3   dropoff_datetime    1458644 non-null  object \n",
            " 4   passenger_count     1458644 non-null  int64  \n",
            " 5   pickup_longitude    1458644 non-null  float64\n",
            " 6   pickup_latitude     1458644 non-null  float64\n",
            " 7   dropoff_longitude   1458644 non-null  float64\n",
            " 8   dropoff_latitude    1458644 non-null  float64\n",
            " 9   store_and_fwd_flag  1458644 non-null  object \n",
            " 10  trip_duration       1458644 non-null  int64  \n",
            "dtypes: float64(4), int64(3), object(4)\n",
            "memory usage: 122.4+ MB\n",
            "None\n",
            "<class 'pandas.core.frame.DataFrame'>\n",
            "RangeIndex: 625134 entries, 0 to 625133\n",
            "Data columns (total 9 columns):\n",
            " #   Column              Non-Null Count   Dtype  \n",
            "---  ------              --------------   -----  \n",
            " 0   id                  625134 non-null  object \n",
            " 1   vendor_id           625134 non-null  int64  \n",
            " 2   pickup_datetime     625134 non-null  object \n",
            " 3   passenger_count     625134 non-null  int64  \n",
            " 4   pickup_longitude    625134 non-null  float64\n",
            " 5   pickup_latitude     625134 non-null  float64\n",
            " 6   dropoff_longitude   625134 non-null  float64\n",
            " 7   dropoff_latitude    625134 non-null  float64\n",
            " 8   store_and_fwd_flag  625134 non-null  object \n",
            "dtypes: float64(4), int64(2), object(3)\n",
            "memory usage: 42.9+ MB\n",
            "None\n",
            "<class 'pandas.core.frame.DataFrame'>\n",
            "RangeIndex: 625134 entries, 0 to 625133\n",
            "Data columns (total 2 columns):\n",
            " #   Column         Non-Null Count   Dtype \n",
            "---  ------         --------------   ----- \n",
            " 0   id             625134 non-null  object\n",
            " 1   trip_duration  625134 non-null  int64 \n",
            "dtypes: int64(1), object(1)\n",
            "memory usage: 9.5+ MB\n",
            "None\n",
            "======================================================================================================================================================\n",
            "         vendor_id  passenger_count  pickup_longitude  pickup_latitude  dropoff_longitude  dropoff_latitude  trip_duration\n",
            "count  1458644.000      1458644.000       1458644.000      1458644.000        1458644.000       1458644.000    1458644.000\n",
            "mean         1.535            1.665           -73.973           40.751            -73.973            40.752        959.492\n",
            "std          0.499            1.314             0.071            0.033              0.071             0.036       5237.432\n",
            "min          1.000            0.000          -121.933           34.360           -121.933            32.181          1.000\n",
            "25%          1.000            1.000           -73.992           40.737            -73.991            40.736        397.000\n",
            "50%          2.000            1.000           -73.982           40.754            -73.980            40.755        662.000\n",
            "75%          2.000            2.000           -73.967           40.768            -73.963            40.770       1075.000\n",
            "max          2.000            9.000           -61.336           51.881            -61.336            43.921    3526282.000\n",
            "------------------------------------------------------------------------------------------------------------------------------------------------------\n",
            "        vendor_id  passenger_count  pickup_longitude  pickup_latitude  dropoff_longitude  dropoff_latitude\n",
            "count  625134.000       625134.000        625134.000       625134.000         625134.000        625134.000\n",
            "mean        1.535            1.662           -73.974           40.751            -73.973            40.752\n",
            "std         0.499            1.311             0.073            0.030              0.073             0.036\n",
            "min         1.000            0.000          -121.933           37.390           -121.933            36.601\n",
            "25%         1.000            1.000           -73.992           40.737            -73.991            40.736\n",
            "50%         2.000            1.000           -73.982           40.754            -73.980            40.755\n",
            "75%         2.000            2.000           -73.967           40.768            -73.963            40.770\n",
            "max         2.000            9.000           -69.249           42.815            -67.497            48.858\n",
            "------------------------------------------------------------------------------------------------------------------------------------------------------\n",
            "       trip_duration\n",
            "count       625134.0\n",
            "mean           959.0\n",
            "std              0.0\n",
            "min            959.0\n",
            "25%            959.0\n",
            "50%            959.0\n",
            "75%            959.0\n",
            "max            959.0\n"
          ],
          "name": "stdout"
        }
      ]
    },
    {
      "cell_type": "code",
      "metadata": {
        "colab": {
          "base_uri": "https://localhost:8080/"
        },
        "id": "LMQYJDYI_NUl",
        "outputId": "1c5da30b-77dd-465c-e272-f8f91b0d9e64"
      },
      "source": [
        "print(data.columns) #'dropoff_datetime', 'trip_duration'는 test에 없고 train에만 있는 데이터, samplesubmission에는 'id'와 'trip_duration'만 있음\n",
        "print('-'*250)\n",
        "print(test.columns)\n",
        "print('-'*250)\n",
        "print(samplesubmisssion.columns)"
      ],
      "execution_count": null,
      "outputs": [
        {
          "output_type": "stream",
          "text": [
            "Index(['id', 'vendor_id', 'pickup_datetime', 'dropoff_datetime', 'passenger_count', 'pickup_longitude', 'pickup_latitude', 'dropoff_longitude', 'dropoff_latitude', 'store_and_fwd_flag', 'trip_duration'], dtype='object')\n",
            "----------------------------------------------------------------------------------------------------------------------------------------------------------------------------------------------------------------------------------------------------------\n",
            "Index(['id', 'vendor_id', 'pickup_datetime', 'passenger_count', 'pickup_longitude', 'pickup_latitude', 'dropoff_longitude', 'dropoff_latitude', 'store_and_fwd_flag'], dtype='object')\n",
            "----------------------------------------------------------------------------------------------------------------------------------------------------------------------------------------------------------------------------------------------------------\n",
            "Index(['id', 'trip_duration'], dtype='object')\n"
          ],
          "name": "stdout"
        }
      ]
    },
    {
      "cell_type": "code",
      "metadata": {
        "colab": {
          "base_uri": "https://localhost:8080/"
        },
        "id": "5CeOkfhDL6eS",
        "outputId": "5230fdac-d1c4-421a-c67d-311462ae5eab"
      },
      "source": [
        "print(data.head())"
      ],
      "execution_count": null,
      "outputs": [
        {
          "output_type": "stream",
          "text": [
            "          id  vendor_id      pickup_datetime     dropoff_datetime  passenger_count  pickup_longitude  pickup_latitude  dropoff_longitude  dropoff_latitude store_and_fwd_flag  trip_duration\n",
            "0  id2875421          2  2016-03-14 17:24:55  2016-03-14 17:32:30                1        -73.982155        40.767937         -73.964630         40.765602                  N            455\n",
            "1  id2377394          1  2016-06-12 00:43:35  2016-06-12 00:54:38                1        -73.980415        40.738564         -73.999481         40.731152                  N            663\n",
            "2  id3858529          2  2016-01-19 11:35:24  2016-01-19 12:10:48                1        -73.979027        40.763939         -74.005333         40.710087                  N           2124\n",
            "3  id3504673          2  2016-04-06 19:32:31  2016-04-06 19:39:40                1        -74.010040        40.719971         -74.012268         40.706718                  N            429\n",
            "4  id2181028          2  2016-03-26 13:30:55  2016-03-26 13:38:10                1        -73.973053        40.793209         -73.972923         40.782520                  N            435\n"
          ],
          "name": "stdout"
        }
      ]
    },
    {
      "cell_type": "code",
      "metadata": {
        "colab": {
          "base_uri": "https://localhost:8080/"
        },
        "id": "79vrw_kvMmuT",
        "outputId": "7f9e691c-b8c4-459e-cfff-cadd992021ed"
      },
      "source": [
        "print(data.tail())"
      ],
      "execution_count": null,
      "outputs": [
        {
          "output_type": "stream",
          "text": [
            "                id  vendor_id      pickup_datetime     dropoff_datetime  passenger_count  pickup_longitude  pickup_latitude  dropoff_longitude  dropoff_latitude store_and_fwd_flag  trip_duration\n",
            "1458639  id2376096          2  2016-04-08 13:31:04  2016-04-08 13:44:02                4        -73.982201        40.745522         -73.994911         40.740170                  N            778\n",
            "1458640  id1049543          1  2016-01-10 07:35:15  2016-01-10 07:46:10                1        -74.000946        40.747379         -73.970184         40.796547                  N            655\n",
            "1458641  id2304944          2  2016-04-22 06:57:41  2016-04-22 07:10:25                1        -73.959129        40.768799         -74.004433         40.707371                  N            764\n",
            "1458642  id2714485          1  2016-01-05 15:56:26  2016-01-05 16:02:39                1        -73.982079        40.749062         -73.974632         40.757107                  N            373\n",
            "1458643  id1209952          1  2016-04-05 14:44:25  2016-04-05 14:47:43                1        -73.979538        40.781750         -73.972809         40.790585                  N            198\n"
          ],
          "name": "stdout"
        }
      ]
    },
    {
      "cell_type": "code",
      "metadata": {
        "colab": {
          "base_uri": "https://localhost:8080/"
        },
        "id": "VqEcm2nCMeYg",
        "outputId": "83e2085e-176a-49c8-8327-09633c72fc15"
      },
      "source": [
        "print(test.head())"
      ],
      "execution_count": null,
      "outputs": [
        {
          "output_type": "stream",
          "text": [
            "          id  vendor_id      pickup_datetime  passenger_count  pickup_longitude  pickup_latitude  dropoff_longitude  dropoff_latitude store_and_fwd_flag\n",
            "0  id3004672          1  2016-06-30 23:59:58                1        -73.988129        40.732029         -73.990173         40.756680                  N\n",
            "1  id3505355          1  2016-06-30 23:59:53                1        -73.964203        40.679993         -73.959808         40.655403                  N\n",
            "2  id1217141          1  2016-06-30 23:59:47                1        -73.997437        40.737583         -73.986160         40.729523                  N\n",
            "3  id2150126          2  2016-06-30 23:59:41                1        -73.956070        40.771900         -73.986427         40.730469                  N\n",
            "4  id1598245          1  2016-06-30 23:59:33                1        -73.970215        40.761475         -73.961510         40.755890                  N\n"
          ],
          "name": "stdout"
        }
      ]
    },
    {
      "cell_type": "code",
      "metadata": {
        "colab": {
          "base_uri": "https://localhost:8080/"
        },
        "id": "K-RGznGHMrKr",
        "outputId": "9a4d2cf5-2a54-447b-a01a-e2381a3d31d3"
      },
      "source": [
        "print(test.tail())"
      ],
      "execution_count": null,
      "outputs": [
        {
          "output_type": "stream",
          "text": [
            "               id  vendor_id      pickup_datetime  passenger_count  pickup_longitude  pickup_latitude  dropoff_longitude  dropoff_latitude store_and_fwd_flag\n",
            "625129  id3008929          1  2016-01-01 00:02:52                1        -74.003464        40.725105         -74.001251         40.733643                  N\n",
            "625130  id3700764          1  2016-01-01 00:01:52                1        -74.006363        40.743782         -73.953407         40.782467                  N\n",
            "625131  id2568735          1  2016-01-01 00:01:24                2        -73.972267        40.759865         -73.876602         40.748665                  N\n",
            "625132  id1384355          1  2016-01-01 00:00:28                1        -73.976501        40.733562         -73.854263         40.891788                  N\n",
            "625133  id0621643          2  2016-01-01 00:00:22                2        -73.981850        40.716881         -73.969330         40.769379                  N\n"
          ],
          "name": "stdout"
        }
      ]
    },
    {
      "cell_type": "code",
      "metadata": {
        "colab": {
          "base_uri": "https://localhost:8080/"
        },
        "id": "8dyWPN-8Mgtg",
        "outputId": "42f75ddf-98d7-4f38-a716-064c260c3c97"
      },
      "source": [
        "print(samplesubmisssion.head())"
      ],
      "execution_count": null,
      "outputs": [
        {
          "output_type": "stream",
          "text": [
            "          id  trip_duration\n",
            "0  id3004672            959\n",
            "1  id3505355            959\n",
            "2  id1217141            959\n",
            "3  id2150126            959\n",
            "4  id1598245            959\n"
          ],
          "name": "stdout"
        }
      ]
    },
    {
      "cell_type": "code",
      "metadata": {
        "colab": {
          "base_uri": "https://localhost:8080/"
        },
        "id": "fCXyZJewMjxB",
        "outputId": "a788692c-aa86-45b3-a9a5-a9d0921dd9f3"
      },
      "source": [
        "print(samplesubmisssion.tail())"
      ],
      "execution_count": null,
      "outputs": [
        {
          "output_type": "stream",
          "text": [
            "               id  trip_duration\n",
            "625129  id3008929            959\n",
            "625130  id3700764            959\n",
            "625131  id2568735            959\n",
            "625132  id1384355            959\n",
            "625133  id0621643            959\n"
          ],
          "name": "stdout"
        }
      ]
    },
    {
      "cell_type": "markdown",
      "metadata": {
        "id": "tfh_XAY1OROT"
      },
      "source": [
        "'dropoff_datetime', 'trip_duration'는 test에 없고 train에만 있는 데이터, samplesubmission에는 'id'와 'trip_duration'만 있음\n",
        "\n",
        "y에 dropoff_datetime과 trip_duration으로 맞춰야 하는가...?"
      ]
    },
    {
      "cell_type": "markdown",
      "metadata": {
        "id": "i6R98-qjO_VW"
      },
      "source": [
        "# Kaggle\n",
        "The competition dataset is based on the 2016 NYC Yellow Cab trip record data made available in Big Query on Google Cloud Platform. The data was originally published by the NYC Taxi and Limousine Commission (TLC). The data was sampled and cleaned for the purposes of this playground competition. Based on individual trip attributes, participants should predict the duration of each trip in the test set.\n",
        "\n",
        "## File descriptions\n",
        "*  train.csv - the training set (contains 1458644 trip records)\n",
        "*  test.csv - the testing set (contains 625134 trip records)\n",
        "*  sample_submission.csv - a sample submission file in the correct format\n",
        "\n",
        "## Data fields\n",
        "*  id - a unique identifier for each trip\n",
        "*  vendor_id - a code indicating the provider associated with the trip record\n",
        "*  pickup_datetime - date and time when the meter was engaged\n",
        "*  dropoff_datetime - date and time when the meter was disengaged\n",
        "*  passenger_count - the number of passengers in the vehicle (driver entered value)\n",
        "*  pickup_longitude - the longitude where the meter was engaged\n",
        "*  pickup_latitude - the latitude where the meter was engaged\n",
        "*  dropoff_longitude - the longitude where the meter was disengaged\n",
        "*  dropoff_latitude - the latitude where the meter was disengaged\n",
        "*  store_and_fwd_flag - This flag indicates whether the trip record was held in vehicle memory before sending to the vendor because the vehicle did not have a *  connection to the server - Y=store and forward; N=not a store and forward trip\n",
        "*  trip_duration - duration of the trip in seconds\n",
        "Disclaimer: The decision was made to not remove dropoff coordinates from the dataset order to provide an expanded set of variables to use in Kernels."
      ]
    },
    {
      "cell_type": "code",
      "metadata": {
        "id": "LoNKAqK6NrPM"
      },
      "source": [
        "print(len(data['id'].unique()))\n",
        "print(len(test['id'].unique()))\n",
        "\n",
        "print(len(data['vendor_id'].unique()))\n",
        "print(len(test['vendor_id'].unique()))\n",
        "\n",
        "print(len(data['passenger_count'].unique()))\n",
        "print(len(test['passenger_count'].unique()))"
      ],
      "execution_count": null,
      "outputs": []
    },
    {
      "cell_type": "code",
      "metadata": {
        "colab": {
          "base_uri": "https://localhost:8080/",
          "height": 318
        },
        "id": "BlphmBI9OnuS",
        "outputId": "02d022ee-5174-4667-c7da-1046e4879398"
      },
      "source": [
        ""
      ],
      "execution_count": null,
      "outputs": [
        {
          "output_type": "error",
          "ename": "TypeError",
          "evalue": "ignored",
          "traceback": [
            "\u001b[0;31m---------------------------------------------------------------------------\u001b[0m",
            "\u001b[0;31mTypeError\u001b[0m                                 Traceback (most recent call last)",
            "\u001b[0;32m<ipython-input-49-40afdec53fba>\u001b[0m in \u001b[0;36m<module>\u001b[0;34m()\u001b[0m\n\u001b[0;32m----> 1\u001b[0;31m \u001b[0mprint\u001b[0m\u001b[0;34m(\u001b[0m\u001b[0mtype\u001b[0m\u001b[0;34m(\u001b[0m\u001b[0mdata\u001b[0m\u001b[0;34m[\u001b[0m\u001b[0;34m'pickup_datetime'\u001b[0m\u001b[0;34m]\u001b[0m\u001b[0;34m.\u001b[0m\u001b[0mastype\u001b[0m\u001b[0;34m(\u001b[0m\u001b[0;34m'datetime'\u001b[0m\u001b[0;34m)\u001b[0m\u001b[0;34m)\u001b[0m\u001b[0;34m)\u001b[0m\u001b[0;34m\u001b[0m\u001b[0;34m\u001b[0m\u001b[0m\n\u001b[0m",
            "\u001b[0;32m/usr/local/lib/python3.7/dist-packages/pandas/core/generic.py\u001b[0m in \u001b[0;36mastype\u001b[0;34m(self, dtype, copy, errors)\u001b[0m\n\u001b[1;32m   5546\u001b[0m         \u001b[0;32melse\u001b[0m\u001b[0;34m:\u001b[0m\u001b[0;34m\u001b[0m\u001b[0;34m\u001b[0m\u001b[0m\n\u001b[1;32m   5547\u001b[0m             \u001b[0;31m# else, only a single dtype is given\u001b[0m\u001b[0;34m\u001b[0m\u001b[0;34m\u001b[0m\u001b[0;34m\u001b[0m\u001b[0m\n\u001b[0;32m-> 5548\u001b[0;31m             \u001b[0mnew_data\u001b[0m \u001b[0;34m=\u001b[0m \u001b[0mself\u001b[0m\u001b[0;34m.\u001b[0m\u001b[0m_mgr\u001b[0m\u001b[0;34m.\u001b[0m\u001b[0mastype\u001b[0m\u001b[0;34m(\u001b[0m\u001b[0mdtype\u001b[0m\u001b[0;34m=\u001b[0m\u001b[0mdtype\u001b[0m\u001b[0;34m,\u001b[0m \u001b[0mcopy\u001b[0m\u001b[0;34m=\u001b[0m\u001b[0mcopy\u001b[0m\u001b[0;34m,\u001b[0m \u001b[0merrors\u001b[0m\u001b[0;34m=\u001b[0m\u001b[0merrors\u001b[0m\u001b[0;34m,\u001b[0m\u001b[0;34m)\u001b[0m\u001b[0;34m\u001b[0m\u001b[0;34m\u001b[0m\u001b[0m\n\u001b[0m\u001b[1;32m   5549\u001b[0m             \u001b[0;32mreturn\u001b[0m \u001b[0mself\u001b[0m\u001b[0;34m.\u001b[0m\u001b[0m_constructor\u001b[0m\u001b[0;34m(\u001b[0m\u001b[0mnew_data\u001b[0m\u001b[0;34m)\u001b[0m\u001b[0;34m.\u001b[0m\u001b[0m__finalize__\u001b[0m\u001b[0;34m(\u001b[0m\u001b[0mself\u001b[0m\u001b[0;34m,\u001b[0m \u001b[0mmethod\u001b[0m\u001b[0;34m=\u001b[0m\u001b[0;34m\"astype\"\u001b[0m\u001b[0;34m)\u001b[0m\u001b[0;34m\u001b[0m\u001b[0;34m\u001b[0m\u001b[0m\n\u001b[1;32m   5550\u001b[0m \u001b[0;34m\u001b[0m\u001b[0m\n",
            "\u001b[0;32m/usr/local/lib/python3.7/dist-packages/pandas/core/internals/managers.py\u001b[0m in \u001b[0;36mastype\u001b[0;34m(self, dtype, copy, errors)\u001b[0m\n\u001b[1;32m    602\u001b[0m         \u001b[0mself\u001b[0m\u001b[0;34m,\u001b[0m \u001b[0mdtype\u001b[0m\u001b[0;34m,\u001b[0m \u001b[0mcopy\u001b[0m\u001b[0;34m:\u001b[0m \u001b[0mbool\u001b[0m \u001b[0;34m=\u001b[0m \u001b[0;32mFalse\u001b[0m\u001b[0;34m,\u001b[0m \u001b[0merrors\u001b[0m\u001b[0;34m:\u001b[0m \u001b[0mstr\u001b[0m \u001b[0;34m=\u001b[0m \u001b[0;34m\"raise\"\u001b[0m\u001b[0;34m\u001b[0m\u001b[0;34m\u001b[0m\u001b[0m\n\u001b[1;32m    603\u001b[0m     ) -> \"BlockManager\":\n\u001b[0;32m--> 604\u001b[0;31m         \u001b[0;32mreturn\u001b[0m \u001b[0mself\u001b[0m\u001b[0;34m.\u001b[0m\u001b[0mapply\u001b[0m\u001b[0;34m(\u001b[0m\u001b[0;34m\"astype\"\u001b[0m\u001b[0;34m,\u001b[0m \u001b[0mdtype\u001b[0m\u001b[0;34m=\u001b[0m\u001b[0mdtype\u001b[0m\u001b[0;34m,\u001b[0m \u001b[0mcopy\u001b[0m\u001b[0;34m=\u001b[0m\u001b[0mcopy\u001b[0m\u001b[0;34m,\u001b[0m \u001b[0merrors\u001b[0m\u001b[0;34m=\u001b[0m\u001b[0merrors\u001b[0m\u001b[0;34m)\u001b[0m\u001b[0;34m\u001b[0m\u001b[0;34m\u001b[0m\u001b[0m\n\u001b[0m\u001b[1;32m    605\u001b[0m \u001b[0;34m\u001b[0m\u001b[0m\n\u001b[1;32m    606\u001b[0m     def convert(\n",
            "\u001b[0;32m/usr/local/lib/python3.7/dist-packages/pandas/core/internals/managers.py\u001b[0m in \u001b[0;36mapply\u001b[0;34m(self, f, align_keys, **kwargs)\u001b[0m\n\u001b[1;32m    407\u001b[0m                 \u001b[0mapplied\u001b[0m \u001b[0;34m=\u001b[0m \u001b[0mb\u001b[0m\u001b[0;34m.\u001b[0m\u001b[0mapply\u001b[0m\u001b[0;34m(\u001b[0m\u001b[0mf\u001b[0m\u001b[0;34m,\u001b[0m \u001b[0;34m**\u001b[0m\u001b[0mkwargs\u001b[0m\u001b[0;34m)\u001b[0m\u001b[0;34m\u001b[0m\u001b[0;34m\u001b[0m\u001b[0m\n\u001b[1;32m    408\u001b[0m             \u001b[0;32melse\u001b[0m\u001b[0;34m:\u001b[0m\u001b[0;34m\u001b[0m\u001b[0;34m\u001b[0m\u001b[0m\n\u001b[0;32m--> 409\u001b[0;31m                 \u001b[0mapplied\u001b[0m \u001b[0;34m=\u001b[0m \u001b[0mgetattr\u001b[0m\u001b[0;34m(\u001b[0m\u001b[0mb\u001b[0m\u001b[0;34m,\u001b[0m \u001b[0mf\u001b[0m\u001b[0;34m)\u001b[0m\u001b[0;34m(\u001b[0m\u001b[0;34m**\u001b[0m\u001b[0mkwargs\u001b[0m\u001b[0;34m)\u001b[0m\u001b[0;34m\u001b[0m\u001b[0;34m\u001b[0m\u001b[0m\n\u001b[0m\u001b[1;32m    410\u001b[0m             \u001b[0mresult_blocks\u001b[0m \u001b[0;34m=\u001b[0m \u001b[0m_extend_blocks\u001b[0m\u001b[0;34m(\u001b[0m\u001b[0mapplied\u001b[0m\u001b[0;34m,\u001b[0m \u001b[0mresult_blocks\u001b[0m\u001b[0;34m)\u001b[0m\u001b[0;34m\u001b[0m\u001b[0;34m\u001b[0m\u001b[0m\n\u001b[1;32m    411\u001b[0m \u001b[0;34m\u001b[0m\u001b[0m\n",
            "\u001b[0;32m/usr/local/lib/python3.7/dist-packages/pandas/core/internals/blocks.py\u001b[0m in \u001b[0;36mastype\u001b[0;34m(self, dtype, copy, errors)\u001b[0m\n\u001b[1;32m    546\u001b[0m \u001b[0;34m\u001b[0m\u001b[0m\n\u001b[1;32m    547\u001b[0m         \u001b[0;32mif\u001b[0m \u001b[0mdtype\u001b[0m \u001b[0;32mis\u001b[0m \u001b[0;32mnot\u001b[0m \u001b[0;32mNone\u001b[0m\u001b[0;34m:\u001b[0m\u001b[0;34m\u001b[0m\u001b[0;34m\u001b[0m\u001b[0m\n\u001b[0;32m--> 548\u001b[0;31m             \u001b[0mdtype\u001b[0m \u001b[0;34m=\u001b[0m \u001b[0mpandas_dtype\u001b[0m\u001b[0;34m(\u001b[0m\u001b[0mdtype\u001b[0m\u001b[0;34m)\u001b[0m\u001b[0;34m\u001b[0m\u001b[0;34m\u001b[0m\u001b[0m\n\u001b[0m\u001b[1;32m    549\u001b[0m \u001b[0;34m\u001b[0m\u001b[0m\n\u001b[1;32m    550\u001b[0m         \u001b[0;31m# may need to convert to categorical\u001b[0m\u001b[0;34m\u001b[0m\u001b[0;34m\u001b[0m\u001b[0;34m\u001b[0m\u001b[0m\n",
            "\u001b[0;32m/usr/local/lib/python3.7/dist-packages/pandas/core/dtypes/common.py\u001b[0m in \u001b[0;36mpandas_dtype\u001b[0;34m(dtype)\u001b[0m\n\u001b[1;32m   1761\u001b[0m     \u001b[0;31m# raise a consistent TypeError if failed\u001b[0m\u001b[0;34m\u001b[0m\u001b[0;34m\u001b[0m\u001b[0;34m\u001b[0m\u001b[0m\n\u001b[1;32m   1762\u001b[0m     \u001b[0;32mtry\u001b[0m\u001b[0;34m:\u001b[0m\u001b[0;34m\u001b[0m\u001b[0;34m\u001b[0m\u001b[0m\n\u001b[0;32m-> 1763\u001b[0;31m         \u001b[0mnpdtype\u001b[0m \u001b[0;34m=\u001b[0m \u001b[0mnp\u001b[0m\u001b[0;34m.\u001b[0m\u001b[0mdtype\u001b[0m\u001b[0;34m(\u001b[0m\u001b[0mdtype\u001b[0m\u001b[0;34m)\u001b[0m\u001b[0;34m\u001b[0m\u001b[0;34m\u001b[0m\u001b[0m\n\u001b[0m\u001b[1;32m   1764\u001b[0m     \u001b[0;32mexcept\u001b[0m \u001b[0mSyntaxError\u001b[0m \u001b[0;32mas\u001b[0m \u001b[0merr\u001b[0m\u001b[0;34m:\u001b[0m\u001b[0;34m\u001b[0m\u001b[0;34m\u001b[0m\u001b[0m\n\u001b[1;32m   1765\u001b[0m         \u001b[0;31m# np.dtype uses `eval` which can raise SyntaxError\u001b[0m\u001b[0;34m\u001b[0m\u001b[0;34m\u001b[0m\u001b[0;34m\u001b[0m\u001b[0m\n",
            "\u001b[0;31mTypeError\u001b[0m: data type 'datetime' not understood"
          ]
        }
      ]
    },
    {
      "cell_type": "code",
      "metadata": {
        "colab": {
          "base_uri": "https://localhost:8080/"
        },
        "id": "sXn4LQvvMx9y",
        "outputId": "5f4706c2-3e5a-4389-cfea-b90ef1e04c1b"
      },
      "source": [
        "x=0\n",
        "for i in data['passenger_count'].unique():\n",
        "  x+=1\n",
        "print(x)\n",
        "x=0\n",
        "for i in test['vendor_id'].unique():\n",
        "  x+=1\n",
        "print(x)"
      ],
      "execution_count": null,
      "outputs": [
        {
          "output_type": "stream",
          "text": [
            "2\n",
            "2\n"
          ],
          "name": "stdout"
        }
      ]
    },
    {
      "cell_type": "code",
      "metadata": {
        "colab": {
          "base_uri": "https://localhost:8080/"
        },
        "id": "h5V5ca2hM9up",
        "outputId": "56c64ceb-6556-4862-bbcf-df1289799c29"
      },
      "source": [
        "print(len(data['id'].unique()))\n",
        "print(len(test['id'].unique()))"
      ],
      "execution_count": null,
      "outputs": [
        {
          "output_type": "stream",
          "text": [
            "1458644\n",
            "625134\n"
          ],
          "name": "stdout"
        }
      ]
    },
    {
      "cell_type": "code",
      "metadata": {
        "id": "DeVHk5umNZXc"
      },
      "source": [
        ""
      ],
      "execution_count": null,
      "outputs": []
    }
  ]
}