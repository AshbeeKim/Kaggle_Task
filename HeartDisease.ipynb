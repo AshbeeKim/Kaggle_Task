{
  "nbformat": 4,
  "nbformat_minor": 0,
  "metadata": {
    "colab": {
      "name": "HeartDisease.ipynb",
      "provenance": [],
      "collapsed_sections": [],
      "authorship_tag": "ABX9TyOKsM4Fxrs/Kt0eXr3h9GPw",
      "include_colab_link": true
    },
    "kernelspec": {
      "name": "python3",
      "display_name": "Python 3"
    },
    "language_info": {
      "name": "python"
    }
  },
  "cells": [
    {
      "cell_type": "markdown",
      "metadata": {
        "id": "view-in-github",
        "colab_type": "text"
      },
      "source": [
        "<a href=\"https://colab.research.google.com/github/AshbeeKim/Kaggle_task/blob/main/HeartDisease.ipynb\" target=\"_parent\"><img src=\"https://colab.research.google.com/assets/colab-badge.svg\" alt=\"Open In Colab\"/></a>"
      ]
    },
    {
      "cell_type": "code",
      "metadata": {
        "colab": {
          "base_uri": "https://localhost:8080/"
        },
        "id": "4xBE3r7cQJq9",
        "outputId": "94c16ade-23e8-47f2-977d-ba993fa5ab83"
      },
      "source": [
        "import os  \n",
        "from google.colab import drive  \n",
        "drive.mount('/content/drive')\n",
        "!cd /content/drive/MyDrive/\n",
        "!pwd\n",
        "!ls"
      ],
      "execution_count": null,
      "outputs": [
        {
          "output_type": "stream",
          "text": [
            "Mounted at /content/drive\n",
            "/content\n",
            "drive  sample_data\n"
          ],
          "name": "stdout"
        }
      ]
    },
    {
      "cell_type": "code",
      "metadata": {
        "id": "b8a4cJUEQ7v8"
      },
      "source": [
        "import numpy as np\n",
        "import pandas as pd\n",
        "import seaborn as sns\n",
        "import matplotlib\n",
        "from matplotlib import pyplot as plt\n",
        "%matplotlib inline\n",
        "import sklearn\n",
        "# import mglearn\n",
        "import graphviz\n",
        "import warnings\n",
        "warnings.filterwarnings('ignore')\n",
        "# import statsmodels.api as sm\n",
        "\n",
        "# 최대 줄 수 설정\n",
        "pd.set_option('display.max_rows', 1500)\n",
        "# 최대 열 수 설정\n",
        "pd.set_option('display.max_columns', 1500)\n",
        "# 표시할 가로의 길이\n",
        "pd.set_option('display.width', 1500)"
      ],
      "execution_count": null,
      "outputs": []
    },
    {
      "cell_type": "markdown",
      "metadata": {
        "id": "qTK8JoGoT8Gb"
      },
      "source": [
        "# Data"
      ]
    },
    {
      "cell_type": "markdown",
      "metadata": {
        "id": "dvY_3fQZTwZ-"
      },
      "source": [
        "## Context\n",
        "This database contains 76 attributes, but all published experiments refer to using a subset of 14 of them. In particular, the Cleveland database is the only one that has been used by ML researchers to\n",
        "this date. The \"goal\" field refers to the presence of heart disease in the patient. It is integer valued from 0 (no presence) to 4."
      ]
    },
    {
      "cell_type": "code",
      "metadata": {
        "id": "W6Ve2738RB8N"
      },
      "source": [
        "data = pd.read_csv('./drive/MyDrive/Task/heart.csv')"
      ],
      "execution_count": null,
      "outputs": []
    },
    {
      "cell_type": "code",
      "metadata": {
        "id": "T8zO_9EMRDXi"
      },
      "source": [
        "train = data.copy()"
      ],
      "execution_count": null,
      "outputs": []
    },
    {
      "cell_type": "code",
      "metadata": {
        "colab": {
          "base_uri": "https://localhost:8080/",
          "height": 197
        },
        "id": "euAz4ILVRF6Q",
        "outputId": "db07a70b-05d5-4f24-bb03-4d9b0f4840ca"
      },
      "source": [
        "train.head()"
      ],
      "execution_count": null,
      "outputs": [
        {
          "output_type": "execute_result",
          "data": {
            "text/html": [
              "<div>\n",
              "<style scoped>\n",
              "    .dataframe tbody tr th:only-of-type {\n",
              "        vertical-align: middle;\n",
              "    }\n",
              "\n",
              "    .dataframe tbody tr th {\n",
              "        vertical-align: top;\n",
              "    }\n",
              "\n",
              "    .dataframe thead th {\n",
              "        text-align: right;\n",
              "    }\n",
              "</style>\n",
              "<table border=\"1\" class=\"dataframe\">\n",
              "  <thead>\n",
              "    <tr style=\"text-align: right;\">\n",
              "      <th></th>\n",
              "      <th>age</th>\n",
              "      <th>sex</th>\n",
              "      <th>cp</th>\n",
              "      <th>trestbps</th>\n",
              "      <th>chol</th>\n",
              "      <th>fbs</th>\n",
              "      <th>restecg</th>\n",
              "      <th>thalach</th>\n",
              "      <th>exang</th>\n",
              "      <th>oldpeak</th>\n",
              "      <th>slope</th>\n",
              "      <th>ca</th>\n",
              "      <th>thal</th>\n",
              "      <th>target</th>\n",
              "    </tr>\n",
              "  </thead>\n",
              "  <tbody>\n",
              "    <tr>\n",
              "      <th>0</th>\n",
              "      <td>63</td>\n",
              "      <td>1</td>\n",
              "      <td>3</td>\n",
              "      <td>145</td>\n",
              "      <td>233</td>\n",
              "      <td>1</td>\n",
              "      <td>0</td>\n",
              "      <td>150</td>\n",
              "      <td>0</td>\n",
              "      <td>2.3</td>\n",
              "      <td>0</td>\n",
              "      <td>0</td>\n",
              "      <td>1</td>\n",
              "      <td>1</td>\n",
              "    </tr>\n",
              "    <tr>\n",
              "      <th>1</th>\n",
              "      <td>37</td>\n",
              "      <td>1</td>\n",
              "      <td>2</td>\n",
              "      <td>130</td>\n",
              "      <td>250</td>\n",
              "      <td>0</td>\n",
              "      <td>1</td>\n",
              "      <td>187</td>\n",
              "      <td>0</td>\n",
              "      <td>3.5</td>\n",
              "      <td>0</td>\n",
              "      <td>0</td>\n",
              "      <td>2</td>\n",
              "      <td>1</td>\n",
              "    </tr>\n",
              "    <tr>\n",
              "      <th>2</th>\n",
              "      <td>41</td>\n",
              "      <td>0</td>\n",
              "      <td>1</td>\n",
              "      <td>130</td>\n",
              "      <td>204</td>\n",
              "      <td>0</td>\n",
              "      <td>0</td>\n",
              "      <td>172</td>\n",
              "      <td>0</td>\n",
              "      <td>1.4</td>\n",
              "      <td>2</td>\n",
              "      <td>0</td>\n",
              "      <td>2</td>\n",
              "      <td>1</td>\n",
              "    </tr>\n",
              "    <tr>\n",
              "      <th>3</th>\n",
              "      <td>56</td>\n",
              "      <td>1</td>\n",
              "      <td>1</td>\n",
              "      <td>120</td>\n",
              "      <td>236</td>\n",
              "      <td>0</td>\n",
              "      <td>1</td>\n",
              "      <td>178</td>\n",
              "      <td>0</td>\n",
              "      <td>0.8</td>\n",
              "      <td>2</td>\n",
              "      <td>0</td>\n",
              "      <td>2</td>\n",
              "      <td>1</td>\n",
              "    </tr>\n",
              "    <tr>\n",
              "      <th>4</th>\n",
              "      <td>57</td>\n",
              "      <td>0</td>\n",
              "      <td>0</td>\n",
              "      <td>120</td>\n",
              "      <td>354</td>\n",
              "      <td>0</td>\n",
              "      <td>1</td>\n",
              "      <td>163</td>\n",
              "      <td>1</td>\n",
              "      <td>0.6</td>\n",
              "      <td>2</td>\n",
              "      <td>0</td>\n",
              "      <td>2</td>\n",
              "      <td>1</td>\n",
              "    </tr>\n",
              "  </tbody>\n",
              "</table>\n",
              "</div>"
            ],
            "text/plain": [
              "   age  sex  cp  trestbps  chol  fbs  restecg  thalach  exang  oldpeak  slope  ca  thal  target\n",
              "0   63    1   3       145   233    1        0      150      0      2.3      0   0     1       1\n",
              "1   37    1   2       130   250    0        1      187      0      3.5      0   0     2       1\n",
              "2   41    0   1       130   204    0        0      172      0      1.4      2   0     2       1\n",
              "3   56    1   1       120   236    0        1      178      0      0.8      2   0     2       1\n",
              "4   57    0   0       120   354    0        1      163      1      0.6      2   0     2       1"
            ]
          },
          "metadata": {
            "tags": []
          },
          "execution_count": 5
        }
      ]
    },
    {
      "cell_type": "code",
      "metadata": {
        "colab": {
          "base_uri": "https://localhost:8080/",
          "height": 197
        },
        "id": "wMcrsYNbRHZg",
        "outputId": "25ef55e0-07fe-45bd-a59a-4ae6189efa29"
      },
      "source": [
        "train.tail()"
      ],
      "execution_count": null,
      "outputs": [
        {
          "output_type": "execute_result",
          "data": {
            "text/html": [
              "<div>\n",
              "<style scoped>\n",
              "    .dataframe tbody tr th:only-of-type {\n",
              "        vertical-align: middle;\n",
              "    }\n",
              "\n",
              "    .dataframe tbody tr th {\n",
              "        vertical-align: top;\n",
              "    }\n",
              "\n",
              "    .dataframe thead th {\n",
              "        text-align: right;\n",
              "    }\n",
              "</style>\n",
              "<table border=\"1\" class=\"dataframe\">\n",
              "  <thead>\n",
              "    <tr style=\"text-align: right;\">\n",
              "      <th></th>\n",
              "      <th>age</th>\n",
              "      <th>sex</th>\n",
              "      <th>cp</th>\n",
              "      <th>trestbps</th>\n",
              "      <th>chol</th>\n",
              "      <th>fbs</th>\n",
              "      <th>restecg</th>\n",
              "      <th>thalach</th>\n",
              "      <th>exang</th>\n",
              "      <th>oldpeak</th>\n",
              "      <th>slope</th>\n",
              "      <th>ca</th>\n",
              "      <th>thal</th>\n",
              "      <th>target</th>\n",
              "    </tr>\n",
              "  </thead>\n",
              "  <tbody>\n",
              "    <tr>\n",
              "      <th>298</th>\n",
              "      <td>57</td>\n",
              "      <td>0</td>\n",
              "      <td>0</td>\n",
              "      <td>140</td>\n",
              "      <td>241</td>\n",
              "      <td>0</td>\n",
              "      <td>1</td>\n",
              "      <td>123</td>\n",
              "      <td>1</td>\n",
              "      <td>0.2</td>\n",
              "      <td>1</td>\n",
              "      <td>0</td>\n",
              "      <td>3</td>\n",
              "      <td>0</td>\n",
              "    </tr>\n",
              "    <tr>\n",
              "      <th>299</th>\n",
              "      <td>45</td>\n",
              "      <td>1</td>\n",
              "      <td>3</td>\n",
              "      <td>110</td>\n",
              "      <td>264</td>\n",
              "      <td>0</td>\n",
              "      <td>1</td>\n",
              "      <td>132</td>\n",
              "      <td>0</td>\n",
              "      <td>1.2</td>\n",
              "      <td>1</td>\n",
              "      <td>0</td>\n",
              "      <td>3</td>\n",
              "      <td>0</td>\n",
              "    </tr>\n",
              "    <tr>\n",
              "      <th>300</th>\n",
              "      <td>68</td>\n",
              "      <td>1</td>\n",
              "      <td>0</td>\n",
              "      <td>144</td>\n",
              "      <td>193</td>\n",
              "      <td>1</td>\n",
              "      <td>1</td>\n",
              "      <td>141</td>\n",
              "      <td>0</td>\n",
              "      <td>3.4</td>\n",
              "      <td>1</td>\n",
              "      <td>2</td>\n",
              "      <td>3</td>\n",
              "      <td>0</td>\n",
              "    </tr>\n",
              "    <tr>\n",
              "      <th>301</th>\n",
              "      <td>57</td>\n",
              "      <td>1</td>\n",
              "      <td>0</td>\n",
              "      <td>130</td>\n",
              "      <td>131</td>\n",
              "      <td>0</td>\n",
              "      <td>1</td>\n",
              "      <td>115</td>\n",
              "      <td>1</td>\n",
              "      <td>1.2</td>\n",
              "      <td>1</td>\n",
              "      <td>1</td>\n",
              "      <td>3</td>\n",
              "      <td>0</td>\n",
              "    </tr>\n",
              "    <tr>\n",
              "      <th>302</th>\n",
              "      <td>57</td>\n",
              "      <td>0</td>\n",
              "      <td>1</td>\n",
              "      <td>130</td>\n",
              "      <td>236</td>\n",
              "      <td>0</td>\n",
              "      <td>0</td>\n",
              "      <td>174</td>\n",
              "      <td>0</td>\n",
              "      <td>0.0</td>\n",
              "      <td>1</td>\n",
              "      <td>1</td>\n",
              "      <td>2</td>\n",
              "      <td>0</td>\n",
              "    </tr>\n",
              "  </tbody>\n",
              "</table>\n",
              "</div>"
            ],
            "text/plain": [
              "     age  sex  cp  trestbps  chol  fbs  restecg  thalach  exang  oldpeak  slope  ca  thal  target\n",
              "298   57    0   0       140   241    0        1      123      1      0.2      1   0     3       0\n",
              "299   45    1   3       110   264    0        1      132      0      1.2      1   0     3       0\n",
              "300   68    1   0       144   193    1        1      141      0      3.4      1   2     3       0\n",
              "301   57    1   0       130   131    0        1      115      1      1.2      1   1     3       0\n",
              "302   57    0   1       130   236    0        0      174      0      0.0      1   1     2       0"
            ]
          },
          "metadata": {
            "tags": []
          },
          "execution_count": 6
        }
      ]
    },
    {
      "cell_type": "code",
      "metadata": {
        "colab": {
          "base_uri": "https://localhost:8080/"
        },
        "id": "4aKTzUkCRJFr",
        "outputId": "6a1c43a7-5b77-45d3-fa62-7de4b6109834"
      },
      "source": [
        "train.shape"
      ],
      "execution_count": null,
      "outputs": [
        {
          "output_type": "execute_result",
          "data": {
            "text/plain": [
              "(303, 14)"
            ]
          },
          "metadata": {
            "tags": []
          },
          "execution_count": 8
        }
      ]
    },
    {
      "cell_type": "code",
      "metadata": {
        "colab": {
          "base_uri": "https://localhost:8080/"
        },
        "id": "Pf5Q6Ku3RKXw",
        "outputId": "3983a956-3a0e-422e-d3da-8cc7878e34a8"
      },
      "source": [
        "train.info()"
      ],
      "execution_count": null,
      "outputs": [
        {
          "output_type": "stream",
          "text": [
            "<class 'pandas.core.frame.DataFrame'>\n",
            "RangeIndex: 303 entries, 0 to 302\n",
            "Data columns (total 14 columns):\n",
            " #   Column    Non-Null Count  Dtype  \n",
            "---  ------    --------------  -----  \n",
            " 0   age       303 non-null    int64  \n",
            " 1   sex       303 non-null    int64  \n",
            " 2   cp        303 non-null    int64  \n",
            " 3   trestbps  303 non-null    int64  \n",
            " 4   chol      303 non-null    int64  \n",
            " 5   fbs       303 non-null    int64  \n",
            " 6   restecg   303 non-null    int64  \n",
            " 7   thalach   303 non-null    int64  \n",
            " 8   exang     303 non-null    int64  \n",
            " 9   oldpeak   303 non-null    float64\n",
            " 10  slope     303 non-null    int64  \n",
            " 11  ca        303 non-null    int64  \n",
            " 12  thal      303 non-null    int64  \n",
            " 13  target    303 non-null    int64  \n",
            "dtypes: float64(1), int64(13)\n",
            "memory usage: 33.3 KB\n"
          ],
          "name": "stdout"
        }
      ]
    },
    {
      "cell_type": "code",
      "metadata": {
        "colab": {
          "base_uri": "https://localhost:8080/",
          "height": 287
        },
        "id": "XeQ_WE68RMpq",
        "outputId": "6193dca8-b499-496c-f66f-3bb19743d3f9"
      },
      "source": [
        "train.describe().round(3)"
      ],
      "execution_count": null,
      "outputs": [
        {
          "output_type": "execute_result",
          "data": {
            "text/html": [
              "<div>\n",
              "<style scoped>\n",
              "    .dataframe tbody tr th:only-of-type {\n",
              "        vertical-align: middle;\n",
              "    }\n",
              "\n",
              "    .dataframe tbody tr th {\n",
              "        vertical-align: top;\n",
              "    }\n",
              "\n",
              "    .dataframe thead th {\n",
              "        text-align: right;\n",
              "    }\n",
              "</style>\n",
              "<table border=\"1\" class=\"dataframe\">\n",
              "  <thead>\n",
              "    <tr style=\"text-align: right;\">\n",
              "      <th></th>\n",
              "      <th>age</th>\n",
              "      <th>sex</th>\n",
              "      <th>cp</th>\n",
              "      <th>trestbps</th>\n",
              "      <th>chol</th>\n",
              "      <th>fbs</th>\n",
              "      <th>restecg</th>\n",
              "      <th>thalach</th>\n",
              "      <th>exang</th>\n",
              "      <th>oldpeak</th>\n",
              "      <th>slope</th>\n",
              "      <th>ca</th>\n",
              "      <th>thal</th>\n",
              "      <th>target</th>\n",
              "    </tr>\n",
              "  </thead>\n",
              "  <tbody>\n",
              "    <tr>\n",
              "      <th>count</th>\n",
              "      <td>303.000</td>\n",
              "      <td>303.000</td>\n",
              "      <td>303.000</td>\n",
              "      <td>303.000</td>\n",
              "      <td>303.000</td>\n",
              "      <td>303.000</td>\n",
              "      <td>303.000</td>\n",
              "      <td>303.000</td>\n",
              "      <td>303.000</td>\n",
              "      <td>303.000</td>\n",
              "      <td>303.000</td>\n",
              "      <td>303.000</td>\n",
              "      <td>303.000</td>\n",
              "      <td>303.000</td>\n",
              "    </tr>\n",
              "    <tr>\n",
              "      <th>mean</th>\n",
              "      <td>54.366</td>\n",
              "      <td>0.683</td>\n",
              "      <td>0.967</td>\n",
              "      <td>131.624</td>\n",
              "      <td>246.264</td>\n",
              "      <td>0.149</td>\n",
              "      <td>0.528</td>\n",
              "      <td>149.647</td>\n",
              "      <td>0.327</td>\n",
              "      <td>1.040</td>\n",
              "      <td>1.399</td>\n",
              "      <td>0.729</td>\n",
              "      <td>2.314</td>\n",
              "      <td>0.545</td>\n",
              "    </tr>\n",
              "    <tr>\n",
              "      <th>std</th>\n",
              "      <td>9.082</td>\n",
              "      <td>0.466</td>\n",
              "      <td>1.032</td>\n",
              "      <td>17.538</td>\n",
              "      <td>51.831</td>\n",
              "      <td>0.356</td>\n",
              "      <td>0.526</td>\n",
              "      <td>22.905</td>\n",
              "      <td>0.470</td>\n",
              "      <td>1.161</td>\n",
              "      <td>0.616</td>\n",
              "      <td>1.023</td>\n",
              "      <td>0.612</td>\n",
              "      <td>0.499</td>\n",
              "    </tr>\n",
              "    <tr>\n",
              "      <th>min</th>\n",
              "      <td>29.000</td>\n",
              "      <td>0.000</td>\n",
              "      <td>0.000</td>\n",
              "      <td>94.000</td>\n",
              "      <td>126.000</td>\n",
              "      <td>0.000</td>\n",
              "      <td>0.000</td>\n",
              "      <td>71.000</td>\n",
              "      <td>0.000</td>\n",
              "      <td>0.000</td>\n",
              "      <td>0.000</td>\n",
              "      <td>0.000</td>\n",
              "      <td>0.000</td>\n",
              "      <td>0.000</td>\n",
              "    </tr>\n",
              "    <tr>\n",
              "      <th>25%</th>\n",
              "      <td>47.500</td>\n",
              "      <td>0.000</td>\n",
              "      <td>0.000</td>\n",
              "      <td>120.000</td>\n",
              "      <td>211.000</td>\n",
              "      <td>0.000</td>\n",
              "      <td>0.000</td>\n",
              "      <td>133.500</td>\n",
              "      <td>0.000</td>\n",
              "      <td>0.000</td>\n",
              "      <td>1.000</td>\n",
              "      <td>0.000</td>\n",
              "      <td>2.000</td>\n",
              "      <td>0.000</td>\n",
              "    </tr>\n",
              "    <tr>\n",
              "      <th>50%</th>\n",
              "      <td>55.000</td>\n",
              "      <td>1.000</td>\n",
              "      <td>1.000</td>\n",
              "      <td>130.000</td>\n",
              "      <td>240.000</td>\n",
              "      <td>0.000</td>\n",
              "      <td>1.000</td>\n",
              "      <td>153.000</td>\n",
              "      <td>0.000</td>\n",
              "      <td>0.800</td>\n",
              "      <td>1.000</td>\n",
              "      <td>0.000</td>\n",
              "      <td>2.000</td>\n",
              "      <td>1.000</td>\n",
              "    </tr>\n",
              "    <tr>\n",
              "      <th>75%</th>\n",
              "      <td>61.000</td>\n",
              "      <td>1.000</td>\n",
              "      <td>2.000</td>\n",
              "      <td>140.000</td>\n",
              "      <td>274.500</td>\n",
              "      <td>0.000</td>\n",
              "      <td>1.000</td>\n",
              "      <td>166.000</td>\n",
              "      <td>1.000</td>\n",
              "      <td>1.600</td>\n",
              "      <td>2.000</td>\n",
              "      <td>1.000</td>\n",
              "      <td>3.000</td>\n",
              "      <td>1.000</td>\n",
              "    </tr>\n",
              "    <tr>\n",
              "      <th>max</th>\n",
              "      <td>77.000</td>\n",
              "      <td>1.000</td>\n",
              "      <td>3.000</td>\n",
              "      <td>200.000</td>\n",
              "      <td>564.000</td>\n",
              "      <td>1.000</td>\n",
              "      <td>2.000</td>\n",
              "      <td>202.000</td>\n",
              "      <td>1.000</td>\n",
              "      <td>6.200</td>\n",
              "      <td>2.000</td>\n",
              "      <td>4.000</td>\n",
              "      <td>3.000</td>\n",
              "      <td>1.000</td>\n",
              "    </tr>\n",
              "  </tbody>\n",
              "</table>\n",
              "</div>"
            ],
            "text/plain": [
              "           age      sex       cp  trestbps     chol      fbs  restecg  thalach    exang  oldpeak    slope       ca     thal   target\n",
              "count  303.000  303.000  303.000   303.000  303.000  303.000  303.000  303.000  303.000  303.000  303.000  303.000  303.000  303.000\n",
              "mean    54.366    0.683    0.967   131.624  246.264    0.149    0.528  149.647    0.327    1.040    1.399    0.729    2.314    0.545\n",
              "std      9.082    0.466    1.032    17.538   51.831    0.356    0.526   22.905    0.470    1.161    0.616    1.023    0.612    0.499\n",
              "min     29.000    0.000    0.000    94.000  126.000    0.000    0.000   71.000    0.000    0.000    0.000    0.000    0.000    0.000\n",
              "25%     47.500    0.000    0.000   120.000  211.000    0.000    0.000  133.500    0.000    0.000    1.000    0.000    2.000    0.000\n",
              "50%     55.000    1.000    1.000   130.000  240.000    0.000    1.000  153.000    0.000    0.800    1.000    0.000    2.000    1.000\n",
              "75%     61.000    1.000    2.000   140.000  274.500    0.000    1.000  166.000    1.000    1.600    2.000    1.000    3.000    1.000\n",
              "max     77.000    1.000    3.000   200.000  564.000    1.000    2.000  202.000    1.000    6.200    2.000    4.000    3.000    1.000"
            ]
          },
          "metadata": {
            "tags": []
          },
          "execution_count": 14
        }
      ]
    },
    {
      "cell_type": "markdown",
      "metadata": {
        "id": "gYErRb1BSrzb"
      },
      "source": [
        "## Content\n",
        "\n",
        "### Attribute Information:\n",
        "* age\n",
        "* sex__(1 = male; 0 = female)\n",
        "* cp : chest pain type (4 values)__0 to 3\n",
        "* trestbps : resting blood pressure\n",
        "* chol : serum cholestoral in mg/dl\n",
        "* fbs : fasting blood sugar > 120 mg/dl__(fasting blood sugar &gt; 120 mg/dl) (1 = true; 0 = false)\n",
        "* restecg : resting electrocardiographic results (values 0,1,2)\n",
        "* thalach : maximum heart rate achieved\n",
        "* exang : exercise induced angina__(1 = yes; 0 = no)\n",
        "* oldpeak : ST depression induced by exercise relative to rest\n",
        "* slope : the slope of the peak exercise ST segment\n",
        "* ca : number of major vessels (0-3) colored by flourosopy\n",
        "* thal: 3 = normal; 6 = fixed defect; 7 = reversable defect"
      ]
    },
    {
      "cell_type": "code",
      "metadata": {
        "colab": {
          "base_uri": "https://localhost:8080/"
        },
        "id": "7wxxUJrFSHej",
        "outputId": "c7c7e6c5-e994-4ef0-9596-f14bfe1f136e"
      },
      "source": [
        "for value in train.columns:\n",
        "  print(f'{value} : {data[value].isna().sum()}')"
      ],
      "execution_count": null,
      "outputs": [
        {
          "output_type": "stream",
          "text": [
            "age : 0\n",
            "sex : 0\n",
            "cp : 0\n",
            "trestbps : 0\n",
            "chol : 0\n",
            "fbs : 0\n",
            "restecg : 0\n",
            "thalach : 0\n",
            "exang : 0\n",
            "oldpeak : 0\n",
            "slope : 0\n",
            "ca : 0\n",
            "thal : 0\n",
            "target : 0\n"
          ],
          "name": "stdout"
        }
      ]
    },
    {
      "cell_type": "code",
      "metadata": {
        "colab": {
          "base_uri": "https://localhost:8080/",
          "height": 601
        },
        "id": "PwIvAOA6RRVs",
        "outputId": "55af2113-cf63-4a28-d286-93770c41fc9a"
      },
      "source": [
        "n = len(train.columns)\n",
        "# f, ax = plt.subplots(n//3,n//10,figsize=(16,12))  # 다 못보여준다며 error남\n",
        "f, ax = plt.subplots(n//2,n//7,figsize=(12,8),constrained_layout=True)\n",
        "\n",
        "for i, col in enumerate(train.columns):\n",
        "  data[col].plot(kind='hist',ax=ax[i//2,i%2],title=col)\n",
        "plt.show()  "
      ],
      "execution_count": null,
      "outputs": [
        {
          "output_type": "display_data",
          "data": {
            "image/png": "[encoded data removed]",
            "text/plain": [
              "<Figure size 864x576 with 14 Axes>"
            ]
          },
          "metadata": {
            "tags": [],
            "needs_background": "light"
          }
        }
      ]
    },
    {
      "cell_type": "code",
      "metadata": {
        "colab": {
          "base_uri": "https://localhost:8080/",
          "height": 601
        },
        "id": "Nkcl1X-6Ux0E",
        "outputId": "c0066299-1d8d-476e-a6ed-c9069e878e4d"
      },
      "source": [
        "#outliner_1\n",
        "\n",
        "n = len(train.columns)\n",
        "# f, ax = plt.subplots(n//3,n//10,figsize=(16,12))  # 다 못보여준다며 error남\n",
        "f, ax = plt.subplots(n//2,n//7,figsize=(12,8),constrained_layout=True)\n",
        "\n",
        "for i, col in enumerate(train.columns):\n",
        "  sns.boxplot(x=col, data=train, ax=ax[i//2,i%2], palette='Set2')\n",
        "plt.show()  "
      ],
      "execution_count": null,
      "outputs": [
        {
          "output_type": "display_data",
          "data": {
            "image/png": "[encoded data removed]",
            "text/plain": [
              "<Figure size 864x576 with 14 Axes>"
            ]
          },
          "metadata": {
            "tags": [],
            "needs_background": "light"
          }
        }
      ]
    },
    {
      "cell_type": "code",
      "metadata": {
        "colab": {
          "base_uri": "https://localhost:8080/",
          "height": 1000
        },
        "id": "RK6EpLjTSqmz",
        "outputId": "a45cdb4f-52bd-4bcd-f248-df151807c795"
      },
      "source": [
        "#outliner_2\n",
        "\n",
        "wthoutT = train.copy().drop('target',axis=1)\n",
        "n = len(wthoutT.columns)\n",
        "# f, ax = plt.subplots(n//3,n//10,figsize=(16,12))  # 다 못보여준다며 error남\n",
        "f, ax = plt.subplots(7,n//6,figsize=(12,16),constrained_layout=True)\n",
        "\n",
        "for i, col in enumerate(wthoutT.columns):\n",
        "  sns.boxplot(x='target', y=col, data=train, ax=ax[i//2,i%2], palette='vlag')\n",
        "plt.show()  "
      ],
      "execution_count": null,
      "outputs": [
        {
          "output_type": "display_data",
          "data": {
            "image/png": "[encoded data removed]",
            "text/plain": [
              "<Figure size 864x1152 with 14 Axes>"
            ]
          },
          "metadata": {
            "tags": [],
            "needs_background": "light"
          }
        }
      ]
    },
    {
      "cell_type": "code",
      "metadata": {
        "colab": {
          "base_uri": "https://localhost:8080/",
          "height": 1000
        },
        "id": "zV52YwW9a-fq",
        "outputId": "0af3904c-b264-400a-fe6b-eaa534905e0c"
      },
      "source": [
        "#outliner_3\n",
        "\n",
        "wthoutS = train.copy().drop('sex',axis=1)\n",
        "n = len(wthoutS.columns)\n",
        "# f, ax = plt.subplots(n//3,n//10,figsize=(16,12))  # 다 못보여준다며 error남\n",
        "f, ax = plt.subplots(7,n//6,figsize=(12,16),constrained_layout=True)\n",
        "\n",
        "for i, col in enumerate(wthoutS.columns):\n",
        "  sns.boxplot(x='sex', y=col, data=train, ax=ax[i//2,i%2], palette='vlag_r')\n",
        "plt.show()  "
      ],
      "execution_count": null,
      "outputs": [
        {
          "output_type": "display_data",
          "data": {
            "image/png": "[encoded data removed]",
            "text/plain": [
              "<Figure size 864x1152 with 14 Axes>"
            ]
          },
          "metadata": {
            "tags": [],
            "needs_background": "light"
          }
        }
      ]
    },
    {
      "cell_type": "code",
      "metadata": {
        "id": "cC_7B6Q-ZTHe"
      },
      "source": [
        "#outliner_1 #feature에서 이상치를 확인해봄\n",
        "outlier = ['trestbps','chol','thalach','oldpeak','ca','thal']\n",
        "#outliner_2 #target이 0,1일 때, trestbps, chol는 분포 비슷->target을 정할 수 있는 컬럼이 아니라는 뜻\n",
        "outlier = ['trestbps','chol']\n",
        "#outliner_3 ##target이 0,1일 때, trestbps, chol는 분포 비슷->sex에 크게 영향을 받는 컬럼이 아니라는 뜻(?)"
      ],
      "execution_count": null,
      "outputs": []
    },
    {
      "cell_type": "code",
      "metadata": {
        "id": "4MmlvRlSb85y"
      },
      "source": [
        "def outlier_IQR(,feature):"
      ],
      "execution_count": null,
      "outputs": []
    },
    {
      "cell_type": "code",
      "metadata": {
        "colab": {
          "base_uri": "https://localhost:8080/"
        },
        "id": "6egnguPCSYJb",
        "outputId": "87683463-79dc-4835-e239-f9183d6eaead"
      },
      "source": [
        "for value in train.columns:\n",
        "  print(f'{value} : {data[value].unique()}')"
      ],
      "execution_count": null,
      "outputs": [
        {
          "output_type": "stream",
          "text": [
            "age : [63 37 41 56 57 44 52 54 48 49 64 58 50 66 43 69 59 42 61 40 71 51 65 53\n",
            " 46 45 39 47 62 34 35 29 55 60 67 68 74 76 70 38 77]\n",
            "sex : [1 0]\n",
            "cp : [3 2 1 0]\n",
            "trestbps : [145 130 120 140 172 150 110 135 160 105 125 142 155 104 138 128 108 134\n",
            " 122 115 118 100 124  94 112 102 152 101 132 148 178 129 180 136 126 106\n",
            " 156 170 146 117 200 165 174 192 144 123 154 114 164]\n",
            "chol : [233 250 204 236 354 192 294 263 199 168 239 275 266 211 283 219 340 226\n",
            " 247 234 243 302 212 175 417 197 198 177 273 213 304 232 269 360 308 245\n",
            " 208 264 321 325 235 257 216 256 231 141 252 201 222 260 182 303 265 309\n",
            " 186 203 183 220 209 258 227 261 221 205 240 318 298 564 277 214 248 255\n",
            " 207 223 288 160 394 315 246 244 270 195 196 254 126 313 262 215 193 271\n",
            " 268 267 210 295 306 178 242 180 228 149 278 253 342 157 286 229 284 224\n",
            " 206 167 230 335 276 353 225 330 290 172 305 188 282 185 326 274 164 307\n",
            " 249 341 407 217 174 281 289 322 299 300 293 184 409 259 200 327 237 218\n",
            " 319 166 311 169 187 176 241 131]\n",
            "fbs : [1 0]\n",
            "restecg : [0 1 2]\n",
            "thalach : [150 187 172 178 163 148 153 173 162 174 160 139 171 144 158 114 151 161\n",
            " 179 137 157 123 152 168 140 188 125 170 165 142 180 143 182 156 115 149\n",
            " 146 175 186 185 159 130 190 132 147 154 202 166 164 184 122 169 138 111\n",
            " 145 194 131 133 155 167 192 121  96 126 105 181 116 108 129 120 112 128\n",
            " 109 113  99 177 141 136  97 127 103 124  88 195 106  95 117  71 118 134\n",
            "  90]\n",
            "exang : [0 1]\n",
            "oldpeak : [2.3 3.5 1.4 0.8 0.6 0.4 1.3 0.  0.5 1.6 1.2 0.2 1.8 1.  2.6 1.5 3.  2.4\n",
            " 0.1 1.9 4.2 1.1 2.  0.7 0.3 0.9 3.6 3.1 3.2 2.5 2.2 2.8 3.4 6.2 4.  5.6\n",
            " 2.9 2.1 3.8 4.4]\n",
            "slope : [0 2 1]\n",
            "ca : [0 2 1 3 4]\n",
            "thal : [1 2 3 0]\n",
            "target : [1 0]\n"
          ],
          "name": "stdout"
        }
      ]
    },
    {
      "cell_type": "markdown",
      "metadata": {
        "id": "r7HR0yLPYQfq"
      },
      "source": [
        "* age--> binning(35, 50, 65,)\n"
      ]
    },
    {
      "cell_type": "code",
      "metadata": {
        "colab": {
          "base_uri": "https://localhost:8080/",
          "height": 467
        },
        "id": "AlxOg-UORPsM",
        "outputId": "b2059ce0-0f81-4743-ee25-327f79e1d581"
      },
      "source": [
        "train.corr().round(3)"
      ],
      "execution_count": null,
      "outputs": [
        {
          "output_type": "execute_result",
          "data": {
            "text/html": [
              "<div>\n",
              "<style scoped>\n",
              "    .dataframe tbody tr th:only-of-type {\n",
              "        vertical-align: middle;\n",
              "    }\n",
              "\n",
              "    .dataframe tbody tr th {\n",
              "        vertical-align: top;\n",
              "    }\n",
              "\n",
              "    .dataframe thead th {\n",
              "        text-align: right;\n",
              "    }\n",
              "</style>\n",
              "<table border=\"1\" class=\"dataframe\">\n",
              "  <thead>\n",
              "    <tr style=\"text-align: right;\">\n",
              "      <th></th>\n",
              "      <th>age</th>\n",
              "      <th>sex</th>\n",
              "      <th>cp</th>\n",
              "      <th>trestbps</th>\n",
              "      <th>chol</th>\n",
              "      <th>fbs</th>\n",
              "      <th>restecg</th>\n",
              "      <th>thalach</th>\n",
              "      <th>exang</th>\n",
              "      <th>oldpeak</th>\n",
              "      <th>slope</th>\n",
              "      <th>ca</th>\n",
              "      <th>thal</th>\n",
              "      <th>target</th>\n",
              "    </tr>\n",
              "  </thead>\n",
              "  <tbody>\n",
              "    <tr>\n",
              "      <th>age</th>\n",
              "      <td>1.000</td>\n",
              "      <td>-0.098</td>\n",
              "      <td>-0.069</td>\n",
              "      <td>0.279</td>\n",
              "      <td>0.214</td>\n",
              "      <td>0.121</td>\n",
              "      <td>-0.116</td>\n",
              "      <td>-0.399</td>\n",
              "      <td>0.097</td>\n",
              "      <td>0.210</td>\n",
              "      <td>-0.169</td>\n",
              "      <td>0.276</td>\n",
              "      <td>0.068</td>\n",
              "      <td>-0.225</td>\n",
              "    </tr>\n",
              "    <tr>\n",
              "      <th>sex</th>\n",
              "      <td>-0.098</td>\n",
              "      <td>1.000</td>\n",
              "      <td>-0.049</td>\n",
              "      <td>-0.057</td>\n",
              "      <td>-0.198</td>\n",
              "      <td>0.045</td>\n",
              "      <td>-0.058</td>\n",
              "      <td>-0.044</td>\n",
              "      <td>0.142</td>\n",
              "      <td>0.096</td>\n",
              "      <td>-0.031</td>\n",
              "      <td>0.118</td>\n",
              "      <td>0.210</td>\n",
              "      <td>-0.281</td>\n",
              "    </tr>\n",
              "    <tr>\n",
              "      <th>cp</th>\n",
              "      <td>-0.069</td>\n",
              "      <td>-0.049</td>\n",
              "      <td>1.000</td>\n",
              "      <td>0.048</td>\n",
              "      <td>-0.077</td>\n",
              "      <td>0.094</td>\n",
              "      <td>0.044</td>\n",
              "      <td>0.296</td>\n",
              "      <td>-0.394</td>\n",
              "      <td>-0.149</td>\n",
              "      <td>0.120</td>\n",
              "      <td>-0.181</td>\n",
              "      <td>-0.162</td>\n",
              "      <td>0.434</td>\n",
              "    </tr>\n",
              "    <tr>\n",
              "      <th>trestbps</th>\n",
              "      <td>0.279</td>\n",
              "      <td>-0.057</td>\n",
              "      <td>0.048</td>\n",
              "      <td>1.000</td>\n",
              "      <td>0.123</td>\n",
              "      <td>0.178</td>\n",
              "      <td>-0.114</td>\n",
              "      <td>-0.047</td>\n",
              "      <td>0.068</td>\n",
              "      <td>0.193</td>\n",
              "      <td>-0.121</td>\n",
              "      <td>0.101</td>\n",
              "      <td>0.062</td>\n",
              "      <td>-0.145</td>\n",
              "    </tr>\n",
              "    <tr>\n",
              "      <th>chol</th>\n",
              "      <td>0.214</td>\n",
              "      <td>-0.198</td>\n",
              "      <td>-0.077</td>\n",
              "      <td>0.123</td>\n",
              "      <td>1.000</td>\n",
              "      <td>0.013</td>\n",
              "      <td>-0.151</td>\n",
              "      <td>-0.010</td>\n",
              "      <td>0.067</td>\n",
              "      <td>0.054</td>\n",
              "      <td>-0.004</td>\n",
              "      <td>0.071</td>\n",
              "      <td>0.099</td>\n",
              "      <td>-0.085</td>\n",
              "    </tr>\n",
              "    <tr>\n",
              "      <th>fbs</th>\n",
              "      <td>0.121</td>\n",
              "      <td>0.045</td>\n",
              "      <td>0.094</td>\n",
              "      <td>0.178</td>\n",
              "      <td>0.013</td>\n",
              "      <td>1.000</td>\n",
              "      <td>-0.084</td>\n",
              "      <td>-0.009</td>\n",
              "      <td>0.026</td>\n",
              "      <td>0.006</td>\n",
              "      <td>-0.060</td>\n",
              "      <td>0.138</td>\n",
              "      <td>-0.032</td>\n",
              "      <td>-0.028</td>\n",
              "    </tr>\n",
              "    <tr>\n",
              "      <th>restecg</th>\n",
              "      <td>-0.116</td>\n",
              "      <td>-0.058</td>\n",
              "      <td>0.044</td>\n",
              "      <td>-0.114</td>\n",
              "      <td>-0.151</td>\n",
              "      <td>-0.084</td>\n",
              "      <td>1.000</td>\n",
              "      <td>0.044</td>\n",
              "      <td>-0.071</td>\n",
              "      <td>-0.059</td>\n",
              "      <td>0.093</td>\n",
              "      <td>-0.072</td>\n",
              "      <td>-0.012</td>\n",
              "      <td>0.137</td>\n",
              "    </tr>\n",
              "    <tr>\n",
              "      <th>thalach</th>\n",
              "      <td>-0.399</td>\n",
              "      <td>-0.044</td>\n",
              "      <td>0.296</td>\n",
              "      <td>-0.047</td>\n",
              "      <td>-0.010</td>\n",
              "      <td>-0.009</td>\n",
              "      <td>0.044</td>\n",
              "      <td>1.000</td>\n",
              "      <td>-0.379</td>\n",
              "      <td>-0.344</td>\n",
              "      <td>0.387</td>\n",
              "      <td>-0.213</td>\n",
              "      <td>-0.096</td>\n",
              "      <td>0.422</td>\n",
              "    </tr>\n",
              "    <tr>\n",
              "      <th>exang</th>\n",
              "      <td>0.097</td>\n",
              "      <td>0.142</td>\n",
              "      <td>-0.394</td>\n",
              "      <td>0.068</td>\n",
              "      <td>0.067</td>\n",
              "      <td>0.026</td>\n",
              "      <td>-0.071</td>\n",
              "      <td>-0.379</td>\n",
              "      <td>1.000</td>\n",
              "      <td>0.288</td>\n",
              "      <td>-0.258</td>\n",
              "      <td>0.116</td>\n",
              "      <td>0.207</td>\n",
              "      <td>-0.437</td>\n",
              "    </tr>\n",
              "    <tr>\n",
              "      <th>oldpeak</th>\n",
              "      <td>0.210</td>\n",
              "      <td>0.096</td>\n",
              "      <td>-0.149</td>\n",
              "      <td>0.193</td>\n",
              "      <td>0.054</td>\n",
              "      <td>0.006</td>\n",
              "      <td>-0.059</td>\n",
              "      <td>-0.344</td>\n",
              "      <td>0.288</td>\n",
              "      <td>1.000</td>\n",
              "      <td>-0.578</td>\n",
              "      <td>0.223</td>\n",
              "      <td>0.210</td>\n",
              "      <td>-0.431</td>\n",
              "    </tr>\n",
              "    <tr>\n",
              "      <th>slope</th>\n",
              "      <td>-0.169</td>\n",
              "      <td>-0.031</td>\n",
              "      <td>0.120</td>\n",
              "      <td>-0.121</td>\n",
              "      <td>-0.004</td>\n",
              "      <td>-0.060</td>\n",
              "      <td>0.093</td>\n",
              "      <td>0.387</td>\n",
              "      <td>-0.258</td>\n",
              "      <td>-0.578</td>\n",
              "      <td>1.000</td>\n",
              "      <td>-0.080</td>\n",
              "      <td>-0.105</td>\n",
              "      <td>0.346</td>\n",
              "    </tr>\n",
              "    <tr>\n",
              "      <th>ca</th>\n",
              "      <td>0.276</td>\n",
              "      <td>0.118</td>\n",
              "      <td>-0.181</td>\n",
              "      <td>0.101</td>\n",
              "      <td>0.071</td>\n",
              "      <td>0.138</td>\n",
              "      <td>-0.072</td>\n",
              "      <td>-0.213</td>\n",
              "      <td>0.116</td>\n",
              "      <td>0.223</td>\n",
              "      <td>-0.080</td>\n",
              "      <td>1.000</td>\n",
              "      <td>0.152</td>\n",
              "      <td>-0.392</td>\n",
              "    </tr>\n",
              "    <tr>\n",
              "      <th>thal</th>\n",
              "      <td>0.068</td>\n",
              "      <td>0.210</td>\n",
              "      <td>-0.162</td>\n",
              "      <td>0.062</td>\n",
              "      <td>0.099</td>\n",
              "      <td>-0.032</td>\n",
              "      <td>-0.012</td>\n",
              "      <td>-0.096</td>\n",
              "      <td>0.207</td>\n",
              "      <td>0.210</td>\n",
              "      <td>-0.105</td>\n",
              "      <td>0.152</td>\n",
              "      <td>1.000</td>\n",
              "      <td>-0.344</td>\n",
              "    </tr>\n",
              "    <tr>\n",
              "      <th>target</th>\n",
              "      <td>-0.225</td>\n",
              "      <td>-0.281</td>\n",
              "      <td>0.434</td>\n",
              "      <td>-0.145</td>\n",
              "      <td>-0.085</td>\n",
              "      <td>-0.028</td>\n",
              "      <td>0.137</td>\n",
              "      <td>0.422</td>\n",
              "      <td>-0.437</td>\n",
              "      <td>-0.431</td>\n",
              "      <td>0.346</td>\n",
              "      <td>-0.392</td>\n",
              "      <td>-0.344</td>\n",
              "      <td>1.000</td>\n",
              "    </tr>\n",
              "  </tbody>\n",
              "</table>\n",
              "</div>"
            ],
            "text/plain": [
              "            age    sex     cp  trestbps   chol    fbs  restecg  thalach  exang  oldpeak  slope     ca   thal  target\n",
              "age       1.000 -0.098 -0.069     0.279  0.214  0.121   -0.116   -0.399  0.097    0.210 -0.169  0.276  0.068  -0.225\n",
              "sex      -0.098  1.000 -0.049    -0.057 -0.198  0.045   -0.058   -0.044  0.142    0.096 -0.031  0.118  0.210  -0.281\n",
              "cp       -0.069 -0.049  1.000     0.048 -0.077  0.094    0.044    0.296 -0.394   -0.149  0.120 -0.181 -0.162   0.434\n",
              "trestbps  0.279 -0.057  0.048     1.000  0.123  0.178   -0.114   -0.047  0.068    0.193 -0.121  0.101  0.062  -0.145\n",
              "chol      0.214 -0.198 -0.077     0.123  1.000  0.013   -0.151   -0.010  0.067    0.054 -0.004  0.071  0.099  -0.085\n",
              "fbs       0.121  0.045  0.094     0.178  0.013  1.000   -0.084   -0.009  0.026    0.006 -0.060  0.138 -0.032  -0.028\n",
              "restecg  -0.116 -0.058  0.044    -0.114 -0.151 -0.084    1.000    0.044 -0.071   -0.059  0.093 -0.072 -0.012   0.137\n",
              "thalach  -0.399 -0.044  0.296    -0.047 -0.010 -0.009    0.044    1.000 -0.379   -0.344  0.387 -0.213 -0.096   0.422\n",
              "exang     0.097  0.142 -0.394     0.068  0.067  0.026   -0.071   -0.379  1.000    0.288 -0.258  0.116  0.207  -0.437\n",
              "oldpeak   0.210  0.096 -0.149     0.193  0.054  0.006   -0.059   -0.344  0.288    1.000 -0.578  0.223  0.210  -0.431\n",
              "slope    -0.169 -0.031  0.120    -0.121 -0.004 -0.060    0.093    0.387 -0.258   -0.578  1.000 -0.080 -0.105   0.346\n",
              "ca        0.276  0.118 -0.181     0.101  0.071  0.138   -0.072   -0.213  0.116    0.223 -0.080  1.000  0.152  -0.392\n",
              "thal      0.068  0.210 -0.162     0.062  0.099 -0.032   -0.012   -0.096  0.207    0.210 -0.105  0.152  1.000  -0.344\n",
              "target   -0.225 -0.281  0.434    -0.145 -0.085 -0.028    0.137    0.422 -0.437   -0.431  0.346 -0.392 -0.344   1.000"
            ]
          },
          "metadata": {
            "tags": []
          },
          "execution_count": 12
        }
      ]
    },
    {
      "cell_type": "code",
      "metadata": {
        "id": "96wdMOV1RtQb"
      },
      "source": [
        ""
      ],
      "execution_count": null,
      "outputs": []
    }
  ]
}